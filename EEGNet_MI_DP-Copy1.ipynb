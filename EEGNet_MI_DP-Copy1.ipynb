{
 "cells": [
  {
   "cell_type": "code",
   "execution_count": 5,
   "id": "fe8d6f4a-2859-4289-8344-c4ba3743360a",
   "metadata": {},
   "outputs": [
    {
     "name": "stdout",
     "output_type": "stream",
     "text": [
      "Automatically created module for IPython interactive environment\n"
     ]
    }
   ],
   "source": [
    "import matplotlib.pyplot as plt\n",
    "import numpy as np\n",
    "from sklearn.discriminant_analysis import LinearDiscriminantAnalysis\n",
    "from sklearn.model_selection import ShuffleSplit, cross_val_score\n",
    "from sklearn.pipeline import Pipeline\n",
    "\n",
    "from EEGModels import EEGNet\n",
    "from mne import Epochs, pick_types\n",
    "from mne.channels import make_standard_montage\n",
    "from mne.datasets import eegbci\n",
    "from mne.decoding import CSP\n",
    "from mne.io import concatenate_raws, read_raw_edf\n",
    "\n",
    "print(__doc__)"
   ]
  },
  {
   "cell_type": "code",
   "execution_count": 6,
   "id": "24fec36d-67ef-4777-8603-8bd0d0f114c8",
   "metadata": {},
   "outputs": [],
   "source": [
    "import tensorflow as tf\n",
    "tf.compat.v1.disable_v2_behavior()\n",
    "from tensorflow_privacy.privacy.optimizers.dp_optimizer import DPGradientDescentGaussianOptimizer\n",
    "from tensorflow_privacy.privacy.analysis import compute_dp_sgd_privacy_lib"
   ]
  },
  {
   "cell_type": "code",
   "execution_count": 7,
   "id": "b3b412f3-7760-4e20-9e7f-da14dc33312c",
   "metadata": {},
   "outputs": [],
   "source": [
    "import h5py"
   ]
  },
  {
   "cell_type": "code",
   "execution_count": 8,
   "id": "0ac5eb4a-f70e-408a-bf92-a89c1325ac25",
   "metadata": {},
   "outputs": [],
   "source": [
    "from tensorflow.keras import utils as np_utils\n",
    "from tensorflow.keras.callbacks import ModelCheckpoint\n",
    "from tensorflow.keras import backend as K"
   ]
  },
  {
   "cell_type": "code",
   "execution_count": 9,
   "id": "bcf5dade-e238-405f-91cd-692cb6961d34",
   "metadata": {},
   "outputs": [
    {
     "name": "stdout",
     "output_type": "stream",
     "text": [
      "Extracting EDF parameters from /Users/isita/mne_data/MNE-eegbci-data/files/eegmmidb/1.0.0/S001/S001R06.edf...\n",
      "EDF file detected\n",
      "Setting channel info structure...\n",
      "Creating raw.info structure...\n",
      "Reading 0 ... 19999  =      0.000 ...   124.994 secs...\n",
      "Extracting EDF parameters from /Users/isita/mne_data/MNE-eegbci-data/files/eegmmidb/1.0.0/S001/S001R10.edf...\n",
      "EDF file detected\n",
      "Setting channel info structure...\n",
      "Creating raw.info structure...\n",
      "Reading 0 ... 19999  =      0.000 ...   124.994 secs...\n",
      "Extracting EDF parameters from /Users/isita/mne_data/MNE-eegbci-data/files/eegmmidb/1.0.0/S001/S001R14.edf...\n",
      "EDF file detected\n",
      "Setting channel info structure...\n",
      "Creating raw.info structure...\n",
      "Reading 0 ... 19999  =      0.000 ...   124.994 secs...\n",
      "Extracting EDF parameters from /Users/isita/mne_data/MNE-eegbci-data/files/eegmmidb/1.0.0/S002/S002R06.edf...\n",
      "EDF file detected\n",
      "Setting channel info structure...\n",
      "Creating raw.info structure...\n",
      "Reading 0 ... 19679  =      0.000 ...   122.994 secs...\n",
      "Extracting EDF parameters from /Users/isita/mne_data/MNE-eegbci-data/files/eegmmidb/1.0.0/S002/S002R10.edf...\n",
      "EDF file detected\n",
      "Setting channel info structure...\n",
      "Creating raw.info structure...\n",
      "Reading 0 ... 19679  =      0.000 ...   122.994 secs...\n",
      "Extracting EDF parameters from /Users/isita/mne_data/MNE-eegbci-data/files/eegmmidb/1.0.0/S002/S002R14.edf...\n",
      "EDF file detected\n",
      "Setting channel info structure...\n",
      "Creating raw.info structure...\n",
      "Reading 0 ... 19679  =      0.000 ...   122.994 secs...\n",
      "Extracting EDF parameters from /Users/isita/mne_data/MNE-eegbci-data/files/eegmmidb/1.0.0/S003/S003R06.edf...\n",
      "EDF file detected\n",
      "Setting channel info structure...\n",
      "Creating raw.info structure...\n",
      "Reading 0 ... 19999  =      0.000 ...   124.994 secs...\n",
      "Extracting EDF parameters from /Users/isita/mne_data/MNE-eegbci-data/files/eegmmidb/1.0.0/S003/S003R10.edf...\n",
      "EDF file detected\n",
      "Setting channel info structure...\n",
      "Creating raw.info structure...\n",
      "Reading 0 ... 19999  =      0.000 ...   124.994 secs...\n",
      "Extracting EDF parameters from /Users/isita/mne_data/MNE-eegbci-data/files/eegmmidb/1.0.0/S003/S003R14.edf...\n",
      "EDF file detected\n",
      "Setting channel info structure...\n",
      "Creating raw.info structure...\n",
      "Reading 0 ... 19999  =      0.000 ...   124.994 secs...\n",
      "Extracting EDF parameters from /Users/isita/mne_data/MNE-eegbci-data/files/eegmmidb/1.0.0/S004/S004R06.edf...\n",
      "EDF file detected\n",
      "Setting channel info structure...\n",
      "Creating raw.info structure...\n",
      "Reading 0 ... 19679  =      0.000 ...   122.994 secs...\n",
      "Extracting EDF parameters from /Users/isita/mne_data/MNE-eegbci-data/files/eegmmidb/1.0.0/S004/S004R10.edf...\n",
      "EDF file detected\n",
      "Setting channel info structure...\n",
      "Creating raw.info structure...\n",
      "Reading 0 ... 19679  =      0.000 ...   122.994 secs...\n",
      "Extracting EDF parameters from /Users/isita/mne_data/MNE-eegbci-data/files/eegmmidb/1.0.0/S004/S004R14.edf...\n",
      "EDF file detected\n",
      "Setting channel info structure...\n",
      "Creating raw.info structure...\n",
      "Reading 0 ... 19679  =      0.000 ...   122.994 secs...\n",
      "Extracting EDF parameters from /Users/isita/mne_data/MNE-eegbci-data/files/eegmmidb/1.0.0/S005/S005R06.edf...\n",
      "EDF file detected\n",
      "Setting channel info structure...\n",
      "Creating raw.info structure...\n",
      "Reading 0 ... 19679  =      0.000 ...   122.994 secs...\n",
      "Extracting EDF parameters from /Users/isita/mne_data/MNE-eegbci-data/files/eegmmidb/1.0.0/S005/S005R10.edf...\n",
      "EDF file detected\n",
      "Setting channel info structure...\n",
      "Creating raw.info structure...\n",
      "Reading 0 ... 19679  =      0.000 ...   122.994 secs...\n",
      "Extracting EDF parameters from /Users/isita/mne_data/MNE-eegbci-data/files/eegmmidb/1.0.0/S005/S005R14.edf...\n",
      "EDF file detected\n",
      "Setting channel info structure...\n",
      "Creating raw.info structure...\n",
      "Reading 0 ... 19679  =      0.000 ...   122.994 secs...\n",
      "Extracting EDF parameters from /Users/isita/mne_data/MNE-eegbci-data/files/eegmmidb/1.0.0/S006/S006R06.edf...\n",
      "EDF file detected\n",
      "Setting channel info structure...\n",
      "Creating raw.info structure...\n",
      "Reading 0 ... 19679  =      0.000 ...   122.994 secs...\n",
      "Extracting EDF parameters from /Users/isita/mne_data/MNE-eegbci-data/files/eegmmidb/1.0.0/S006/S006R10.edf...\n",
      "EDF file detected\n",
      "Setting channel info structure...\n",
      "Creating raw.info structure...\n",
      "Reading 0 ... 19679  =      0.000 ...   122.994 secs...\n",
      "Extracting EDF parameters from /Users/isita/mne_data/MNE-eegbci-data/files/eegmmidb/1.0.0/S006/S006R14.edf...\n",
      "EDF file detected\n",
      "Setting channel info structure...\n",
      "Creating raw.info structure...\n",
      "Reading 0 ... 19679  =      0.000 ...   122.994 secs...\n",
      "Extracting EDF parameters from /Users/isita/mne_data/MNE-eegbci-data/files/eegmmidb/1.0.0/S007/S007R06.edf...\n",
      "EDF file detected\n",
      "Setting channel info structure...\n",
      "Creating raw.info structure...\n",
      "Reading 0 ... 19999  =      0.000 ...   124.994 secs...\n",
      "Extracting EDF parameters from /Users/isita/mne_data/MNE-eegbci-data/files/eegmmidb/1.0.0/S007/S007R10.edf...\n",
      "EDF file detected\n",
      "Setting channel info structure...\n",
      "Creating raw.info structure...\n",
      "Reading 0 ... 19999  =      0.000 ...   124.994 secs...\n",
      "Extracting EDF parameters from /Users/isita/mne_data/MNE-eegbci-data/files/eegmmidb/1.0.0/S007/S007R14.edf...\n",
      "EDF file detected\n",
      "Setting channel info structure...\n",
      "Creating raw.info structure...\n",
      "Reading 0 ... 19999  =      0.000 ...   124.994 secs...\n",
      "Extracting EDF parameters from /Users/isita/mne_data/MNE-eegbci-data/files/eegmmidb/1.0.0/S008/S008R06.edf...\n",
      "EDF file detected\n",
      "Setting channel info structure...\n",
      "Creating raw.info structure...\n",
      "Reading 0 ... 19679  =      0.000 ...   122.994 secs...\n",
      "Extracting EDF parameters from /Users/isita/mne_data/MNE-eegbci-data/files/eegmmidb/1.0.0/S008/S008R10.edf...\n",
      "EDF file detected\n",
      "Setting channel info structure...\n",
      "Creating raw.info structure...\n",
      "Reading 0 ... 19679  =      0.000 ...   122.994 secs...\n",
      "Extracting EDF parameters from /Users/isita/mne_data/MNE-eegbci-data/files/eegmmidb/1.0.0/S008/S008R14.edf...\n",
      "EDF file detected\n",
      "Setting channel info structure...\n",
      "Creating raw.info structure...\n",
      "Reading 0 ... 19679  =      0.000 ...   122.994 secs...\n",
      "Extracting EDF parameters from /Users/isita/mne_data/MNE-eegbci-data/files/eegmmidb/1.0.0/S009/S009R06.edf...\n",
      "EDF file detected\n",
      "Setting channel info structure...\n",
      "Creating raw.info structure...\n",
      "Reading 0 ... 19679  =      0.000 ...   122.994 secs...\n",
      "Extracting EDF parameters from /Users/isita/mne_data/MNE-eegbci-data/files/eegmmidb/1.0.0/S009/S009R10.edf...\n",
      "EDF file detected\n",
      "Setting channel info structure...\n",
      "Creating raw.info structure...\n",
      "Reading 0 ... 19679  =      0.000 ...   122.994 secs...\n",
      "Extracting EDF parameters from /Users/isita/mne_data/MNE-eegbci-data/files/eegmmidb/1.0.0/S009/S009R14.edf...\n",
      "EDF file detected\n",
      "Setting channel info structure...\n",
      "Creating raw.info structure...\n",
      "Reading 0 ... 19679  =      0.000 ...   122.994 secs...\n",
      "EEG channel type selected for re-referencing\n",
      "Adding average EEG reference projection.\n",
      "1 projection items deactivated\n",
      "Average reference projection was added, but has not been applied yet. Use the apply_proj method to apply it.\n",
      "Filtering raw data in 27 contiguous segments\n",
      "Setting up band-pass filter from 7 - 30 Hz\n",
      "\n",
      "FIR filter parameters\n",
      "---------------------\n",
      "Designing a one-pass, zero-phase, non-causal bandpass filter:\n",
      "- Windowed time-domain design (firwin) method\n",
      "- Hamming window with 0.0194 passband ripple and 53 dB stopband attenuation\n",
      "- Lower passband edge: 7.00\n",
      "- Lower transition bandwidth: 2.00 Hz (-6 dB cutoff frequency: 6.00 Hz)\n",
      "- Upper passband edge: 30.00 Hz\n",
      "- Upper transition bandwidth: 7.50 Hz (-6 dB cutoff frequency: 33.75 Hz)\n",
      "- Filter length: 265 samples (1.656 s)\n",
      "\n"
     ]
    },
    {
     "name": "stderr",
     "output_type": "stream",
     "text": [
      "[Parallel(n_jobs=1)]: Done  17 tasks      | elapsed:    0.0s\n"
     ]
    },
    {
     "name": "stdout",
     "output_type": "stream",
     "text": [
      "Used Annotations descriptions: ['T0', 'feet', 'hands']\n",
      "Ignoring annotation durations and creating fixed-duration epochs around annotation onsets.\n",
      "Not setting metadata\n",
      "405 matching events found\n",
      "No baseline correction applied\n",
      "Created an SSP operator (subspace dimension = 1)\n",
      "1 projection items activated\n",
      "Using data from preloaded Raw for 405 events and 801 original time points ...\n",
      "0 bad epochs dropped\n"
     ]
    }
   ],
   "source": [
    "# #############################################################################\n",
    "# # Set parameters and read data\n",
    "\n",
    "# avoid classification of evoked responses by using epochs that start 1s after\n",
    "# cue onset.\n",
    "tmin, tmax = -1.0, 4.0\n",
    "subjects = range(1,10)\n",
    "runs = [6, 10, 14]  # motor imagery: hands vs feet\n",
    "\n",
    "raw_fnames = eegbci.load_data(subjects, runs)\n",
    "raw = concatenate_raws([read_raw_edf(f, preload=True) for f in raw_fnames])\n",
    "eegbci.standardize(raw)  # set channel names\n",
    "montage = make_standard_montage(\"standard_1005\")\n",
    "raw.set_montage(montage)\n",
    "raw.annotations.rename(dict(T1=\"hands\", T2=\"feet\"))  # as documented on PhysioNet\n",
    "raw.set_eeg_reference(projection=True)\n",
    "\n",
    "# Apply band-pass filter\n",
    "raw.filter(7.0, 30.0, fir_design=\"firwin\", skip_by_annotation=\"edge\")\n",
    "\n",
    "picks = pick_types(raw.info, meg=False, eeg=True, stim=False, eog=False, exclude=\"bads\")\n",
    "\n",
    "# Read epochs (train will be done only between 1 and 2s)\n",
    "# Testing will be done with a running classifier\n",
    "epochs = Epochs(\n",
    "    raw,\n",
    "    event_id=[\"hands\", \"feet\"],\n",
    "    tmin=tmin,\n",
    "    tmax=tmax,\n",
    "    proj=True,\n",
    "    picks=picks,\n",
    "    baseline=None,\n",
    "    preload=True,\n",
    ")\n",
    "epochs_train = epochs.copy().crop(tmin=1.0, tmax=2.0)\n",
    "labels = epochs.events[:, -1] - 2"
   ]
  },
  {
   "cell_type": "code",
   "execution_count": 52,
   "id": "ce10d760-c0ad-4b5f-92ca-4ff481216017",
   "metadata": {},
   "outputs": [],
   "source": [
    "epochs_train = epochs.copy().crop(tmin=1.0, tmax=2.0)\n",
    "labels = epochs.events[:, -1] - 2"
   ]
  },
  {
   "cell_type": "code",
   "execution_count": 53,
   "id": "f56158f4-0ec8-49df-b802-d6d6e0c1a864",
   "metadata": {},
   "outputs": [
    {
     "data": {
      "text/plain": [
       "array([0, 1, 1, 0, 1, 0, 0, 1, 1, 0, 0, 1, 1, 0, 0, 1, 0, 0, 1, 0, 1, 1,\n",
       "       0, 0, 1, 1, 0, 0, 1, 0, 0, 1, 0, 1, 1, 0, 1, 0, 1, 0, 0, 1, 0, 1,\n",
       "       0, 1, 0, 0, 1, 0, 1, 0, 1, 0, 1, 1, 0, 0, 1, 1, 0, 1, 0, 1, 1, 0,\n",
       "       1, 0, 0, 1, 0, 1, 0, 1, 1, 1, 0, 1, 0, 1, 0, 1, 0, 0, 1, 1, 0, 1,\n",
       "       0, 1, 0, 1, 1, 0, 1, 0, 1, 0, 0, 1, 0, 1, 0, 1, 0, 1, 0, 1, 0, 0,\n",
       "       1, 1, 0, 1, 0, 1, 0, 0, 1, 0, 1, 0, 1, 0, 0, 1, 0, 1, 1, 0, 1, 0,\n",
       "       0, 1, 0, 1, 0, 0, 1, 1, 0, 0, 1, 0, 1, 0, 1, 1, 0, 1, 1, 0, 0, 1,\n",
       "       1, 0, 0, 1, 1, 0, 0, 1, 0, 1, 0, 1, 0, 0, 1, 1, 0, 0, 1, 1, 0, 1,\n",
       "       0, 0, 1, 0, 1, 0, 1, 0, 0, 1, 0, 1, 1, 0, 0, 1, 0, 1, 0, 0, 1, 0,\n",
       "       1, 1, 0, 1, 0, 0, 1, 0, 1, 1, 0, 1, 1, 0, 0, 1, 0, 1, 1, 0, 0, 1,\n",
       "       0, 1, 1, 0, 1, 0, 1, 1, 0, 0, 1, 1, 0, 0, 1, 1, 0, 0, 1, 0, 0, 1,\n",
       "       0, 1, 1, 0, 1, 0, 1, 0, 0, 1, 0, 1, 0, 1, 0, 0, 1, 1, 0, 1, 0, 0,\n",
       "       1, 0, 1, 0, 1, 1, 1, 0, 1, 0, 1, 0, 0, 1, 1, 0, 0, 1, 0, 1, 0, 0,\n",
       "       1, 0, 1, 0, 1, 0, 1, 0, 1, 1, 0, 0, 1, 1, 1, 0, 0, 1, 1, 0, 0, 1,\n",
       "       0, 1, 1, 0, 1, 0, 0, 0, 1, 0, 1, 0, 1, 1, 0, 1, 0, 0, 1, 1, 0, 0,\n",
       "       1, 0, 1, 0, 0, 1, 1, 0, 0, 1, 0, 1, 1, 0, 1, 1, 0, 1, 0, 1, 0, 1,\n",
       "       0, 1, 0, 0, 1, 1, 0, 1, 0, 1, 1, 0, 1, 0, 0, 1, 1, 0, 1, 0, 0, 1,\n",
       "       1, 1, 0, 1, 0, 0, 1, 1, 0, 0, 1, 0, 1, 1, 0, 1, 0, 1, 0, 1, 1, 0,\n",
       "       1, 0, 1, 0, 0, 1, 1, 0, 0])"
      ]
     },
     "execution_count": 53,
     "metadata": {},
     "output_type": "execute_result"
    }
   ],
   "source": [
    "labels"
   ]
  },
  {
   "cell_type": "code",
   "execution_count": 33,
   "id": "dc2e0c7a-0cbe-4e52-ba41-c9f4899d8491",
   "metadata": {},
   "outputs": [],
   "source": [
    "# labels = np_utils.to_categorical(labels)"
   ]
  },
  {
   "cell_type": "code",
   "execution_count": 197,
   "id": "fe95232b-a26d-4e10-9405-4dff0354c9ea",
   "metadata": {},
   "outputs": [],
   "source": [
    "# extract raw data. scale by 1000 due to scaling sensitivity in deep learning\n",
    "X = epochs.get_data()*1000 # format is in (trials, channels, samples)\n",
    "y = labels\n",
    "\n",
    "kernels, chans, samples = 1, 64, 801"
   ]
  },
  {
   "cell_type": "code",
   "execution_count": 198,
   "id": "0ff3ff00-b005-4f33-8951-301e8635d9bf",
   "metadata": {},
   "outputs": [
    {
     "name": "stdout",
     "output_type": "stream",
     "text": [
      "(405, 64, 801) (405,)\n"
     ]
    }
   ],
   "source": [
    "print(X.shape, y.shape)"
   ]
  },
  {
   "cell_type": "code",
   "execution_count": 241,
   "id": "d58a5551-39be-42c8-a272-e704330bb6f4",
   "metadata": {},
   "outputs": [],
   "source": [
    "X_train      = X[0:224,]\n",
    "Y_train      = y[0:224]\n",
    "X_validate   = X[224:320,]\n",
    "Y_validate   = y[224:320]\n",
    "X_test       = X[320:416]\n",
    "Y_test       = y[320:416]"
   ]
  },
  {
   "cell_type": "code",
   "execution_count": 242,
   "id": "11dc6b53-286d-4e66-b760-53ed7cdd358f",
   "metadata": {},
   "outputs": [
    {
     "name": "stdout",
     "output_type": "stream",
     "text": [
      "X_train shape: (224, 64, 801, 1)\n",
      "224 train samples\n",
      "85 test samples\n"
     ]
    }
   ],
   "source": [
    "X_train      = X_train.reshape(X_train.shape[0], chans, samples, kernels)\n",
    "X_validate   = X_validate.reshape(X_validate.shape[0], chans, samples, kernels)\n",
    "X_test       = X_test.reshape(X_test.shape[0], chans, samples, kernels)\n",
    "   \n",
    "print('X_train shape:', X_train.shape)\n",
    "print(X_train.shape[0], 'train samples')\n",
    "print(X_test.shape[0], 'test samples')"
   ]
  },
  {
   "cell_type": "code",
   "execution_count": 243,
   "id": "8f230e5d-cf35-4578-a6ab-9fea2e942511",
   "metadata": {},
   "outputs": [],
   "source": [
    "l2_norm_clip = 1.5\n",
    "noise_multiplier = 1.5 # was 1.3\n",
    "batch_size = 16\n",
    "num_microbatches = 16\n",
    "learning_rate = 0.25\n",
    "batch_size = 16"
   ]
  },
  {
   "cell_type": "code",
   "execution_count": 244,
   "id": "8a168cf5-f7e1-464e-a058-1973860e585e",
   "metadata": {},
   "outputs": [],
   "source": [
    "# configure the EEGNet-8,2,16 model with kernel length of 32 samples (other \n",
    "# model configurations may do better, but this is a good starting point)\n",
    "model = EEGNet(nb_classes = 2, Chans = chans, Samples = samples,\n",
    "               dropoutRate = 0.5, kernLength = 32, F1 = 8, D = 2, F2 = 16, \n",
    "               dropoutType = 'Dropout')"
   ]
  },
  {
   "cell_type": "code",
   "execution_count": 245,
   "id": "fba3f9b1-e32b-4f5f-a9d6-692cc034c026",
   "metadata": {},
   "outputs": [],
   "source": [
    "optimizer = DPGradientDescentGaussianOptimizer(\n",
    "    l2_norm_clip=1.0,      # Gradient clipping norm\n",
    "    noise_multiplier=noise_multiplier,  # Controls privacy strength (lower = more privacy)\n",
    "    num_microbatches=num_microbatches, # Use per-example gradients\n",
    "    learning_rate=0.001\n",
    ")\n",
    "\n",
    "loss = tf.keras.losses.SparseCategoricalCrossentropy(\n",
    "    from_logits=False, reduction=tf.losses.Reduction.NONE)"
   ]
  },
  {
   "cell_type": "code",
   "execution_count": 246,
   "id": "86f3c3d1-2246-4bec-91f8-4962f67add06",
   "metadata": {},
   "outputs": [],
   "source": [
    "# compile the model and set the optimizers\n",
    "model.compile(loss=loss, \n",
    "              optimizer=optimizer,\n",
    "              metrics = ['accuracy'])"
   ]
  },
  {
   "cell_type": "code",
   "execution_count": 247,
   "id": "0b3c8969-798e-4670-9279-641a4322c363",
   "metadata": {},
   "outputs": [],
   "source": [
    "import time\n",
    "\n",
    "class timing(tf.keras.callbacks.Callback):\n",
    "    def on_train_begin(self, logs=None):\n",
    "        self.start_time = time.time()\n",
    "    \n",
    "    def on_train_end(self, logs=None):\n",
    "        self.total_time = time.time() - self.start_time\n",
    "        print(f\"Total training time: {self.total_time:.2f} seconds\")"
   ]
  },
  {
   "cell_type": "code",
   "execution_count": 248,
   "id": "a042f220-6e56-4c39-8bab-95f26da1237b",
   "metadata": {},
   "outputs": [
    {
     "name": "stdout",
     "output_type": "stream",
     "text": [
      "Train on 224 samples, validate on 96 samples\n"
     ]
    },
    {
     "name": "stderr",
     "output_type": "stream",
     "text": [
      "2025-06-10 08:03:59.024281: W tensorflow/c/c_api.cc:305] Operation '{name:'batch_normalization_31/moving_variance/Assign' id:22468 op device:{requested: '', assigned: ''} def:{{{node batch_normalization_31/moving_variance/Assign}} = AssignVariableOp[_has_manual_control_dependencies=true, dtype=DT_FLOAT, validate_shape=false](batch_normalization_31/moving_variance, batch_normalization_31/moving_variance/Initializer/ones)}}' was changed by setting attribute after it was run by a session. This mutation will have no effect, and will trigger an error in the future. Either don't modify nodes after running them or create a new session.\n"
     ]
    },
    {
     "name": "stdout",
     "output_type": "stream",
     "text": [
      "Epoch 1/100\n"
     ]
    },
    {
     "name": "stderr",
     "output_type": "stream",
     "text": [
      "/opt/anaconda3/envs/zazu2/lib/python3.11/site-packages/keras/src/engine/training_v1.py:2335: UserWarning: `Model.state_updates` will be removed in a future version. This property should not be used in TensorFlow 2.0, as `updates` are applied automatically.\n",
      "  updates = self.state_updates\n"
     ]
    },
    {
     "name": "stdout",
     "output_type": "stream",
     "text": [
      "224/224 - 9s - loss: 0.7134 - acc: 0.4821 - val_loss: 0.6932 - val_acc: 0.4896 - 9s/epoch - 42ms/sample\n",
      "Epoch 2/100\n",
      "224/224 - 9s - loss: 0.6926 - acc: 0.5000 - val_loss: 0.6932 - val_acc: 0.4896 - 9s/epoch - 40ms/sample\n",
      "Epoch 3/100\n",
      "224/224 - 9s - loss: 0.6953 - acc: 0.4955 - val_loss: 0.6932 - val_acc: 0.4896 - 9s/epoch - 41ms/sample\n",
      "Epoch 4/100\n",
      "224/224 - 9s - loss: 0.6933 - acc: 0.5089 - val_loss: 0.6932 - val_acc: 0.4896 - 9s/epoch - 41ms/sample\n",
      "Epoch 5/100\n",
      "224/224 - 9s - loss: 0.6843 - acc: 0.5312 - val_loss: 0.6932 - val_acc: 0.4896 - 9s/epoch - 39ms/sample\n",
      "Epoch 6/100\n",
      "224/224 - 9s - loss: 0.6900 - acc: 0.5312 - val_loss: 0.6933 - val_acc: 0.4896 - 9s/epoch - 39ms/sample\n",
      "Epoch 7/100\n",
      "224/224 - 9s - loss: 0.6928 - acc: 0.5134 - val_loss: 0.6933 - val_acc: 0.4896 - 9s/epoch - 39ms/sample\n",
      "Epoch 8/100\n",
      "224/224 - 9s - loss: 0.6884 - acc: 0.5268 - val_loss: 0.6933 - val_acc: 0.4896 - 9s/epoch - 39ms/sample\n",
      "Epoch 9/100\n",
      "224/224 - 9s - loss: 0.6883 - acc: 0.5223 - val_loss: 0.6933 - val_acc: 0.4896 - 9s/epoch - 39ms/sample\n",
      "Epoch 10/100\n",
      "224/224 - 9s - loss: 0.6884 - acc: 0.5580 - val_loss: 0.6933 - val_acc: 0.4896 - 9s/epoch - 39ms/sample\n",
      "Epoch 11/100\n",
      "224/224 - 9s - loss: 0.6908 - acc: 0.5089 - val_loss: 0.6933 - val_acc: 0.4896 - 9s/epoch - 41ms/sample\n",
      "Epoch 12/100\n",
      "224/224 - 9s - loss: 0.6894 - acc: 0.5446 - val_loss: 0.6934 - val_acc: 0.4896 - 9s/epoch - 39ms/sample\n",
      "Epoch 13/100\n",
      "224/224 - 9s - loss: 0.6843 - acc: 0.5402 - val_loss: 0.6934 - val_acc: 0.4896 - 9s/epoch - 40ms/sample\n",
      "Epoch 14/100\n",
      "224/224 - 9s - loss: 0.6958 - acc: 0.4955 - val_loss: 0.6934 - val_acc: 0.4896 - 9s/epoch - 39ms/sample\n",
      "Epoch 15/100\n",
      "224/224 - 9s - loss: 0.6941 - acc: 0.5268 - val_loss: 0.6934 - val_acc: 0.4896 - 9s/epoch - 39ms/sample\n",
      "Epoch 16/100\n",
      "224/224 - 9s - loss: 0.6843 - acc: 0.5759 - val_loss: 0.6935 - val_acc: 0.4896 - 9s/epoch - 39ms/sample\n",
      "Epoch 17/100\n",
      "224/224 - 9s - loss: 0.6913 - acc: 0.5223 - val_loss: 0.6935 - val_acc: 0.4896 - 9s/epoch - 39ms/sample\n",
      "Epoch 18/100\n",
      "224/224 - 9s - loss: 0.6896 - acc: 0.5536 - val_loss: 0.6935 - val_acc: 0.4896 - 9s/epoch - 39ms/sample\n",
      "Epoch 19/100\n",
      "224/224 - 10s - loss: 0.6896 - acc: 0.4911 - val_loss: 0.6935 - val_acc: 0.4896 - 10s/epoch - 43ms/sample\n",
      "Epoch 20/100\n",
      "224/224 - 10s - loss: 0.6939 - acc: 0.5402 - val_loss: 0.6936 - val_acc: 0.4896 - 10s/epoch - 43ms/sample\n",
      "Epoch 21/100\n",
      "224/224 - 9s - loss: 0.6914 - acc: 0.4821 - val_loss: 0.6936 - val_acc: 0.4896 - 9s/epoch - 39ms/sample\n",
      "Epoch 22/100\n",
      "224/224 - 9s - loss: 0.6859 - acc: 0.5580 - val_loss: 0.6937 - val_acc: 0.4896 - 9s/epoch - 42ms/sample\n",
      "Epoch 23/100\n",
      "224/224 - 9s - loss: 0.6879 - acc: 0.5625 - val_loss: 0.6937 - val_acc: 0.4896 - 9s/epoch - 39ms/sample\n",
      "Epoch 24/100\n",
      "224/224 - 9s - loss: 0.6929 - acc: 0.5045 - val_loss: 0.6938 - val_acc: 0.4896 - 9s/epoch - 39ms/sample\n",
      "Epoch 25/100\n",
      "224/224 - 9s - loss: 0.6874 - acc: 0.5714 - val_loss: 0.6938 - val_acc: 0.4896 - 9s/epoch - 39ms/sample\n",
      "Epoch 26/100\n",
      "224/224 - 9s - loss: 0.6929 - acc: 0.5000 - val_loss: 0.6938 - val_acc: 0.4896 - 9s/epoch - 39ms/sample\n",
      "Epoch 27/100\n",
      "224/224 - 9s - loss: 0.6951 - acc: 0.4955 - val_loss: 0.6938 - val_acc: 0.4896 - 9s/epoch - 39ms/sample\n",
      "Epoch 28/100\n",
      "224/224 - 9s - loss: 0.6888 - acc: 0.5625 - val_loss: 0.6938 - val_acc: 0.4896 - 9s/epoch - 39ms/sample\n",
      "Epoch 29/100\n",
      "224/224 - 9s - loss: 0.6914 - acc: 0.5536 - val_loss: 0.6939 - val_acc: 0.4896 - 9s/epoch - 39ms/sample\n",
      "Epoch 30/100\n",
      "224/224 - 9s - loss: 0.6976 - acc: 0.4598 - val_loss: 0.6939 - val_acc: 0.4896 - 9s/epoch - 39ms/sample\n",
      "Epoch 31/100\n",
      "224/224 - 9s - loss: 0.6894 - acc: 0.5446 - val_loss: 0.6940 - val_acc: 0.4896 - 9s/epoch - 39ms/sample\n",
      "Epoch 32/100\n",
      "224/224 - 9s - loss: 0.6915 - acc: 0.5446 - val_loss: 0.6940 - val_acc: 0.4896 - 9s/epoch - 40ms/sample\n",
      "Epoch 33/100\n",
      "224/224 - 9s - loss: 0.6956 - acc: 0.5045 - val_loss: 0.6941 - val_acc: 0.4896 - 9s/epoch - 39ms/sample\n",
      "Epoch 34/100\n",
      "224/224 - 9s - loss: 0.6868 - acc: 0.5670 - val_loss: 0.6942 - val_acc: 0.4896 - 9s/epoch - 41ms/sample\n",
      "Epoch 35/100\n",
      "224/224 - 10s - loss: 0.6918 - acc: 0.5089 - val_loss: 0.6942 - val_acc: 0.4896 - 10s/epoch - 43ms/sample\n",
      "Epoch 36/100\n",
      "224/224 - 9s - loss: 0.6848 - acc: 0.5670 - val_loss: 0.6943 - val_acc: 0.4896 - 9s/epoch - 42ms/sample\n",
      "Epoch 37/100\n",
      "224/224 - 9s - loss: 0.6871 - acc: 0.5357 - val_loss: 0.6943 - val_acc: 0.4896 - 9s/epoch - 40ms/sample\n",
      "Epoch 38/100\n",
      "224/224 - 9s - loss: 0.6955 - acc: 0.5089 - val_loss: 0.6944 - val_acc: 0.4896 - 9s/epoch - 40ms/sample\n",
      "Epoch 39/100\n",
      "224/224 - 9s - loss: 0.6921 - acc: 0.5134 - val_loss: 0.6945 - val_acc: 0.4792 - 9s/epoch - 41ms/sample\n",
      "Epoch 40/100\n",
      "224/224 - 9s - loss: 0.6803 - acc: 0.5625 - val_loss: 0.6945 - val_acc: 0.4792 - 9s/epoch - 40ms/sample\n",
      "Epoch 41/100\n",
      "224/224 - 9s - loss: 0.6968 - acc: 0.4866 - val_loss: 0.6946 - val_acc: 0.4792 - 9s/epoch - 39ms/sample\n",
      "Epoch 42/100\n",
      "224/224 - 9s - loss: 0.6836 - acc: 0.5446 - val_loss: 0.6946 - val_acc: 0.4792 - 9s/epoch - 39ms/sample\n",
      "Epoch 43/100\n",
      "224/224 - 9s - loss: 0.6923 - acc: 0.5000 - val_loss: 0.6946 - val_acc: 0.4792 - 9s/epoch - 39ms/sample\n",
      "Epoch 44/100\n",
      "224/224 - 9s - loss: 0.6859 - acc: 0.5759 - val_loss: 0.6946 - val_acc: 0.4583 - 9s/epoch - 39ms/sample\n",
      "Epoch 45/100\n",
      "224/224 - 9s - loss: 0.6864 - acc: 0.5759 - val_loss: 0.6946 - val_acc: 0.4792 - 9s/epoch - 39ms/sample\n",
      "Epoch 46/100\n",
      "224/224 - 9s - loss: 0.6893 - acc: 0.5089 - val_loss: 0.6947 - val_acc: 0.4583 - 9s/epoch - 39ms/sample\n",
      "Epoch 47/100\n",
      "224/224 - 9s - loss: 0.6940 - acc: 0.5000 - val_loss: 0.6947 - val_acc: 0.4167 - 9s/epoch - 40ms/sample\n",
      "Epoch 48/100\n",
      "224/224 - 9s - loss: 0.6903 - acc: 0.5402 - val_loss: 0.6948 - val_acc: 0.4167 - 9s/epoch - 39ms/sample\n",
      "Epoch 49/100\n",
      "224/224 - 9s - loss: 0.6974 - acc: 0.4688 - val_loss: 0.6948 - val_acc: 0.3958 - 9s/epoch - 40ms/sample\n",
      "Epoch 50/100\n",
      "224/224 - 9s - loss: 0.6889 - acc: 0.5223 - val_loss: 0.6949 - val_acc: 0.4062 - 9s/epoch - 40ms/sample\n",
      "Epoch 51/100\n",
      "224/224 - 9s - loss: 0.6868 - acc: 0.5714 - val_loss: 0.6948 - val_acc: 0.4062 - 9s/epoch - 39ms/sample\n",
      "Epoch 52/100\n",
      "224/224 - 9s - loss: 0.6977 - acc: 0.4911 - val_loss: 0.6949 - val_acc: 0.4375 - 9s/epoch - 40ms/sample\n",
      "Epoch 53/100\n",
      "224/224 - 9s - loss: 0.6933 - acc: 0.5536 - val_loss: 0.6948 - val_acc: 0.4583 - 9s/epoch - 41ms/sample\n",
      "Epoch 54/100\n",
      "224/224 - 9s - loss: 0.6973 - acc: 0.4554 - val_loss: 0.6949 - val_acc: 0.4271 - 9s/epoch - 39ms/sample\n",
      "Epoch 55/100\n",
      "224/224 - 9s - loss: 0.6884 - acc: 0.5670 - val_loss: 0.6949 - val_acc: 0.4583 - 9s/epoch - 42ms/sample\n",
      "Epoch 56/100\n",
      "224/224 - 9s - loss: 0.6890 - acc: 0.5312 - val_loss: 0.6949 - val_acc: 0.4583 - 9s/epoch - 40ms/sample\n",
      "Epoch 57/100\n",
      "224/224 - 9s - loss: 0.6845 - acc: 0.5625 - val_loss: 0.6949 - val_acc: 0.4583 - 9s/epoch - 39ms/sample\n",
      "Epoch 58/100\n",
      "224/224 - 9s - loss: 0.6887 - acc: 0.5268 - val_loss: 0.6950 - val_acc: 0.4688 - 9s/epoch - 39ms/sample\n",
      "Epoch 59/100\n",
      "224/224 - 10s - loss: 0.6893 - acc: 0.5134 - val_loss: 0.6950 - val_acc: 0.4583 - 10s/epoch - 43ms/sample\n",
      "Epoch 60/100\n",
      "224/224 - 9s - loss: 0.6901 - acc: 0.5804 - val_loss: 0.6949 - val_acc: 0.4583 - 9s/epoch - 41ms/sample\n",
      "Epoch 61/100\n",
      "224/224 - 9s - loss: 0.6894 - acc: 0.5446 - val_loss: 0.6948 - val_acc: 0.4583 - 9s/epoch - 39ms/sample\n",
      "Epoch 62/100\n",
      "224/224 - 9s - loss: 0.6924 - acc: 0.5089 - val_loss: 0.6949 - val_acc: 0.4688 - 9s/epoch - 39ms/sample\n",
      "Epoch 63/100\n",
      "224/224 - 9s - loss: 0.6876 - acc: 0.5134 - val_loss: 0.6951 - val_acc: 0.4583 - 9s/epoch - 38ms/sample\n",
      "Epoch 64/100\n",
      "224/224 - 9s - loss: 0.6894 - acc: 0.5089 - val_loss: 0.6951 - val_acc: 0.4479 - 9s/epoch - 39ms/sample\n",
      "Epoch 65/100\n",
      "224/224 - 9s - loss: 0.6916 - acc: 0.5312 - val_loss: 0.6952 - val_acc: 0.4479 - 9s/epoch - 39ms/sample\n",
      "Epoch 66/100\n",
      "224/224 - 9s - loss: 0.6857 - acc: 0.5625 - val_loss: 0.6950 - val_acc: 0.4479 - 9s/epoch - 39ms/sample\n",
      "Epoch 67/100\n",
      "224/224 - 9s - loss: 0.6964 - acc: 0.4821 - val_loss: 0.6951 - val_acc: 0.4583 - 9s/epoch - 39ms/sample\n",
      "Epoch 68/100\n",
      "224/224 - 9s - loss: 0.6937 - acc: 0.4955 - val_loss: 0.6951 - val_acc: 0.4583 - 9s/epoch - 39ms/sample\n",
      "Epoch 69/100\n",
      "224/224 - 9s - loss: 0.6838 - acc: 0.5804 - val_loss: 0.6952 - val_acc: 0.4583 - 9s/epoch - 39ms/sample\n",
      "Epoch 70/100\n",
      "224/224 - 9s - loss: 0.6869 - acc: 0.6205 - val_loss: 0.6951 - val_acc: 0.4479 - 9s/epoch - 39ms/sample\n",
      "Epoch 71/100\n",
      "224/224 - 9s - loss: 0.6944 - acc: 0.5134 - val_loss: 0.6951 - val_acc: 0.4583 - 9s/epoch - 39ms/sample\n",
      "Epoch 72/100\n",
      "224/224 - 9s - loss: 0.6910 - acc: 0.5402 - val_loss: 0.6952 - val_acc: 0.4479 - 9s/epoch - 39ms/sample\n",
      "Epoch 73/100\n",
      "224/224 - 9s - loss: 0.6879 - acc: 0.5670 - val_loss: 0.6952 - val_acc: 0.4688 - 9s/epoch - 39ms/sample\n",
      "Epoch 74/100\n",
      "224/224 - 9s - loss: 0.6922 - acc: 0.5491 - val_loss: 0.6953 - val_acc: 0.4688 - 9s/epoch - 39ms/sample\n",
      "Epoch 75/100\n",
      "224/224 - 9s - loss: 0.6879 - acc: 0.5446 - val_loss: 0.6954 - val_acc: 0.4583 - 9s/epoch - 39ms/sample\n",
      "Epoch 76/100\n",
      "224/224 - 9s - loss: 0.6842 - acc: 0.5982 - val_loss: 0.6954 - val_acc: 0.4375 - 9s/epoch - 39ms/sample\n",
      "Epoch 77/100\n",
      "224/224 - 9s - loss: 0.6884 - acc: 0.5312 - val_loss: 0.6954 - val_acc: 0.4271 - 9s/epoch - 38ms/sample\n",
      "Epoch 78/100\n",
      "224/224 - 9s - loss: 0.6843 - acc: 0.5759 - val_loss: 0.6955 - val_acc: 0.4479 - 9s/epoch - 39ms/sample\n",
      "Epoch 79/100\n",
      "224/224 - 9s - loss: 0.6951 - acc: 0.5089 - val_loss: 0.6955 - val_acc: 0.4688 - 9s/epoch - 39ms/sample\n",
      "Epoch 80/100\n",
      "224/224 - 9s - loss: 0.6886 - acc: 0.5759 - val_loss: 0.6954 - val_acc: 0.4688 - 9s/epoch - 39ms/sample\n",
      "Epoch 81/100\n",
      "224/224 - 9s - loss: 0.6880 - acc: 0.5670 - val_loss: 0.6954 - val_acc: 0.4688 - 9s/epoch - 39ms/sample\n",
      "Epoch 82/100\n",
      "224/224 - 9s - loss: 0.6840 - acc: 0.5804 - val_loss: 0.6954 - val_acc: 0.4688 - 9s/epoch - 39ms/sample\n",
      "Epoch 83/100\n",
      "224/224 - 9s - loss: 0.6933 - acc: 0.5268 - val_loss: 0.6953 - val_acc: 0.5000 - 9s/epoch - 38ms/sample\n",
      "Epoch 84/100\n",
      "224/224 - 9s - loss: 0.6854 - acc: 0.5312 - val_loss: 0.6954 - val_acc: 0.5000 - 9s/epoch - 39ms/sample\n",
      "Epoch 85/100\n",
      "224/224 - 9s - loss: 0.6886 - acc: 0.5089 - val_loss: 0.6954 - val_acc: 0.5000 - 9s/epoch - 38ms/sample\n",
      "Epoch 86/100\n",
      "224/224 - 9s - loss: 0.6914 - acc: 0.5223 - val_loss: 0.6954 - val_acc: 0.5000 - 9s/epoch - 38ms/sample\n",
      "Epoch 87/100\n",
      "224/224 - 9s - loss: 0.6923 - acc: 0.5312 - val_loss: 0.6953 - val_acc: 0.5000 - 9s/epoch - 39ms/sample\n",
      "Epoch 88/100\n",
      "224/224 - 9s - loss: 0.6864 - acc: 0.5536 - val_loss: 0.6954 - val_acc: 0.5104 - 9s/epoch - 39ms/sample\n",
      "Epoch 89/100\n",
      "224/224 - 9s - loss: 0.6898 - acc: 0.5134 - val_loss: 0.6954 - val_acc: 0.5104 - 9s/epoch - 38ms/sample\n",
      "Epoch 90/100\n",
      "224/224 - 9s - loss: 0.6851 - acc: 0.5714 - val_loss: 0.6953 - val_acc: 0.4896 - 9s/epoch - 39ms/sample\n",
      "Epoch 91/100\n",
      "224/224 - 9s - loss: 0.6831 - acc: 0.5982 - val_loss: 0.6954 - val_acc: 0.5000 - 9s/epoch - 40ms/sample\n",
      "Epoch 92/100\n",
      "224/224 - 9s - loss: 0.6885 - acc: 0.5000 - val_loss: 0.6954 - val_acc: 0.5000 - 9s/epoch - 40ms/sample\n",
      "Epoch 93/100\n",
      "224/224 - 9s - loss: 0.6927 - acc: 0.5402 - val_loss: 0.6955 - val_acc: 0.5000 - 9s/epoch - 40ms/sample\n",
      "Epoch 94/100\n",
      "224/224 - 9s - loss: 0.6819 - acc: 0.5848 - val_loss: 0.6955 - val_acc: 0.5000 - 9s/epoch - 39ms/sample\n",
      "Epoch 95/100\n",
      "224/224 - 9s - loss: 0.6920 - acc: 0.5402 - val_loss: 0.6954 - val_acc: 0.5000 - 9s/epoch - 39ms/sample\n",
      "Epoch 96/100\n",
      "224/224 - 9s - loss: 0.6868 - acc: 0.5804 - val_loss: 0.6953 - val_acc: 0.5104 - 9s/epoch - 39ms/sample\n",
      "Epoch 97/100\n",
      "224/224 - 9s - loss: 0.6836 - acc: 0.5491 - val_loss: 0.6954 - val_acc: 0.5000 - 9s/epoch - 39ms/sample\n",
      "Epoch 98/100\n",
      "224/224 - 9s - loss: 0.6885 - acc: 0.5357 - val_loss: 0.6954 - val_acc: 0.5000 - 9s/epoch - 39ms/sample\n",
      "Epoch 99/100\n",
      "224/224 - 9s - loss: 0.6885 - acc: 0.5491 - val_loss: 0.6954 - val_acc: 0.4896 - 9s/epoch - 42ms/sample\n",
      "Epoch 100/100\n",
      "224/224 - 9s - loss: 0.6882 - acc: 0.5223 - val_loss: 0.6955 - val_acc: 0.4896 - 9s/epoch - 41ms/sample\n",
      "Total training time: 884.83 seconds\n"
     ]
    }
   ],
   "source": [
    "\n",
    "\n",
    "\n",
    "\n",
    "# count number of parameters in the model\n",
    "numParams    = model.count_params()    \n",
    "\n",
    "# set a valid path for your system to record model checkpoints\n",
    "with h5py.File('./tmp/checkpoint.h5', 'w') as f:\n",
    "    # This creates 2 attributes of arrays of different np.float types:\n",
    "    arr_in = np.array([1.0,2.0,3.0])\n",
    "    f.attrs['as_float64'] = arr_in\n",
    "    # arr_in.dtype = np.float128\n",
    "    # f.attrs['as_float128'] = arr_in\n",
    "checkpointer = ModelCheckpoint(filepath='./tmp/checkpoint.h5', verbose=1,\n",
    "                               save_best_only=True)\n",
    "\n",
    "###############################################################################\n",
    "# if the classification task was imbalanced (significantly more trials in one\n",
    "# class versus the others) you can assign a weight to each class during \n",
    "# optimization to balance it out. This data is approximately balanced so we \n",
    "# don't need to do this, but is shown here for illustration/completeness. \n",
    "###############################################################################\n",
    "\n",
    "# the syntax is {class_1:weight_1, class_2:weight_2,...}. Here just setting\n",
    "# the weights all to be 1\n",
    "class_weights = {0:1, 1:1}\n",
    "\n",
    "################################################################################\n",
    "# fit the model. Due to very small sample sizes this can get\n",
    "# pretty noisy run-to-run, but most runs should be comparable to xDAWN + \n",
    "# Riemannian geometry classification (below)\n",
    "################################################################################\n",
    "fittedModel = model.fit(X_train, Y_train, batch_size = 16, epochs = 100, \n",
    "                        verbose = 2, validation_data=(X_validate, Y_validate),\n",
    "                        # callbacks=[checkpointer],\n",
    "                        callbacks=[timing()],\n",
    "                        class_weight = class_weights)"
   ]
  },
  {
   "cell_type": "code",
   "execution_count": 249,
   "id": "8f1b26a9-c665-41ee-aaf0-00cb5f0c591c",
   "metadata": {},
   "outputs": [
    {
     "name": "stderr",
     "output_type": "stream",
     "text": [
      "/opt/anaconda3/envs/zazu2/lib/python3.11/site-packages/keras/src/engine/training_v1.py:2359: UserWarning: `Model.state_updates` will be removed in a future version. This property should not be used in TensorFlow 2.0, as `updates` are applied automatically.\n",
      "  updates=self.state_updates,\n",
      "2025-06-10 08:18:43.718448: W tensorflow/c/c_api.cc:305] Operation '{name:'softmax_10/Softmax' id:22672 op device:{requested: '', assigned: ''} def:{{{node softmax_10/Softmax}} = Softmax[T=DT_FLOAT, _has_manual_control_dependencies=true](dense_10/BiasAdd)}}' was changed by setting attribute after it was run by a session. This mutation will have no effect, and will trigger an error in the future. Either don't modify nodes after running them or create a new session.\n"
     ]
    },
    {
     "name": "stdout",
     "output_type": "stream",
     "text": [
      "Classification accuracy: 0.811765 \n"
     ]
    }
   ],
   "source": [
    "# load optimal weights\n",
    "# model.load_weights('./tmp/checkpoint.h5')\n",
    "\n",
    "###############################################################################\n",
    "# can alternatively used the weights provided in the repo. If so it should get\n",
    "# you 93% accuracy. Change the WEIGHTS_PATH variable to wherever it is on your\n",
    "# system.\n",
    "###############################################################################\n",
    "\n",
    "# WEIGHTS_PATH = /path/to/EEGNet-8-2-weights.h5 \n",
    "# model.load_weights(WEIGHTS_PATH)\n",
    "\n",
    "###############################################################################\n",
    "# make prediction on test set.\n",
    "###############################################################################\n",
    "\n",
    "probs       = model.predict(X_test)\n",
    "preds       = probs.argmax(axis = -1)  \n",
    "acc         = np.mean(preds == Y_test.argmax(axis=-1))\n",
    "print(\"Classification accuracy: %f \" % (acc))\n",
    "\n",
    "\n",
    "############################# PyRiemann Portion ##############################\n",
    "\n",
    "# code is taken from PyRiemann's ERP sample script, which is decoding in \n",
    "# the tangent space with a logistic regression\n",
    "\n",
    "# n_components = 2  # pick some components\n",
    "\n",
    "# # set up sklearn pipeline\n",
    "# clf = make_pipeline(XdawnCovariances(n_components),\n",
    "#                     TangentSpace(metric='riemann'),\n",
    "#                     LogisticRegression())\n",
    "\n",
    "# preds_rg     = np.zeros(len(Y_test))\n",
    "\n",
    "# # reshape back to (trials, channels, samples)\n",
    "# X_train      = X_train.reshape(X_train.shape[0], chans, samples)\n",
    "# X_test       = X_test.reshape(X_test.shape[0], chans, samples)\n",
    "\n",
    "# # train a classifier with xDAWN spatial filtering + Riemannian Geometry (RG)\n",
    "# # labels need to be back in single-column format\n",
    "# clf.fit(X_train, Y_train.argmax(axis = -1))\n",
    "# preds_rg     = clf.predict(X_test)\n",
    "\n",
    "# # Printing the results\n",
    "# acc2         = np.mean(preds_rg == Y_test.argmax(axis = -1))\n",
    "# print(\"Classification accuracy: %f \" % (acc2))"
   ]
  },
  {
   "cell_type": "code",
   "execution_count": 250,
   "id": "d9f84458-1ba9-4108-9e02-b2ddcba3a5c2",
   "metadata": {},
   "outputs": [],
   "source": [
    "from sklearn.metrics import confusion_matrix, ConfusionMatrixDisplay, classification_report"
   ]
  },
  {
   "cell_type": "code",
   "execution_count": 251,
   "id": "f87940f6-4eb8-4f98-901e-804e9d037b31",
   "metadata": {},
   "outputs": [],
   "source": [
    "# plot the confusion matrices for both classifiers\n",
    "names        = ['hands', 'feet']\n",
    "# plt.figure(0)\n",
    "confusion_matrix_1 = confusion_matrix(preds, Y_test)\n",
    "\n",
    "# plt.figure(1)\n",
    "# confusion_matrix_2 = confusion_matrix(preds_rg, Y_test)"
   ]
  },
  {
   "cell_type": "code",
   "execution_count": 252,
   "id": "8a94fb5b-caba-4c02-868a-0a85178e8e11",
   "metadata": {},
   "outputs": [
    {
     "name": "stdout",
     "output_type": "stream",
     "text": [
      "              precision    recall  f1-score   support\n",
      "\n",
      "           0       0.88      0.52      0.65        69\n",
      "           1       0.25      0.69      0.37        16\n",
      "\n",
      "    accuracy                           0.55        85\n",
      "   macro avg       0.56      0.60      0.51        85\n",
      "weighted avg       0.76      0.55      0.60        85\n",
      "\n"
     ]
    }
   ],
   "source": [
    "print(classification_report(preds, Y_test))"
   ]
  },
  {
   "cell_type": "code",
   "execution_count": 253,
   "id": "fe1c8a52-8a43-4416-8956-3c3b3e8281b1",
   "metadata": {},
   "outputs": [
    {
     "data": {
      "text/plain": [
       "<sklearn.metrics._plot.confusion_matrix.ConfusionMatrixDisplay at 0x16185b090>"
      ]
     },
     "execution_count": 253,
     "metadata": {},
     "output_type": "execute_result"
    },
    {
     "data": {
      "image/png": "[encoded data removed]",
      "text/plain": [
       "<Figure size 640x480 with 2 Axes>"
      ]
     },
     "metadata": {},
     "output_type": "display_data"
    }
   ],
   "source": [
    "disp1 = ConfusionMatrixDisplay(confusion_matrix_1, display_labels = names)\n",
    "disp1.plot()\n",
    "\n",
    "# disp2 = ConfusionMatrixDisplay(confusion_matrix_2, display_labels = names)\n",
    "# disp2.plot()"
   ]
  },
  {
   "cell_type": "code",
   "execution_count": 261,
   "id": "7ed85196-1a62-4b52-94f8-c4dd2f6505f5",
   "metadata": {},
   "outputs": [
    {
     "name": "stderr",
     "output_type": "stream",
     "text": [
      "/opt/anaconda3/envs/zazu2/lib/python3.11/site-packages/tensorflow_privacy/privacy/analysis/compute_dp_sgd_privacy_lib.py:152: RuntimeWarning: invalid value encountered in scalar subtract\n",
      "  example_log_delta + _logexpm1(user_eps) - _logexpm1(example_eps)\n",
      "WARNING:absl:No upper bound on user-level DP epsilon can be computed with 96 examples per user.\n",
      "WARNING:absl:No upper bound on user-level DP epsilon can be computed with 96 examples per user.\n"
     ]
    },
    {
     "name": "stdout",
     "output_type": "stream",
     "text": [
      "DP-SGD performed over 224 examples with 16 examples per iteration, noise\n",
      "multiplier 1.5 for 100 epochs with microbatching, and at most 96 examples per\n",
      "user.\n",
      "\n",
      "This privacy guarantee protects the release of all model checkpoints in addition\n",
      "to the final model.\n",
      "\n",
      "Example-level DP with add-or-remove-one adjacency at delta = 1e-05 computed with\n",
      "RDP accounting:\n",
      "    Epsilon with each example occurring once per epoch:       151.133\n",
      "    Epsilon assuming Poisson sampling (*):                     41.068\n",
      "\n",
      "User-level DP with add-or-remove-one adjacency at delta = 1e-05 computed using\n",
      "RDP accounting and group privacy:\n",
      "    Epsilon with each example occurring once per epoch:      inf (**)\n",
      "    Epsilon assuming Poisson sampling (*):                   inf (**)\n",
      "\n",
      "(*) Poisson sampling is not usually done in training pipelines, but assuming\n",
      "that the data was randomly shuffled, it is believed that the actual epsilon\n",
      "should be closer to this value than the conservative assumption of an arbitrary\n",
      "data order.\n",
      "\n",
      "(**) A finite example-level epsilon implies a finite user-level epsilon at any\n",
      "`max_examples_per_user`, but because conversion from example-level to user-level\n",
      "DP is not exact, it is possible for the upper bound on the user-level epsilon to\n",
      "still be infinite.\n",
      "\n"
     ]
    }
   ],
   "source": [
    "l = compute_dp_sgd_privacy_lib.compute_dp_sgd_privacy_statement(number_of_examples=X_train.shape[0],\n",
    "                      batch_size=batch_size,\n",
    "                      noise_multiplier=noise_multiplier,\n",
    "                      num_epochs=100,\n",
    "                      used_microbatching=True,\n",
    "                      max_examples_per_user=96,\n",
    "                      delta=1e-5)\n",
    "print(l)"
   ]
  },
  {
   "cell_type": "code",
   "execution_count": null,
   "id": "3346d30c-0520-4557-beca-0c2f0e167467",
   "metadata": {},
   "outputs": [],
   "source": []
  }
 ],
 "metadata": {
  "kernelspec": {
   "display_name": "zazu2",
   "language": "python",
   "name": "zazu2"
  },
  "language_info": {
   "codemirror_mode": {
    "name": "ipython",
    "version": 3
   },
   "file_extension": ".py",
   "mimetype": "text/x-python",
   "name": "python",
   "nbconvert_exporter": "python",
   "pygments_lexer": "ipython3",
   "version": "3.11.0"
  }
 },
 "nbformat": 4,
 "nbformat_minor": 5
}
