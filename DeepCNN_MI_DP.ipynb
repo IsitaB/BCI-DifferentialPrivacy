{
  "cells": [
    {
      "cell_type": "code",
      "execution_count": 1,
      "id": "4-yoeKZvhrZk",
      "metadata": {
        "colab": {
          "base_uri": "https://localhost:8080/",
          "height": 1000
        },
        "id": "4-yoeKZvhrZk",
        "outputId": "e3a7b771-c7d7-48be-9bf9-012ea945d96d"
      },
      "outputs": [
        {
          "output_type": "display_data",
          "data": {
            "text/plain": [
              "<IPython.core.display.HTML object>"
            ],
            "text/html": [
              "\n",
              "     <input type=\"file\" id=\"files-cc1148e7-8442-4223-bb8a-28697ab5f8a0\" name=\"files[]\" multiple disabled\n",
              "        style=\"border:none\" />\n",
              "     <output id=\"result-cc1148e7-8442-4223-bb8a-28697ab5f8a0\">\n",
              "      Upload widget is only available when the cell has been executed in the\n",
              "      current browser session. Please rerun this cell to enable.\n",
              "      </output>\n",
              "      <script>// Copyright 2017 Google LLC\n",
              "//\n",
              "// Licensed under the Apache License, Version 2.0 (the \"License\");\n",
              "// you may not use this file except in compliance with the License.\n",
              "// You may obtain a copy of the License at\n",
              "//\n",
              "//      http://www.apache.org/licenses/LICENSE-2.0\n",
              "//\n",
              "// Unless required by applicable law or agreed to in writing, software\n",
              "// distributed under the License is distributed on an \"AS IS\" BASIS,\n",
              "// WITHOUT WARRANTIES OR CONDITIONS OF ANY KIND, either express or implied.\n",
              "// See the License for the specific language governing permissions and\n",
              "// limitations under the License.\n",
              "\n",
              "/**\n",
              " * @fileoverview Helpers for google.colab Python module.\n",
              " */\n",
              "(function(scope) {\n",
              "function span(text, styleAttributes = {}) {\n",
              "  const element = document.createElement('span');\n",
              "  element.textContent = text;\n",
              "  for (const key of Object.keys(styleAttributes)) {\n",
              "    element.style[key] = styleAttributes[key];\n",
              "  }\n",
              "  return element;\n",
              "}\n",
              "\n",
              "// Max number of bytes which will be uploaded at a time.\n",
              "const MAX_PAYLOAD_SIZE = 100 * 1024;\n",
              "\n",
              "function _uploadFiles(inputId, outputId) {\n",
              "  const steps = uploadFilesStep(inputId, outputId);\n",
              "  const outputElement = document.getElementById(outputId);\n",
              "  // Cache steps on the outputElement to make it available for the next call\n",
              "  // to uploadFilesContinue from Python.\n",
              "  outputElement.steps = steps;\n",
              "\n",
              "  return _uploadFilesContinue(outputId);\n",
              "}\n",
              "\n",
              "// This is roughly an async generator (not supported in the browser yet),\n",
              "// where there are multiple asynchronous steps and the Python side is going\n",
              "// to poll for completion of each step.\n",
              "// This uses a Promise to block the python side on completion of each step,\n",
              "// then passes the result of the previous step as the input to the next step.\n",
              "function _uploadFilesContinue(outputId) {\n",
              "  const outputElement = document.getElementById(outputId);\n",
              "  const steps = outputElement.steps;\n",
              "\n",
              "  const next = steps.next(outputElement.lastPromiseValue);\n",
              "  return Promise.resolve(next.value.promise).then((value) => {\n",
              "    // Cache the last promise value to make it available to the next\n",
              "    // step of the generator.\n",
              "    outputElement.lastPromiseValue = value;\n",
              "    return next.value.response;\n",
              "  });\n",
              "}\n",
              "\n",
              "/**\n",
              " * Generator function which is called between each async step of the upload\n",
              " * process.\n",
              " * @param {string} inputId Element ID of the input file picker element.\n",
              " * @param {string} outputId Element ID of the output display.\n",
              " * @return {!Iterable<!Object>} Iterable of next steps.\n",
              " */\n",
              "function* uploadFilesStep(inputId, outputId) {\n",
              "  const inputElement = document.getElementById(inputId);\n",
              "  inputElement.disabled = false;\n",
              "\n",
              "  const outputElement = document.getElementById(outputId);\n",
              "  outputElement.innerHTML = '';\n",
              "\n",
              "  const pickedPromise = new Promise((resolve) => {\n",
              "    inputElement.addEventListener('change', (e) => {\n",
              "      resolve(e.target.files);\n",
              "    });\n",
              "  });\n",
              "\n",
              "  const cancel = document.createElement('button');\n",
              "  inputElement.parentElement.appendChild(cancel);\n",
              "  cancel.textContent = 'Cancel upload';\n",
              "  const cancelPromise = new Promise((resolve) => {\n",
              "    cancel.onclick = () => {\n",
              "      resolve(null);\n",
              "    };\n",
              "  });\n",
              "\n",
              "  // Wait for the user to pick the files.\n",
              "  const files = yield {\n",
              "    promise: Promise.race([pickedPromise, cancelPromise]),\n",
              "    response: {\n",
              "      action: 'starting',\n",
              "    }\n",
              "  };\n",
              "\n",
              "  cancel.remove();\n",
              "\n",
              "  // Disable the input element since further picks are not allowed.\n",
              "  inputElement.disabled = true;\n",
              "\n",
              "  if (!files) {\n",
              "    return {\n",
              "      response: {\n",
              "        action: 'complete',\n",
              "      }\n",
              "    };\n",
              "  }\n",
              "\n",
              "  for (const file of files) {\n",
              "    const li = document.createElement('li');\n",
              "    li.append(span(file.name, {fontWeight: 'bold'}));\n",
              "    li.append(span(\n",
              "        `(${file.type || 'n/a'}) - ${file.size} bytes, ` +\n",
              "        `last modified: ${\n",
              "            file.lastModifiedDate ? file.lastModifiedDate.toLocaleDateString() :\n",
              "                                    'n/a'} - `));\n",
              "    const percent = span('0% done');\n",
              "    li.appendChild(percent);\n",
              "\n",
              "    outputElement.appendChild(li);\n",
              "\n",
              "    const fileDataPromise = new Promise((resolve) => {\n",
              "      const reader = new FileReader();\n",
              "      reader.onload = (e) => {\n",
              "        resolve(e.target.result);\n",
              "      };\n",
              "      reader.readAsArrayBuffer(file);\n",
              "    });\n",
              "    // Wait for the data to be ready.\n",
              "    let fileData = yield {\n",
              "      promise: fileDataPromise,\n",
              "      response: {\n",
              "        action: 'continue',\n",
              "      }\n",
              "    };\n",
              "\n",
              "    // Use a chunked sending to avoid message size limits. See b/62115660.\n",
              "    let position = 0;\n",
              "    do {\n",
              "      const length = Math.min(fileData.byteLength - position, MAX_PAYLOAD_SIZE);\n",
              "      const chunk = new Uint8Array(fileData, position, length);\n",
              "      position += length;\n",
              "\n",
              "      const base64 = btoa(String.fromCharCode.apply(null, chunk));\n",
              "      yield {\n",
              "        response: {\n",
              "          action: 'append',\n",
              "          file: file.name,\n",
              "          data: base64,\n",
              "        },\n",
              "      };\n",
              "\n",
              "      let percentDone = fileData.byteLength === 0 ?\n",
              "          100 :\n",
              "          Math.round((position / fileData.byteLength) * 100);\n",
              "      percent.textContent = `${percentDone}% done`;\n",
              "\n",
              "    } while (position < fileData.byteLength);\n",
              "  }\n",
              "\n",
              "  // All done.\n",
              "  yield {\n",
              "    response: {\n",
              "      action: 'complete',\n",
              "    }\n",
              "  };\n",
              "}\n",
              "\n",
              "scope.google = scope.google || {};\n",
              "scope.google.colab = scope.google.colab || {};\n",
              "scope.google.colab._files = {\n",
              "  _uploadFiles,\n",
              "  _uploadFilesContinue,\n",
              "};\n",
              "})(self);\n",
              "</script> "
            ]
          },
          "metadata": {}
        },
        {
          "output_type": "stream",
          "name": "stdout",
          "text": [
            "Saving EEGModels.py to EEGModels (1).py\n"
          ]
        },
        {
          "output_type": "execute_result",
          "data": {
            "text/plain": [
              "{'EEGModels (1).py': b'\"\"\"\\r\\n ARL_EEGModels - A collection of Convolutional Neural Network models for EEG\\r\\n Signal Processing and Classification, using Keras and Tensorflow\\r\\n\\r\\n Requirements:\\r\\n    (1) tensorflow == 2.X (as of this writing, 2.0 - 2.3 have been verified\\r\\n        as working)\\r\\n \\r\\n To run the EEG/MEG ERP classification sample script, you will also need\\r\\n\\r\\n    (4) mne >= 0.17.1\\r\\n    (5) PyRiemann >= 0.2.5\\r\\n    (6) scikit-learn >= 0.20.1\\r\\n    (7) matplotlib >= 2.2.3\\r\\n    \\r\\n To use:\\r\\n    \\r\\n    (1) Place this file in the PYTHONPATH variable in your IDE (i.e.: Spyder)\\r\\n    (2) Import the model as\\r\\n        \\r\\n        from EEGModels import EEGNet    \\r\\n        \\r\\n        model = EEGNet(nb_classes = ..., Chans = ..., Samples = ...)\\r\\n        \\r\\n    (3) Then compile and fit the model\\r\\n    \\r\\n        model.compile(loss = ..., optimizer = ..., metrics = ...)\\r\\n        fitted    = model.fit(...)\\r\\n        predicted = model.predict(...)\\r\\n\\r\\n Portions of this project are works of the United States Government and are not\\r\\n subject to domestic copyright protection under 17 USC Sec. 105.  Those \\r\\n portions are released world-wide under the terms of the Creative Commons Zero \\r\\n 1.0 (CC0) license.  \\r\\n \\r\\n Other portions of this project are subject to domestic copyright protection \\r\\n under 17 USC Sec. 105.  Those portions are licensed under the Apache 2.0 \\r\\n license.  The complete text of the license governing this material is in \\r\\n the file labeled LICENSE.TXT that is a part of this project\\'s official \\r\\n distribution. \\r\\n\"\"\"\\r\\n\\r\\nfrom tensorflow.keras.models import Model\\r\\nfrom tensorflow.keras.layers import Dense, Activation, Permute, Dropout\\r\\nfrom tensorflow.keras.layers import Conv2D, MaxPooling2D, AveragePooling2D\\r\\nfrom tensorflow.keras.layers import SeparableConv2D, DepthwiseConv2D\\r\\nfrom tensorflow.keras.layers import BatchNormalization\\r\\nfrom tensorflow.keras.layers import SpatialDropout2D\\r\\nfrom tensorflow.keras.regularizers import l1_l2\\r\\nfrom tensorflow.keras.layers import Input, Flatten\\r\\nfrom tensorflow.keras.constraints import max_norm\\r\\nfrom tensorflow.keras import backend as K\\r\\n\\r\\n\\r\\ndef EEGNet(nb_classes, Chans = 64, Samples = 128, \\r\\n             dropoutRate = 0.5, kernLength = 64, F1 = 8, \\r\\n             D = 2, F2 = 16, norm_rate = 0.25, dropoutType = \\'Dropout\\'):\\r\\n    \"\"\" Keras Implementation of EEGNet\\r\\n    http://iopscience.iop.org/article/10.1088/1741-2552/aace8c/meta\\r\\n\\r\\n    Note that this implements the newest version of EEGNet and NOT the earlier\\r\\n    version (version v1 and v2 on arxiv). We strongly recommend using this\\r\\n    architecture as it performs much better and has nicer properties than\\r\\n    our earlier version. For example:\\r\\n        \\r\\n        1. Depthwise Convolutions to learn spatial filters within a \\r\\n        temporal convolution. The use of the depth_multiplier option maps \\r\\n        exactly to the number of spatial filters learned within a temporal\\r\\n        filter. This matches the setup of algorithms like FBCSP which learn \\r\\n        spatial filters within each filter in a filter-bank. This also limits \\r\\n        the number of free parameters to fit when compared to a fully-connected\\r\\n        convolution. \\r\\n        \\r\\n        2. Separable Convolutions to learn how to optimally combine spatial\\r\\n        filters across temporal bands. Separable Convolutions are Depthwise\\r\\n        Convolutions followed by (1x1) Pointwise Convolutions. \\r\\n        \\r\\n    \\r\\n    While the original paper used Dropout, we found that SpatialDropout2D \\r\\n    sometimes produced slightly better results for classification of ERP \\r\\n    signals. However, SpatialDropout2D significantly reduced performance \\r\\n    on the Oscillatory dataset (SMR, BCI-IV Dataset 2A). We recommend using\\r\\n    the default Dropout in most cases.\\r\\n        \\r\\n    Assumes the input signal is sampled at 128Hz. If you want to use this model\\r\\n    for any other sampling rate you will need to modify the lengths of temporal\\r\\n    kernels and average pooling size in blocks 1 and 2 as needed (double the \\r\\n    kernel lengths for double the sampling rate, etc). Note that we haven\\'t \\r\\n    tested the model performance with this rule so this may not work well. \\r\\n    \\r\\n    The model with default parameters gives the EEGNet-8,2 model as discussed\\r\\n    in the paper. This model should do pretty well in general, although it is\\r\\n\\tadvised to do some model searching to get optimal performance on your\\r\\n\\tparticular dataset.\\r\\n\\r\\n    We set F2 = F1 * D (number of input filters = number of output filters) for\\r\\n    the SeparableConv2D layer. We haven\\'t extensively tested other values of this\\r\\n    parameter (say, F2 < F1 * D for compressed learning, and F2 > F1 * D for\\r\\n    overcomplete). We believe the main parameters to focus on are F1 and D. \\r\\n\\r\\n    Inputs:\\r\\n        \\r\\n      nb_classes      : int, number of classes to classify\\r\\n      Chans, Samples  : number of channels and time points in the EEG data\\r\\n      dropoutRate     : dropout fraction\\r\\n      kernLength      : length of temporal convolution in first layer. We found\\r\\n                        that setting this to be half the sampling rate worked\\r\\n                        well in practice. For the SMR dataset in particular\\r\\n                        since the data was high-passed at 4Hz we used a kernel\\r\\n                        length of 32.     \\r\\n      F1, F2          : number of temporal filters (F1) and number of pointwise\\r\\n                        filters (F2) to learn. Default: F1 = 8, F2 = F1 * D. \\r\\n      D               : number of spatial filters to learn within each temporal\\r\\n                        convolution. Default: D = 2\\r\\n      dropoutType     : Either SpatialDropout2D or Dropout, passed as a string.\\r\\n\\r\\n    \"\"\"\\r\\n    \\r\\n    if dropoutType == \\'SpatialDropout2D\\':\\r\\n        dropoutType = SpatialDropout2D\\r\\n    elif dropoutType == \\'Dropout\\':\\r\\n        dropoutType = Dropout\\r\\n    else:\\r\\n        raise ValueError(\\'dropoutType must be one of SpatialDropout2D \\'\\r\\n                         \\'or Dropout, passed as a string.\\')\\r\\n    \\r\\n    input1   = Input(shape = (Chans, Samples, 1))\\r\\n\\r\\n    ##################################################################\\r\\n    block1       = Conv2D(F1, (1, kernLength), padding = \\'same\\',\\r\\n                                   input_shape = (Chans, Samples, 1),\\r\\n                                   use_bias = False)(input1)\\r\\n    block1       = BatchNormalization()(block1)\\r\\n    block1       = DepthwiseConv2D((Chans, 1), use_bias = False, \\r\\n                                   depth_multiplier = D,\\r\\n                                   depthwise_constraint = max_norm(1.))(block1)\\r\\n    block1       = BatchNormalization()(block1)\\r\\n    block1       = Activation(\\'elu\\')(block1)\\r\\n    block1       = AveragePooling2D((1, 4))(block1)\\r\\n    block1       = dropoutType(dropoutRate)(block1)\\r\\n    \\r\\n    block2       = SeparableConv2D(F2, (1, 16),\\r\\n                                   use_bias = False, padding = \\'same\\')(block1)\\r\\n    block2       = BatchNormalization()(block2)\\r\\n    block2       = Activation(\\'elu\\')(block2)\\r\\n    block2       = AveragePooling2D((1, 8))(block2)\\r\\n    block2       = dropoutType(dropoutRate)(block2)\\r\\n        \\r\\n    flatten      = Flatten(name = \\'flatten\\')(block2)\\r\\n    \\r\\n    dense        = Dense(nb_classes, name = \\'dense\\', \\r\\n                         kernel_constraint = max_norm(norm_rate))(flatten)\\r\\n    softmax      = Activation(\\'softmax\\', name = \\'softmax\\')(dense)\\r\\n    \\r\\n    return Model(inputs=input1, outputs=softmax)\\r\\n\\r\\n\\r\\n\\r\\n\\r\\ndef EEGNet_SSVEP(nb_classes = 12, Chans = 8, Samples = 256, \\r\\n             dropoutRate = 0.5, kernLength = 256, F1 = 96, \\r\\n             D = 1, F2 = 96, dropoutType = \\'Dropout\\'):\\r\\n    \"\"\" SSVEP Variant of EEGNet, as used in [1]. \\r\\n\\r\\n    Inputs:\\r\\n        \\r\\n      nb_classes      : int, number of classes to classify\\r\\n      Chans, Samples  : number of channels and time points in the EEG data\\r\\n      dropoutRate     : dropout fraction\\r\\n      kernLength      : length of temporal convolution in first layer\\r\\n      F1, F2          : number of temporal filters (F1) and number of pointwise\\r\\n                        filters (F2) to learn. \\r\\n      D               : number of spatial filters to learn within each temporal\\r\\n                        convolution.\\r\\n      dropoutType     : Either SpatialDropout2D or Dropout, passed as a string.\\r\\n      \\r\\n      \\r\\n    [1]. Waytowich, N. et. al. (2018). Compact Convolutional Neural Networks\\r\\n    for Classification of Asynchronous Steady-State Visual Evoked Potentials.\\r\\n    Journal of Neural Engineering vol. 15(6). \\r\\n    http://iopscience.iop.org/article/10.1088/1741-2552/aae5d8\\r\\n\\r\\n    \"\"\"\\r\\n    \\r\\n    if dropoutType == \\'SpatialDropout2D\\':\\r\\n        dropoutType = SpatialDropout2D\\r\\n    elif dropoutType == \\'Dropout\\':\\r\\n        dropoutType = Dropout\\r\\n    else:\\r\\n        raise ValueError(\\'dropoutType must be one of SpatialDropout2D \\'\\r\\n                         \\'or Dropout, passed as a string.\\')\\r\\n    \\r\\n    input1   = Input(shape = (Chans, Samples, 1))\\r\\n\\r\\n    ##################################################################\\r\\n    block1       = Conv2D(F1, (1, kernLength), padding = \\'same\\',\\r\\n                                   input_shape = (Chans, Samples, 1),\\r\\n                                   use_bias = False)(input1)\\r\\n    block1       = BatchNormalization()(block1)\\r\\n    block1       = DepthwiseConv2D((Chans, 1), use_bias = False, \\r\\n                                   depth_multiplier = D,\\r\\n                                   depthwise_constraint = max_norm(1.))(block1)\\r\\n    block1       = BatchNormalization()(block1)\\r\\n    block1       = Activation(\\'elu\\')(block1)\\r\\n    block1       = AveragePooling2D((1, 4))(block1)\\r\\n    block1       = dropoutType(dropoutRate)(block1)\\r\\n    \\r\\n    block2       = SeparableConv2D(F2, (1, 16),\\r\\n                                   use_bias = False, padding = \\'same\\')(block1)\\r\\n    block2       = BatchNormalization()(block2)\\r\\n    block2       = Activation(\\'elu\\')(block2)\\r\\n    block2       = AveragePooling2D((1, 8))(block2)\\r\\n    block2       = dropoutType(dropoutRate)(block2)\\r\\n        \\r\\n    flatten      = Flatten(name = \\'flatten\\')(block2)\\r\\n    \\r\\n    dense        = Dense(nb_classes, name = \\'dense\\')(flatten)\\r\\n    softmax      = Activation(\\'softmax\\', name = \\'softmax\\')(dense)\\r\\n    \\r\\n    return Model(inputs=input1, outputs=softmax)\\r\\n\\r\\n\\r\\n\\r\\ndef EEGNet_old(nb_classes, Chans = 64, Samples = 128, regRate = 0.0001,\\r\\n           dropoutRate = 0.25, kernels = [(2, 32), (8, 4)], strides = (2, 4)):\\r\\n    \"\"\" Keras Implementation of EEGNet_v1 (https://arxiv.org/abs/1611.08024v2)\\r\\n\\r\\n    This model is the original EEGNet model proposed on arxiv\\r\\n            https://arxiv.org/abs/1611.08024v2\\r\\n    \\r\\n    with a few modifications: we use striding instead of max-pooling as this \\r\\n    helped slightly in classification performance while also providing a \\r\\n    computational speed-up. \\r\\n    \\r\\n    Note that we no longer recommend the use of this architecture, as the new\\r\\n    version of EEGNet performs much better overall and has nicer properties.\\r\\n    \\r\\n    Inputs:\\r\\n        \\r\\n        nb_classes     : total number of final categories\\r\\n        Chans, Samples : number of EEG channels and samples, respectively\\r\\n        regRate        : regularization rate for L1 and L2 regularizations\\r\\n        dropoutRate    : dropout fraction\\r\\n        kernels        : the 2nd and 3rd layer kernel dimensions (default is \\r\\n                         the [2, 32] x [8, 4] configuration)\\r\\n        strides        : the stride size (note that this replaces the max-pool\\r\\n                         used in the original paper)\\r\\n    \\r\\n    \"\"\"\\r\\n\\r\\n    # start the model\\r\\n    input_main   = Input((Chans, Samples))\\r\\n    layer1       = Conv2D(16, (Chans, 1), input_shape=(Chans, Samples, 1),\\r\\n                                 kernel_regularizer = l1_l2(l1=regRate, l2=regRate))(input_main)\\r\\n    layer1       = BatchNormalization()(layer1)\\r\\n    layer1       = Activation(\\'elu\\')(layer1)\\r\\n    layer1       = Dropout(dropoutRate)(layer1)\\r\\n    \\r\\n    permute_dims = 2, 1, 3\\r\\n    permute1     = Permute(permute_dims)(layer1)\\r\\n    \\r\\n    layer2       = Conv2D(4, kernels[0], padding = \\'same\\', \\r\\n                            kernel_regularizer=l1_l2(l1=0.0, l2=regRate),\\r\\n                            strides = strides)(permute1)\\r\\n    layer2       = BatchNormalization()(layer2)\\r\\n    layer2       = Activation(\\'elu\\')(layer2)\\r\\n    layer2       = Dropout(dropoutRate)(layer2)\\r\\n    \\r\\n    layer3       = Conv2D(4, kernels[1], padding = \\'same\\',\\r\\n                            kernel_regularizer=l1_l2(l1=0.0, l2=regRate),\\r\\n                            strides = strides)(layer2)\\r\\n    layer3       = BatchNormalization()(layer3)\\r\\n    layer3       = Activation(\\'elu\\')(layer3)\\r\\n    layer3       = Dropout(dropoutRate)(layer3)\\r\\n    \\r\\n    flatten      = Flatten(name = \\'flatten\\')(layer3)\\r\\n    \\r\\n    dense        = Dense(nb_classes, name = \\'dense\\')(flatten)\\r\\n    softmax      = Activation(\\'softmax\\', name = \\'softmax\\')(dense)\\r\\n    \\r\\n    return Model(inputs=input_main, outputs=softmax)\\r\\n\\r\\n\\r\\n\\r\\ndef DeepConvNet(nb_classes, Chans = 64, Samples = 256,\\r\\n                dropoutRate = 0.5):\\r\\n    \"\"\" Keras implementation of the Deep Convolutional Network as described in\\r\\n    Schirrmeister et. al. (2017), Human Brain Mapping.\\r\\n    \\r\\n    This implementation assumes the input is a 2-second EEG signal sampled at \\r\\n    128Hz, as opposed to signals sampled at 250Hz as described in the original\\r\\n    paper. We also perform temporal convolutions of length (1, 5) as opposed\\r\\n    to (1, 10) due to this sampling rate difference. \\r\\n    \\r\\n    Note that we use the max_norm constraint on all convolutional layers, as \\r\\n    well as the classification layer. We also change the defaults for the\\r\\n    BatchNormalization layer. We used this based on a personal communication \\r\\n    with the original authors.\\r\\n    \\r\\n                      ours        original paper\\r\\n    pool_size        1, 2        1, 3\\r\\n    strides          1, 2        1, 3\\r\\n    conv filters     1, 5        1, 10\\r\\n    \\r\\n    Note that this implementation has not been verified by the original \\r\\n    authors. \\r\\n    \\r\\n    \"\"\"\\r\\n\\r\\n    # start the model\\r\\n    input_main   = Input((Chans, Samples, 1))\\r\\n    block1       = Conv2D(25, (1, 5), \\r\\n                                 input_shape=(Chans, Samples, 1),\\r\\n                                 kernel_constraint = max_norm(2., axis=(0,1,2)))(input_main)\\r\\n    block1       = Conv2D(25, (Chans, 1),\\r\\n                                 kernel_constraint = max_norm(2., axis=(0,1,2)))(block1)\\r\\n    block1       = BatchNormalization(epsilon=1e-05, momentum=0.9)(block1)\\r\\n    block1       = Activation(\\'elu\\')(block1)\\r\\n    block1       = MaxPooling2D(pool_size=(1, 2), strides=(1, 2))(block1)\\r\\n    block1       = Dropout(dropoutRate)(block1)\\r\\n  \\r\\n    block2       = Conv2D(50, (1, 5),\\r\\n                                 kernel_constraint = max_norm(2., axis=(0,1,2)))(block1)\\r\\n    block2       = BatchNormalization(epsilon=1e-05, momentum=0.9)(block2)\\r\\n    block2       = Activation(\\'elu\\')(block2)\\r\\n    block2       = MaxPooling2D(pool_size=(1, 2), strides=(1, 2))(block2)\\r\\n    block2       = Dropout(dropoutRate)(block2)\\r\\n    \\r\\n    block3       = Conv2D(100, (1, 5),\\r\\n                                 kernel_constraint = max_norm(2., axis=(0,1,2)))(block2)\\r\\n    block3       = BatchNormalization(epsilon=1e-05, momentum=0.9)(block3)\\r\\n    block3       = Activation(\\'elu\\')(block3)\\r\\n    block3       = MaxPooling2D(pool_size=(1, 2), strides=(1, 2))(block3)\\r\\n    block3       = Dropout(dropoutRate)(block3)\\r\\n    \\r\\n    block4       = Conv2D(200, (1, 5),\\r\\n                                 kernel_constraint = max_norm(2., axis=(0,1,2)))(block3)\\r\\n    block4       = BatchNormalization(epsilon=1e-05, momentum=0.9)(block4)\\r\\n    block4       = Activation(\\'elu\\')(block4)\\r\\n    block4       = MaxPooling2D(pool_size=(1, 2), strides=(1, 2))(block4)\\r\\n    block4       = Dropout(dropoutRate)(block4)\\r\\n    \\r\\n    flatten      = Flatten()(block4)\\r\\n    \\r\\n    dense        = Dense(nb_classes, kernel_constraint = max_norm(0.5))(flatten)\\r\\n    softmax      = Activation(\\'softmax\\')(dense)\\r\\n    \\r\\n    return Model(inputs=input_main, outputs=softmax)\\r\\n\\r\\n\\r\\n# need these for ShallowConvNet\\r\\ndef square(x):\\r\\n    return K.square(x)\\r\\n\\r\\ndef log(x):\\r\\n    return K.log(K.clip(x, min_value = 1e-7, max_value = 10000))   \\r\\n\\r\\n\\r\\ndef ShallowConvNet(nb_classes, Chans = 64, Samples = 128, dropoutRate = 0.5):\\r\\n    \"\"\" Keras implementation of the Shallow Convolutional Network as described\\r\\n    in Schirrmeister et. al. (2017), Human Brain Mapping.\\r\\n    \\r\\n    Assumes the input is a 2-second EEG signal sampled at 128Hz. Note that in \\r\\n    the original paper, they do temporal convolutions of length 25 for EEG\\r\\n    data sampled at 250Hz. We instead use length 13 since the sampling rate is \\r\\n    roughly half of the 250Hz which the paper used. The pool_size and stride\\r\\n    in later layers is also approximately half of what is used in the paper.\\r\\n    \\r\\n    Note that we use the max_norm constraint on all convolutional layers, as \\r\\n    well as the classification layer. We also change the defaults for the\\r\\n    BatchNormalization layer. We used this based on a personal communication \\r\\n    with the original authors.\\r\\n    \\r\\n                     ours        original paper\\r\\n    pool_size        1, 35       1, 75\\r\\n    strides          1, 7        1, 15\\r\\n    conv filters     1, 13       1, 25    \\r\\n    \\r\\n    Note that this implementation has not been verified by the original \\r\\n    authors. We do note that this implementation reproduces the results in the\\r\\n    original paper with minor deviations. \\r\\n    \"\"\"\\r\\n\\r\\n    # start the model\\r\\n    input_main   = Input((Chans, Samples, 1))\\r\\n    block1       = Conv2D(40, (1, 13), \\r\\n                                 input_shape=(Chans, Samples, 1),\\r\\n                                 kernel_constraint = max_norm(2., axis=(0,1,2)))(input_main)\\r\\n    block1       = Conv2D(40, (Chans, 1), use_bias=False, \\r\\n                          kernel_constraint = max_norm(2., axis=(0,1,2)))(block1)\\r\\n    block1       = BatchNormalization(epsilon=1e-05, momentum=0.9)(block1)\\r\\n    block1       = Activation(square)(block1)\\r\\n    block1       = AveragePooling2D(pool_size=(1, 35), strides=(1, 7))(block1)\\r\\n    block1       = Activation(log)(block1)\\r\\n    block1       = Dropout(dropoutRate)(block1)\\r\\n    flatten      = Flatten()(block1)\\r\\n    dense        = Dense(nb_classes, kernel_constraint = max_norm(0.5))(flatten)\\r\\n    softmax      = Activation(\\'softmax\\')(dense)\\r\\n    \\r\\n    return Model(inputs=input_main, outputs=softmax)'}"
            ]
          },
          "metadata": {},
          "execution_count": 1
        }
      ],
      "source": [
        "from google.colab import files\n",
        "files.upload()"
      ]
    },
    {
      "cell_type": "code",
      "execution_count": 2,
      "id": "6xZ7nAmkiK3V",
      "metadata": {
        "colab": {
          "base_uri": "https://localhost:8080/"
        },
        "id": "6xZ7nAmkiK3V",
        "outputId": "4ebae873-f8d3-484a-db8f-6aa55562a94d"
      },
      "outputs": [
        {
          "output_type": "stream",
          "name": "stdout",
          "text": [
            "Requirement already satisfied: mne in /usr/local/lib/python3.11/dist-packages (1.9.0)\n",
            "Requirement already satisfied: decorator in /usr/local/lib/python3.11/dist-packages (from mne) (4.4.2)\n",
            "Requirement already satisfied: jinja2 in /usr/local/lib/python3.11/dist-packages (from mne) (3.1.6)\n",
            "Requirement already satisfied: lazy-loader>=0.3 in /usr/local/lib/python3.11/dist-packages (from mne) (0.4)\n",
            "Requirement already satisfied: matplotlib>=3.6 in /usr/local/lib/python3.11/dist-packages (from mne) (3.10.0)\n",
            "Requirement already satisfied: numpy<3,>=1.23 in /usr/local/lib/python3.11/dist-packages (from mne) (1.26.4)\n",
            "Requirement already satisfied: packaging in /usr/local/lib/python3.11/dist-packages (from mne) (22.0)\n",
            "Requirement already satisfied: pooch>=1.5 in /usr/local/lib/python3.11/dist-packages (from mne) (1.8.2)\n",
            "Requirement already satisfied: scipy>=1.9 in /usr/local/lib/python3.11/dist-packages (from mne) (1.15.3)\n",
            "Requirement already satisfied: tqdm in /usr/local/lib/python3.11/dist-packages (from mne) (4.67.1)\n",
            "Requirement already satisfied: contourpy>=1.0.1 in /usr/local/lib/python3.11/dist-packages (from matplotlib>=3.6->mne) (1.3.2)\n",
            "Requirement already satisfied: cycler>=0.10 in /usr/local/lib/python3.11/dist-packages (from matplotlib>=3.6->mne) (0.12.1)\n",
            "Requirement already satisfied: fonttools>=4.22.0 in /usr/local/lib/python3.11/dist-packages (from matplotlib>=3.6->mne) (4.58.1)\n",
            "Requirement already satisfied: kiwisolver>=1.3.1 in /usr/local/lib/python3.11/dist-packages (from matplotlib>=3.6->mne) (1.4.8)\n",
            "Requirement already satisfied: pillow>=8 in /usr/local/lib/python3.11/dist-packages (from matplotlib>=3.6->mne) (11.2.1)\n",
            "Requirement already satisfied: pyparsing>=2.3.1 in /usr/local/lib/python3.11/dist-packages (from matplotlib>=3.6->mne) (3.2.3)\n",
            "Requirement already satisfied: python-dateutil>=2.7 in /usr/local/lib/python3.11/dist-packages (from matplotlib>=3.6->mne) (2.9.0.post0)\n",
            "Requirement already satisfied: platformdirs>=2.5.0 in /usr/local/lib/python3.11/dist-packages (from pooch>=1.5->mne) (4.3.8)\n",
            "Requirement already satisfied: requests>=2.19.0 in /usr/local/lib/python3.11/dist-packages (from pooch>=1.5->mne) (2.32.3)\n",
            "Requirement already satisfied: MarkupSafe>=2.0 in /usr/local/lib/python3.11/dist-packages (from jinja2->mne) (3.0.2)\n",
            "Requirement already satisfied: six>=1.5 in /usr/local/lib/python3.11/dist-packages (from python-dateutil>=2.7->matplotlib>=3.6->mne) (1.17.0)\n",
            "Requirement already satisfied: charset-normalizer<4,>=2 in /usr/local/lib/python3.11/dist-packages (from requests>=2.19.0->pooch>=1.5->mne) (3.4.2)\n",
            "Requirement already satisfied: idna<4,>=2.5 in /usr/local/lib/python3.11/dist-packages (from requests>=2.19.0->pooch>=1.5->mne) (3.10)\n",
            "Requirement already satisfied: urllib3<3,>=1.21.1 in /usr/local/lib/python3.11/dist-packages (from requests>=2.19.0->pooch>=1.5->mne) (2.4.0)\n",
            "Requirement already satisfied: certifi>=2017.4.17 in /usr/local/lib/python3.11/dist-packages (from requests>=2.19.0->pooch>=1.5->mne) (2025.4.26)\n",
            "Requirement already satisfied: tensorflow==2.14.0 in /usr/local/lib/python3.11/dist-packages (2.14.0)\n",
            "Requirement already satisfied: absl-py>=1.0.0 in /usr/local/lib/python3.11/dist-packages (from tensorflow==2.14.0) (1.4.0)\n",
            "Requirement already satisfied: astunparse>=1.6.0 in /usr/local/lib/python3.11/dist-packages (from tensorflow==2.14.0) (1.6.3)\n",
            "Requirement already satisfied: flatbuffers>=23.5.26 in /usr/local/lib/python3.11/dist-packages (from tensorflow==2.14.0) (25.2.10)\n",
            "Requirement already satisfied: gast!=0.5.0,!=0.5.1,!=0.5.2,>=0.2.1 in /usr/local/lib/python3.11/dist-packages (from tensorflow==2.14.0) (0.6.0)\n",
            "Requirement already satisfied: google-pasta>=0.1.1 in /usr/local/lib/python3.11/dist-packages (from tensorflow==2.14.0) (0.2.0)\n",
            "Requirement already satisfied: h5py>=2.9.0 in /usr/local/lib/python3.11/dist-packages (from tensorflow==2.14.0) (3.13.0)\n",
            "Requirement already satisfied: libclang>=13.0.0 in /usr/local/lib/python3.11/dist-packages (from tensorflow==2.14.0) (18.1.1)\n",
            "Requirement already satisfied: ml-dtypes==0.2.0 in /usr/local/lib/python3.11/dist-packages (from tensorflow==2.14.0) (0.2.0)\n",
            "Requirement already satisfied: numpy>=1.23.5 in /usr/local/lib/python3.11/dist-packages (from tensorflow==2.14.0) (1.26.4)\n",
            "Requirement already satisfied: opt-einsum>=2.3.2 in /usr/local/lib/python3.11/dist-packages (from tensorflow==2.14.0) (3.4.0)\n",
            "Requirement already satisfied: packaging in /usr/local/lib/python3.11/dist-packages (from tensorflow==2.14.0) (22.0)\n",
            "Requirement already satisfied: protobuf!=4.21.0,!=4.21.1,!=4.21.2,!=4.21.3,!=4.21.4,!=4.21.5,<5.0.0dev,>=3.20.3 in /usr/local/lib/python3.11/dist-packages (from tensorflow==2.14.0) (4.25.8)\n",
            "Requirement already satisfied: setuptools in /usr/local/lib/python3.11/dist-packages (from tensorflow==2.14.0) (75.2.0)\n",
            "Requirement already satisfied: six>=1.12.0 in /usr/local/lib/python3.11/dist-packages (from tensorflow==2.14.0) (1.17.0)\n",
            "Requirement already satisfied: termcolor>=1.1.0 in /usr/local/lib/python3.11/dist-packages (from tensorflow==2.14.0) (3.1.0)\n",
            "Requirement already satisfied: typing-extensions>=3.6.6 in /usr/local/lib/python3.11/dist-packages (from tensorflow==2.14.0) (4.14.0)\n",
            "Requirement already satisfied: wrapt<1.15,>=1.11.0 in /usr/local/lib/python3.11/dist-packages (from tensorflow==2.14.0) (1.14.1)\n",
            "Requirement already satisfied: tensorflow-io-gcs-filesystem>=0.23.1 in /usr/local/lib/python3.11/dist-packages (from tensorflow==2.14.0) (0.37.1)\n",
            "Requirement already satisfied: grpcio<2.0,>=1.24.3 in /usr/local/lib/python3.11/dist-packages (from tensorflow==2.14.0) (1.72.1)\n",
            "Requirement already satisfied: tensorboard<2.15,>=2.14 in /usr/local/lib/python3.11/dist-packages (from tensorflow==2.14.0) (2.14.1)\n",
            "Requirement already satisfied: tensorflow-estimator<2.15,>=2.14.0 in /usr/local/lib/python3.11/dist-packages (from tensorflow==2.14.0) (2.14.0)\n",
            "Requirement already satisfied: keras<2.15,>=2.14.0 in /usr/local/lib/python3.11/dist-packages (from tensorflow==2.14.0) (2.14.0)\n",
            "Requirement already satisfied: wheel<1.0,>=0.23.0 in /usr/local/lib/python3.11/dist-packages (from astunparse>=1.6.0->tensorflow==2.14.0) (0.45.1)\n",
            "Requirement already satisfied: google-auth<3,>=1.6.3 in /usr/local/lib/python3.11/dist-packages (from tensorboard<2.15,>=2.14->tensorflow==2.14.0) (2.38.0)\n",
            "Requirement already satisfied: google-auth-oauthlib<1.1,>=0.5 in /usr/local/lib/python3.11/dist-packages (from tensorboard<2.15,>=2.14->tensorflow==2.14.0) (1.0.0)\n",
            "Requirement already satisfied: markdown>=2.6.8 in /usr/local/lib/python3.11/dist-packages (from tensorboard<2.15,>=2.14->tensorflow==2.14.0) (3.8)\n",
            "Requirement already satisfied: requests<3,>=2.21.0 in /usr/local/lib/python3.11/dist-packages (from tensorboard<2.15,>=2.14->tensorflow==2.14.0) (2.32.3)\n",
            "Requirement already satisfied: tensorboard-data-server<0.8.0,>=0.7.0 in /usr/local/lib/python3.11/dist-packages (from tensorboard<2.15,>=2.14->tensorflow==2.14.0) (0.7.2)\n",
            "Requirement already satisfied: werkzeug>=1.0.1 in /usr/local/lib/python3.11/dist-packages (from tensorboard<2.15,>=2.14->tensorflow==2.14.0) (3.1.3)\n",
            "Requirement already satisfied: cachetools<6.0,>=2.0.0 in /usr/local/lib/python3.11/dist-packages (from google-auth<3,>=1.6.3->tensorboard<2.15,>=2.14->tensorflow==2.14.0) (5.5.2)\n",
            "Requirement already satisfied: pyasn1-modules>=0.2.1 in /usr/local/lib/python3.11/dist-packages (from google-auth<3,>=1.6.3->tensorboard<2.15,>=2.14->tensorflow==2.14.0) (0.4.2)\n",
            "Requirement already satisfied: rsa<5,>=3.1.4 in /usr/local/lib/python3.11/dist-packages (from google-auth<3,>=1.6.3->tensorboard<2.15,>=2.14->tensorflow==2.14.0) (4.9.1)\n",
            "Requirement already satisfied: requests-oauthlib>=0.7.0 in /usr/local/lib/python3.11/dist-packages (from google-auth-oauthlib<1.1,>=0.5->tensorboard<2.15,>=2.14->tensorflow==2.14.0) (2.0.0)\n",
            "Requirement already satisfied: charset-normalizer<4,>=2 in /usr/local/lib/python3.11/dist-packages (from requests<3,>=2.21.0->tensorboard<2.15,>=2.14->tensorflow==2.14.0) (3.4.2)\n",
            "Requirement already satisfied: idna<4,>=2.5 in /usr/local/lib/python3.11/dist-packages (from requests<3,>=2.21.0->tensorboard<2.15,>=2.14->tensorflow==2.14.0) (3.10)\n",
            "Requirement already satisfied: urllib3<3,>=1.21.1 in /usr/local/lib/python3.11/dist-packages (from requests<3,>=2.21.0->tensorboard<2.15,>=2.14->tensorflow==2.14.0) (2.4.0)\n",
            "Requirement already satisfied: certifi>=2017.4.17 in /usr/local/lib/python3.11/dist-packages (from requests<3,>=2.21.0->tensorboard<2.15,>=2.14->tensorflow==2.14.0) (2025.4.26)\n",
            "Requirement already satisfied: MarkupSafe>=2.1.1 in /usr/local/lib/python3.11/dist-packages (from werkzeug>=1.0.1->tensorboard<2.15,>=2.14->tensorflow==2.14.0) (3.0.2)\n",
            "Requirement already satisfied: pyasn1<0.7.0,>=0.6.1 in /usr/local/lib/python3.11/dist-packages (from pyasn1-modules>=0.2.1->google-auth<3,>=1.6.3->tensorboard<2.15,>=2.14->tensorflow==2.14.0) (0.6.1)\n",
            "Requirement already satisfied: oauthlib>=3.0.0 in /usr/local/lib/python3.11/dist-packages (from requests-oauthlib>=0.7.0->google-auth-oauthlib<1.1,>=0.5->tensorboard<2.15,>=2.14->tensorflow==2.14.0) (3.2.2)\n",
            "Requirement already satisfied: tensorflow_privacy==0.9.0 in /usr/local/lib/python3.11/dist-packages (0.9.0)\n",
            "Requirement already satisfied: absl-py==1.*,>=1.0 in /usr/local/lib/python3.11/dist-packages (from tensorflow_privacy==0.9.0) (1.4.0)\n",
            "Requirement already satisfied: dm-tree==0.1.8 in /usr/local/lib/python3.11/dist-packages (from tensorflow_privacy==0.9.0) (0.1.8)\n",
            "Requirement already satisfied: dp-accounting==0.4.3 in /usr/local/lib/python3.11/dist-packages (from tensorflow_privacy==0.9.0) (0.4.3)\n",
            "Requirement already satisfied: numpy~=1.21 in /usr/local/lib/python3.11/dist-packages (from tensorflow_privacy==0.9.0) (1.26.4)\n",
            "Requirement already satisfied: packaging~=22.0 in /usr/local/lib/python3.11/dist-packages (from tensorflow_privacy==0.9.0) (22.0)\n",
            "Requirement already satisfied: scikit-learn==1.*,>=1.0 in /usr/local/lib/python3.11/dist-packages (from tensorflow_privacy==0.9.0) (1.7.0)\n",
            "Requirement already satisfied: scipy~=1.9 in /usr/local/lib/python3.11/dist-packages (from tensorflow_privacy==0.9.0) (1.15.3)\n",
            "Requirement already satisfied: tensorflow-estimator~=2.4 in /usr/local/lib/python3.11/dist-packages (from tensorflow_privacy==0.9.0) (2.14.0)\n",
            "Requirement already satisfied: tensorflow-probability~=0.22.0 in /usr/local/lib/python3.11/dist-packages (from tensorflow_privacy==0.9.0) (0.22.1)\n",
            "Requirement already satisfied: tensorflow~=2.4 in /usr/local/lib/python3.11/dist-packages (from tensorflow_privacy==0.9.0) (2.14.0)\n",
            "Requirement already satisfied: attrs>=22 in /usr/local/lib/python3.11/dist-packages (from dp-accounting==0.4.3->tensorflow_privacy==0.9.0) (25.3.0)\n",
            "Requirement already satisfied: mpmath~=1.2 in /usr/local/lib/python3.11/dist-packages (from dp-accounting==0.4.3->tensorflow_privacy==0.9.0) (1.3.0)\n",
            "Requirement already satisfied: joblib>=1.2.0 in /usr/local/lib/python3.11/dist-packages (from scikit-learn==1.*,>=1.0->tensorflow_privacy==0.9.0) (1.5.1)\n",
            "Requirement already satisfied: threadpoolctl>=3.1.0 in /usr/local/lib/python3.11/dist-packages (from scikit-learn==1.*,>=1.0->tensorflow_privacy==0.9.0) (3.6.0)\n",
            "Requirement already satisfied: astunparse>=1.6.0 in /usr/local/lib/python3.11/dist-packages (from tensorflow~=2.4->tensorflow_privacy==0.9.0) (1.6.3)\n",
            "Requirement already satisfied: flatbuffers>=23.5.26 in /usr/local/lib/python3.11/dist-packages (from tensorflow~=2.4->tensorflow_privacy==0.9.0) (25.2.10)\n",
            "Requirement already satisfied: gast!=0.5.0,!=0.5.1,!=0.5.2,>=0.2.1 in /usr/local/lib/python3.11/dist-packages (from tensorflow~=2.4->tensorflow_privacy==0.9.0) (0.6.0)\n",
            "Requirement already satisfied: google-pasta>=0.1.1 in /usr/local/lib/python3.11/dist-packages (from tensorflow~=2.4->tensorflow_privacy==0.9.0) (0.2.0)\n",
            "Requirement already satisfied: h5py>=2.9.0 in /usr/local/lib/python3.11/dist-packages (from tensorflow~=2.4->tensorflow_privacy==0.9.0) (3.13.0)\n",
            "Requirement already satisfied: libclang>=13.0.0 in /usr/local/lib/python3.11/dist-packages (from tensorflow~=2.4->tensorflow_privacy==0.9.0) (18.1.1)\n",
            "Requirement already satisfied: ml-dtypes==0.2.0 in /usr/local/lib/python3.11/dist-packages (from tensorflow~=2.4->tensorflow_privacy==0.9.0) (0.2.0)\n",
            "Requirement already satisfied: opt-einsum>=2.3.2 in /usr/local/lib/python3.11/dist-packages (from tensorflow~=2.4->tensorflow_privacy==0.9.0) (3.4.0)\n",
            "Requirement already satisfied: protobuf!=4.21.0,!=4.21.1,!=4.21.2,!=4.21.3,!=4.21.4,!=4.21.5,<5.0.0dev,>=3.20.3 in /usr/local/lib/python3.11/dist-packages (from tensorflow~=2.4->tensorflow_privacy==0.9.0) (4.25.8)\n",
            "Requirement already satisfied: setuptools in /usr/local/lib/python3.11/dist-packages (from tensorflow~=2.4->tensorflow_privacy==0.9.0) (75.2.0)\n",
            "Requirement already satisfied: six>=1.12.0 in /usr/local/lib/python3.11/dist-packages (from tensorflow~=2.4->tensorflow_privacy==0.9.0) (1.17.0)\n",
            "Requirement already satisfied: termcolor>=1.1.0 in /usr/local/lib/python3.11/dist-packages (from tensorflow~=2.4->tensorflow_privacy==0.9.0) (3.1.0)\n",
            "Requirement already satisfied: typing-extensions>=3.6.6 in /usr/local/lib/python3.11/dist-packages (from tensorflow~=2.4->tensorflow_privacy==0.9.0) (4.14.0)\n",
            "Requirement already satisfied: wrapt<1.15,>=1.11.0 in /usr/local/lib/python3.11/dist-packages (from tensorflow~=2.4->tensorflow_privacy==0.9.0) (1.14.1)\n",
            "Requirement already satisfied: tensorflow-io-gcs-filesystem>=0.23.1 in /usr/local/lib/python3.11/dist-packages (from tensorflow~=2.4->tensorflow_privacy==0.9.0) (0.37.1)\n",
            "Requirement already satisfied: grpcio<2.0,>=1.24.3 in /usr/local/lib/python3.11/dist-packages (from tensorflow~=2.4->tensorflow_privacy==0.9.0) (1.72.1)\n",
            "Requirement already satisfied: tensorboard<2.15,>=2.14 in /usr/local/lib/python3.11/dist-packages (from tensorflow~=2.4->tensorflow_privacy==0.9.0) (2.14.1)\n",
            "Requirement already satisfied: keras<2.15,>=2.14.0 in /usr/local/lib/python3.11/dist-packages (from tensorflow~=2.4->tensorflow_privacy==0.9.0) (2.14.0)\n",
            "Requirement already satisfied: decorator in /usr/local/lib/python3.11/dist-packages (from tensorflow-probability~=0.22.0->tensorflow_privacy==0.9.0) (4.4.2)\n",
            "Requirement already satisfied: cloudpickle>=1.3 in /usr/local/lib/python3.11/dist-packages (from tensorflow-probability~=0.22.0->tensorflow_privacy==0.9.0) (3.1.1)\n",
            "Requirement already satisfied: wheel<1.0,>=0.23.0 in /usr/local/lib/python3.11/dist-packages (from astunparse>=1.6.0->tensorflow~=2.4->tensorflow_privacy==0.9.0) (0.45.1)\n",
            "Requirement already satisfied: google-auth<3,>=1.6.3 in /usr/local/lib/python3.11/dist-packages (from tensorboard<2.15,>=2.14->tensorflow~=2.4->tensorflow_privacy==0.9.0) (2.38.0)\n",
            "Requirement already satisfied: google-auth-oauthlib<1.1,>=0.5 in /usr/local/lib/python3.11/dist-packages (from tensorboard<2.15,>=2.14->tensorflow~=2.4->tensorflow_privacy==0.9.0) (1.0.0)\n",
            "Requirement already satisfied: markdown>=2.6.8 in /usr/local/lib/python3.11/dist-packages (from tensorboard<2.15,>=2.14->tensorflow~=2.4->tensorflow_privacy==0.9.0) (3.8)\n",
            "Requirement already satisfied: requests<3,>=2.21.0 in /usr/local/lib/python3.11/dist-packages (from tensorboard<2.15,>=2.14->tensorflow~=2.4->tensorflow_privacy==0.9.0) (2.32.3)\n",
            "Requirement already satisfied: tensorboard-data-server<0.8.0,>=0.7.0 in /usr/local/lib/python3.11/dist-packages (from tensorboard<2.15,>=2.14->tensorflow~=2.4->tensorflow_privacy==0.9.0) (0.7.2)\n",
            "Requirement already satisfied: werkzeug>=1.0.1 in /usr/local/lib/python3.11/dist-packages (from tensorboard<2.15,>=2.14->tensorflow~=2.4->tensorflow_privacy==0.9.0) (3.1.3)\n",
            "Requirement already satisfied: cachetools<6.0,>=2.0.0 in /usr/local/lib/python3.11/dist-packages (from google-auth<3,>=1.6.3->tensorboard<2.15,>=2.14->tensorflow~=2.4->tensorflow_privacy==0.9.0) (5.5.2)\n",
            "Requirement already satisfied: pyasn1-modules>=0.2.1 in /usr/local/lib/python3.11/dist-packages (from google-auth<3,>=1.6.3->tensorboard<2.15,>=2.14->tensorflow~=2.4->tensorflow_privacy==0.9.0) (0.4.2)\n",
            "Requirement already satisfied: rsa<5,>=3.1.4 in /usr/local/lib/python3.11/dist-packages (from google-auth<3,>=1.6.3->tensorboard<2.15,>=2.14->tensorflow~=2.4->tensorflow_privacy==0.9.0) (4.9.1)\n",
            "Requirement already satisfied: requests-oauthlib>=0.7.0 in /usr/local/lib/python3.11/dist-packages (from google-auth-oauthlib<1.1,>=0.5->tensorboard<2.15,>=2.14->tensorflow~=2.4->tensorflow_privacy==0.9.0) (2.0.0)\n",
            "Requirement already satisfied: charset-normalizer<4,>=2 in /usr/local/lib/python3.11/dist-packages (from requests<3,>=2.21.0->tensorboard<2.15,>=2.14->tensorflow~=2.4->tensorflow_privacy==0.9.0) (3.4.2)\n",
            "Requirement already satisfied: idna<4,>=2.5 in /usr/local/lib/python3.11/dist-packages (from requests<3,>=2.21.0->tensorboard<2.15,>=2.14->tensorflow~=2.4->tensorflow_privacy==0.9.0) (3.10)\n",
            "Requirement already satisfied: urllib3<3,>=1.21.1 in /usr/local/lib/python3.11/dist-packages (from requests<3,>=2.21.0->tensorboard<2.15,>=2.14->tensorflow~=2.4->tensorflow_privacy==0.9.0) (2.4.0)\n",
            "Requirement already satisfied: certifi>=2017.4.17 in /usr/local/lib/python3.11/dist-packages (from requests<3,>=2.21.0->tensorboard<2.15,>=2.14->tensorflow~=2.4->tensorflow_privacy==0.9.0) (2025.4.26)\n",
            "Requirement already satisfied: MarkupSafe>=2.1.1 in /usr/local/lib/python3.11/dist-packages (from werkzeug>=1.0.1->tensorboard<2.15,>=2.14->tensorflow~=2.4->tensorflow_privacy==0.9.0) (3.0.2)\n",
            "Requirement already satisfied: pyasn1<0.7.0,>=0.6.1 in /usr/local/lib/python3.11/dist-packages (from pyasn1-modules>=0.2.1->google-auth<3,>=1.6.3->tensorboard<2.15,>=2.14->tensorflow~=2.4->tensorflow_privacy==0.9.0) (0.6.1)\n",
            "Requirement already satisfied: oauthlib>=3.0.0 in /usr/local/lib/python3.11/dist-packages (from requests-oauthlib>=0.7.0->google-auth-oauthlib<1.1,>=0.5->tensorboard<2.15,>=2.14->tensorflow~=2.4->tensorflow_privacy==0.9.0) (3.2.2)\n"
          ]
        }
      ],
      "source": [
        "!pip install mne\n",
        "!pip install tensorflow==2.14.0\n",
        "!pip install tensorflow_privacy==0.9.0"
      ]
    },
    {
      "cell_type": "code",
      "execution_count": 3,
      "id": "VX2PDA_UC3X9",
      "metadata": {
        "colab": {
          "base_uri": "https://localhost:8080/"
        },
        "id": "VX2PDA_UC3X9",
        "outputId": "9e8fb82f-5426-4908-bcad-14b6f7badb25"
      },
      "outputs": [
        {
          "output_type": "stream",
          "name": "stdout",
          "text": [
            "Requirement already satisfied: numpy==1.26.4 in /usr/local/lib/python3.11/dist-packages (1.26.4)\n",
            "Requirement already satisfied: scikit-learn in /usr/local/lib/python3.11/dist-packages (1.7.0)\n",
            "Requirement already satisfied: numpy>=1.22.0 in /usr/local/lib/python3.11/dist-packages (from scikit-learn) (1.26.4)\n",
            "Requirement already satisfied: scipy>=1.8.0 in /usr/local/lib/python3.11/dist-packages (from scikit-learn) (1.15.3)\n",
            "Requirement already satisfied: joblib>=1.2.0 in /usr/local/lib/python3.11/dist-packages (from scikit-learn) (1.5.1)\n",
            "Requirement already satisfied: threadpoolctl>=3.1.0 in /usr/local/lib/python3.11/dist-packages (from scikit-learn) (3.6.0)\n"
          ]
        }
      ],
      "source": [
        "!pip install --upgrade numpy==1.26.4\n",
        "!pip install --upgrade scikit-learn"
      ]
    },
    {
      "cell_type": "code",
      "execution_count": 4,
      "id": "fe8d6f4a-2859-4289-8344-c4ba3743360a",
      "metadata": {
        "colab": {
          "base_uri": "https://localhost:8080/"
        },
        "id": "fe8d6f4a-2859-4289-8344-c4ba3743360a",
        "outputId": "4df52686-69ae-4b18-fd85-e3dd738a9966"
      },
      "outputs": [
        {
          "output_type": "stream",
          "name": "stdout",
          "text": [
            "Automatically created module for IPython interactive environment\n"
          ]
        }
      ],
      "source": [
        "import matplotlib.pyplot as plt\n",
        "import numpy as np\n",
        "from sklearn.discriminant_analysis import LinearDiscriminantAnalysis\n",
        "from sklearn.model_selection import ShuffleSplit, cross_val_score\n",
        "from sklearn.pipeline import Pipeline\n",
        "\n",
        "from EEGModels import EEGNet\n",
        "from EEGModels import DeepConvNet\n",
        "from EEGModels import ShallowConvNet\n",
        "from mne import Epochs, pick_types\n",
        "from mne.channels import make_standard_montage\n",
        "from mne.datasets import eegbci\n",
        "from mne.decoding import CSP\n",
        "from mne.io import concatenate_raws, read_raw_edf\n",
        "\n",
        "print(__doc__)"
      ]
    },
    {
      "cell_type": "code",
      "execution_count": 5,
      "id": "24fec36d-67ef-4777-8603-8bd0d0f114c8",
      "metadata": {
        "colab": {
          "base_uri": "https://localhost:8080/"
        },
        "id": "24fec36d-67ef-4777-8603-8bd0d0f114c8",
        "outputId": "59b92a55-77bc-42a6-fb53-aa910ddc2cf7"
      },
      "outputs": [
        {
          "output_type": "stream",
          "name": "stderr",
          "text": [
            "WARNING:tensorflow:From /usr/local/lib/python3.11/dist-packages/tensorflow/python/compat/v2_compat.py:108: disable_resource_variables (from tensorflow.python.ops.variable_scope) is deprecated and will be removed in a future version.\n",
            "Instructions for updating:\n",
            "non-resource variables are not supported in the long term\n"
          ]
        }
      ],
      "source": [
        "import tensorflow as tf\n",
        "tf.compat.v1.disable_v2_behavior()\n",
        "from tensorflow_privacy.privacy.optimizers.dp_optimizer import DPGradientDescentGaussianOptimizer\n",
        "from tensorflow_privacy.privacy.analysis import compute_dp_sgd_privacy_lib"
      ]
    },
    {
      "cell_type": "code",
      "execution_count": 6,
      "id": "b3b412f3-7760-4e20-9e7f-da14dc33312c",
      "metadata": {
        "id": "b3b412f3-7760-4e20-9e7f-da14dc33312c"
      },
      "outputs": [],
      "source": [
        "import h5py\n",
        "import time"
      ]
    },
    {
      "cell_type": "code",
      "execution_count": 7,
      "id": "0ac5eb4a-f70e-408a-bf92-a89c1325ac25",
      "metadata": {
        "id": "0ac5eb4a-f70e-408a-bf92-a89c1325ac25"
      },
      "outputs": [],
      "source": [
        "from tensorflow.keras import utils as np_utils\n",
        "from tensorflow.keras.callbacks import ModelCheckpoint\n",
        "from tensorflow.keras import backend as K"
      ]
    },
    {
      "cell_type": "code",
      "execution_count": 8,
      "id": "bcf5dade-e238-405f-91cd-692cb6961d34",
      "metadata": {
        "colab": {
          "base_uri": "https://localhost:8080/"
        },
        "id": "bcf5dade-e238-405f-91cd-692cb6961d34",
        "outputId": "ec4f25a5-b503-4b50-c914-0604029e4032"
      },
      "outputs": [
        {
          "output_type": "stream",
          "name": "stdout",
          "text": [
            "Using default location ~/mne_data for EEGBCI...\n",
            "Creating /root/mne_data\n",
            "Downloading EEGBCI data\n"
          ]
        },
        {
          "output_type": "stream",
          "name": "stderr",
          "text": [
            "Downloading file 'S001/S001R06.edf' from 'https://physionet.org/files/eegmmidb/1.0.0/S001/S001R06.edf' to '/root/mne_data/MNE-eegbci-data/files/eegmmidb/1.0.0'.\n",
            "Downloading file 'S001/S001R10.edf' from 'https://physionet.org/files/eegmmidb/1.0.0/S001/S001R10.edf' to '/root/mne_data/MNE-eegbci-data/files/eegmmidb/1.0.0'.\n",
            "Downloading file 'S001/S001R14.edf' from 'https://physionet.org/files/eegmmidb/1.0.0/S001/S001R14.edf' to '/root/mne_data/MNE-eegbci-data/files/eegmmidb/1.0.0'.\n",
            "Downloading file 'S002/S002R06.edf' from 'https://physionet.org/files/eegmmidb/1.0.0/S002/S002R06.edf' to '/root/mne_data/MNE-eegbci-data/files/eegmmidb/1.0.0'.\n",
            "Downloading file 'S002/S002R10.edf' from 'https://physionet.org/files/eegmmidb/1.0.0/S002/S002R10.edf' to '/root/mne_data/MNE-eegbci-data/files/eegmmidb/1.0.0'.\n",
            "Downloading file 'S002/S002R14.edf' from 'https://physionet.org/files/eegmmidb/1.0.0/S002/S002R14.edf' to '/root/mne_data/MNE-eegbci-data/files/eegmmidb/1.0.0'.\n",
            "Downloading file 'S003/S003R06.edf' from 'https://physionet.org/files/eegmmidb/1.0.0/S003/S003R06.edf' to '/root/mne_data/MNE-eegbci-data/files/eegmmidb/1.0.0'.\n",
            "Downloading file 'S003/S003R10.edf' from 'https://physionet.org/files/eegmmidb/1.0.0/S003/S003R10.edf' to '/root/mne_data/MNE-eegbci-data/files/eegmmidb/1.0.0'.\n",
            "Downloading file 'S003/S003R14.edf' from 'https://physionet.org/files/eegmmidb/1.0.0/S003/S003R14.edf' to '/root/mne_data/MNE-eegbci-data/files/eegmmidb/1.0.0'.\n",
            "Downloading file 'S004/S004R06.edf' from 'https://physionet.org/files/eegmmidb/1.0.0/S004/S004R06.edf' to '/root/mne_data/MNE-eegbci-data/files/eegmmidb/1.0.0'.\n",
            "Downloading file 'S004/S004R10.edf' from 'https://physionet.org/files/eegmmidb/1.0.0/S004/S004R10.edf' to '/root/mne_data/MNE-eegbci-data/files/eegmmidb/1.0.0'.\n",
            "Downloading file 'S004/S004R14.edf' from 'https://physionet.org/files/eegmmidb/1.0.0/S004/S004R14.edf' to '/root/mne_data/MNE-eegbci-data/files/eegmmidb/1.0.0'.\n",
            "Downloading file 'S005/S005R06.edf' from 'https://physionet.org/files/eegmmidb/1.0.0/S005/S005R06.edf' to '/root/mne_data/MNE-eegbci-data/files/eegmmidb/1.0.0'.\n",
            "Downloading file 'S005/S005R10.edf' from 'https://physionet.org/files/eegmmidb/1.0.0/S005/S005R10.edf' to '/root/mne_data/MNE-eegbci-data/files/eegmmidb/1.0.0'.\n",
            "Downloading file 'S005/S005R14.edf' from 'https://physionet.org/files/eegmmidb/1.0.0/S005/S005R14.edf' to '/root/mne_data/MNE-eegbci-data/files/eegmmidb/1.0.0'.\n",
            "Downloading file 'S006/S006R06.edf' from 'https://physionet.org/files/eegmmidb/1.0.0/S006/S006R06.edf' to '/root/mne_data/MNE-eegbci-data/files/eegmmidb/1.0.0'.\n",
            "Downloading file 'S006/S006R10.edf' from 'https://physionet.org/files/eegmmidb/1.0.0/S006/S006R10.edf' to '/root/mne_data/MNE-eegbci-data/files/eegmmidb/1.0.0'.\n",
            "Downloading file 'S006/S006R14.edf' from 'https://physionet.org/files/eegmmidb/1.0.0/S006/S006R14.edf' to '/root/mne_data/MNE-eegbci-data/files/eegmmidb/1.0.0'.\n",
            "Downloading file 'S007/S007R06.edf' from 'https://physionet.org/files/eegmmidb/1.0.0/S007/S007R06.edf' to '/root/mne_data/MNE-eegbci-data/files/eegmmidb/1.0.0'.\n",
            "Downloading file 'S007/S007R10.edf' from 'https://physionet.org/files/eegmmidb/1.0.0/S007/S007R10.edf' to '/root/mne_data/MNE-eegbci-data/files/eegmmidb/1.0.0'.\n",
            "Downloading file 'S007/S007R14.edf' from 'https://physionet.org/files/eegmmidb/1.0.0/S007/S007R14.edf' to '/root/mne_data/MNE-eegbci-data/files/eegmmidb/1.0.0'.\n",
            "Downloading file 'S008/S008R06.edf' from 'https://physionet.org/files/eegmmidb/1.0.0/S008/S008R06.edf' to '/root/mne_data/MNE-eegbci-data/files/eegmmidb/1.0.0'.\n",
            "Downloading file 'S008/S008R10.edf' from 'https://physionet.org/files/eegmmidb/1.0.0/S008/S008R10.edf' to '/root/mne_data/MNE-eegbci-data/files/eegmmidb/1.0.0'.\n",
            "Downloading file 'S008/S008R14.edf' from 'https://physionet.org/files/eegmmidb/1.0.0/S008/S008R14.edf' to '/root/mne_data/MNE-eegbci-data/files/eegmmidb/1.0.0'.\n",
            "Downloading file 'S009/S009R06.edf' from 'https://physionet.org/files/eegmmidb/1.0.0/S009/S009R06.edf' to '/root/mne_data/MNE-eegbci-data/files/eegmmidb/1.0.0'.\n",
            "Downloading file 'S009/S009R10.edf' from 'https://physionet.org/files/eegmmidb/1.0.0/S009/S009R10.edf' to '/root/mne_data/MNE-eegbci-data/files/eegmmidb/1.0.0'.\n",
            "Downloading file 'S009/S009R14.edf' from 'https://physionet.org/files/eegmmidb/1.0.0/S009/S009R14.edf' to '/root/mne_data/MNE-eegbci-data/files/eegmmidb/1.0.0'.\n"
          ]
        },
        {
          "output_type": "stream",
          "name": "stdout",
          "text": [
            "Do you want to set the path:\n",
            "    /root/mne_data\n",
            "as the default EEGBCI dataset path in the mne-python config [y]/n? y\n",
            "Attempting to create new mne-python configuration file:\n",
            "/root/.mne/mne-python.json\n",
            "Download complete in 04m23s (66.2 MB)\n",
            "Extracting EDF parameters from /root/mne_data/MNE-eegbci-data/files/eegmmidb/1.0.0/S001/S001R06.edf...\n",
            "EDF file detected\n",
            "Setting channel info structure...\n",
            "Creating raw.info structure...\n",
            "Reading 0 ... 19999  =      0.000 ...   124.994 secs...\n",
            "Extracting EDF parameters from /root/mne_data/MNE-eegbci-data/files/eegmmidb/1.0.0/S001/S001R10.edf...\n",
            "EDF file detected\n",
            "Setting channel info structure...\n",
            "Creating raw.info structure...\n",
            "Reading 0 ... 19999  =      0.000 ...   124.994 secs...\n",
            "Extracting EDF parameters from /root/mne_data/MNE-eegbci-data/files/eegmmidb/1.0.0/S001/S001R14.edf...\n",
            "EDF file detected\n",
            "Setting channel info structure...\n",
            "Creating raw.info structure...\n",
            "Reading 0 ... 19999  =      0.000 ...   124.994 secs...\n",
            "Extracting EDF parameters from /root/mne_data/MNE-eegbci-data/files/eegmmidb/1.0.0/S002/S002R06.edf...\n",
            "EDF file detected\n",
            "Setting channel info structure...\n",
            "Creating raw.info structure...\n",
            "Reading 0 ... 19679  =      0.000 ...   122.994 secs...\n",
            "Extracting EDF parameters from /root/mne_data/MNE-eegbci-data/files/eegmmidb/1.0.0/S002/S002R10.edf...\n",
            "EDF file detected\n",
            "Setting channel info structure...\n",
            "Creating raw.info structure...\n",
            "Reading 0 ... 19679  =      0.000 ...   122.994 secs...\n",
            "Extracting EDF parameters from /root/mne_data/MNE-eegbci-data/files/eegmmidb/1.0.0/S002/S002R14.edf...\n",
            "EDF file detected\n",
            "Setting channel info structure...\n",
            "Creating raw.info structure...\n",
            "Reading 0 ... 19679  =      0.000 ...   122.994 secs...\n",
            "Extracting EDF parameters from /root/mne_data/MNE-eegbci-data/files/eegmmidb/1.0.0/S003/S003R06.edf...\n",
            "EDF file detected\n",
            "Setting channel info structure...\n",
            "Creating raw.info structure...\n",
            "Reading 0 ... 19999  =      0.000 ...   124.994 secs...\n",
            "Extracting EDF parameters from /root/mne_data/MNE-eegbci-data/files/eegmmidb/1.0.0/S003/S003R10.edf...\n",
            "EDF file detected\n",
            "Setting channel info structure...\n",
            "Creating raw.info structure...\n",
            "Reading 0 ... 19999  =      0.000 ...   124.994 secs...\n",
            "Extracting EDF parameters from /root/mne_data/MNE-eegbci-data/files/eegmmidb/1.0.0/S003/S003R14.edf...\n",
            "EDF file detected\n",
            "Setting channel info structure...\n",
            "Creating raw.info structure...\n",
            "Reading 0 ... 19999  =      0.000 ...   124.994 secs...\n",
            "Extracting EDF parameters from /root/mne_data/MNE-eegbci-data/files/eegmmidb/1.0.0/S004/S004R06.edf...\n",
            "EDF file detected\n",
            "Setting channel info structure...\n",
            "Creating raw.info structure...\n",
            "Reading 0 ... 19679  =      0.000 ...   122.994 secs...\n",
            "Extracting EDF parameters from /root/mne_data/MNE-eegbci-data/files/eegmmidb/1.0.0/S004/S004R10.edf...\n",
            "EDF file detected\n",
            "Setting channel info structure...\n",
            "Creating raw.info structure...\n",
            "Reading 0 ... 19679  =      0.000 ...   122.994 secs...\n",
            "Extracting EDF parameters from /root/mne_data/MNE-eegbci-data/files/eegmmidb/1.0.0/S004/S004R14.edf...\n",
            "EDF file detected\n",
            "Setting channel info structure...\n",
            "Creating raw.info structure...\n",
            "Reading 0 ... 19679  =      0.000 ...   122.994 secs...\n",
            "Extracting EDF parameters from /root/mne_data/MNE-eegbci-data/files/eegmmidb/1.0.0/S005/S005R06.edf...\n",
            "EDF file detected\n",
            "Setting channel info structure...\n",
            "Creating raw.info structure...\n",
            "Reading 0 ... 19679  =      0.000 ...   122.994 secs...\n",
            "Extracting EDF parameters from /root/mne_data/MNE-eegbci-data/files/eegmmidb/1.0.0/S005/S005R10.edf...\n",
            "EDF file detected\n",
            "Setting channel info structure...\n",
            "Creating raw.info structure...\n",
            "Reading 0 ... 19679  =      0.000 ...   122.994 secs...\n",
            "Extracting EDF parameters from /root/mne_data/MNE-eegbci-data/files/eegmmidb/1.0.0/S005/S005R14.edf...\n",
            "EDF file detected\n",
            "Setting channel info structure...\n",
            "Creating raw.info structure...\n",
            "Reading 0 ... 19679  =      0.000 ...   122.994 secs...\n",
            "Extracting EDF parameters from /root/mne_data/MNE-eegbci-data/files/eegmmidb/1.0.0/S006/S006R06.edf...\n",
            "EDF file detected\n",
            "Setting channel info structure...\n",
            "Creating raw.info structure...\n",
            "Reading 0 ... 19679  =      0.000 ...   122.994 secs...\n",
            "Extracting EDF parameters from /root/mne_data/MNE-eegbci-data/files/eegmmidb/1.0.0/S006/S006R10.edf...\n",
            "EDF file detected\n",
            "Setting channel info structure...\n",
            "Creating raw.info structure...\n",
            "Reading 0 ... 19679  =      0.000 ...   122.994 secs...\n",
            "Extracting EDF parameters from /root/mne_data/MNE-eegbci-data/files/eegmmidb/1.0.0/S006/S006R14.edf...\n",
            "EDF file detected\n",
            "Setting channel info structure...\n",
            "Creating raw.info structure...\n",
            "Reading 0 ... 19679  =      0.000 ...   122.994 secs...\n",
            "Extracting EDF parameters from /root/mne_data/MNE-eegbci-data/files/eegmmidb/1.0.0/S007/S007R06.edf...\n",
            "EDF file detected\n",
            "Setting channel info structure...\n",
            "Creating raw.info structure...\n",
            "Reading 0 ... 19999  =      0.000 ...   124.994 secs...\n",
            "Extracting EDF parameters from /root/mne_data/MNE-eegbci-data/files/eegmmidb/1.0.0/S007/S007R10.edf...\n",
            "EDF file detected\n",
            "Setting channel info structure...\n",
            "Creating raw.info structure...\n",
            "Reading 0 ... 19999  =      0.000 ...   124.994 secs...\n",
            "Extracting EDF parameters from /root/mne_data/MNE-eegbci-data/files/eegmmidb/1.0.0/S007/S007R14.edf...\n",
            "EDF file detected\n",
            "Setting channel info structure...\n",
            "Creating raw.info structure...\n",
            "Reading 0 ... 19999  =      0.000 ...   124.994 secs...\n",
            "Extracting EDF parameters from /root/mne_data/MNE-eegbci-data/files/eegmmidb/1.0.0/S008/S008R06.edf...\n",
            "EDF file detected\n",
            "Setting channel info structure...\n",
            "Creating raw.info structure...\n",
            "Reading 0 ... 19679  =      0.000 ...   122.994 secs...\n",
            "Extracting EDF parameters from /root/mne_data/MNE-eegbci-data/files/eegmmidb/1.0.0/S008/S008R10.edf...\n",
            "EDF file detected\n",
            "Setting channel info structure...\n",
            "Creating raw.info structure...\n",
            "Reading 0 ... 19679  =      0.000 ...   122.994 secs...\n",
            "Extracting EDF parameters from /root/mne_data/MNE-eegbci-data/files/eegmmidb/1.0.0/S008/S008R14.edf...\n",
            "EDF file detected\n",
            "Setting channel info structure...\n",
            "Creating raw.info structure...\n",
            "Reading 0 ... 19679  =      0.000 ...   122.994 secs...\n",
            "Extracting EDF parameters from /root/mne_data/MNE-eegbci-data/files/eegmmidb/1.0.0/S009/S009R06.edf...\n",
            "EDF file detected\n",
            "Setting channel info structure...\n",
            "Creating raw.info structure...\n",
            "Reading 0 ... 19679  =      0.000 ...   122.994 secs...\n",
            "Extracting EDF parameters from /root/mne_data/MNE-eegbci-data/files/eegmmidb/1.0.0/S009/S009R10.edf...\n",
            "EDF file detected\n",
            "Setting channel info structure...\n",
            "Creating raw.info structure...\n",
            "Reading 0 ... 19679  =      0.000 ...   122.994 secs...\n",
            "Extracting EDF parameters from /root/mne_data/MNE-eegbci-data/files/eegmmidb/1.0.0/S009/S009R14.edf...\n",
            "EDF file detected\n",
            "Setting channel info structure...\n",
            "Creating raw.info structure...\n",
            "Reading 0 ... 19679  =      0.000 ...   122.994 secs...\n",
            "EEG channel type selected for re-referencing\n",
            "Adding average EEG reference projection.\n",
            "1 projection items deactivated\n",
            "Average reference projection was added, but has not been applied yet. Use the apply_proj method to apply it.\n",
            "Filtering raw data in 27 contiguous segments\n",
            "Setting up band-pass filter from 7 - 30 Hz\n",
            "\n",
            "FIR filter parameters\n",
            "---------------------\n",
            "Designing a one-pass, zero-phase, non-causal bandpass filter:\n",
            "- Windowed time-domain design (firwin) method\n",
            "- Hamming window with 0.0194 passband ripple and 53 dB stopband attenuation\n",
            "- Lower passband edge: 7.00\n",
            "- Lower transition bandwidth: 2.00 Hz (-6 dB cutoff frequency: 6.00 Hz)\n",
            "- Upper passband edge: 30.00 Hz\n",
            "- Upper transition bandwidth: 7.50 Hz (-6 dB cutoff frequency: 33.75 Hz)\n",
            "- Filter length: 265 samples (1.656 s)\n",
            "\n"
          ]
        },
        {
          "output_type": "stream",
          "name": "stderr",
          "text": [
            "[Parallel(n_jobs=1)]: Done  17 tasks      | elapsed:    0.0s\n",
            "[Parallel(n_jobs=1)]: Done  64 out of  64 | elapsed:    0.1s finished\n"
          ]
        },
        {
          "output_type": "stream",
          "name": "stdout",
          "text": [
            "Used Annotations descriptions: ['T0', 'feet', 'hands']\n",
            "Ignoring annotation durations and creating fixed-duration epochs around annotation onsets.\n",
            "Not setting metadata\n",
            "405 matching events found\n",
            "No baseline correction applied\n",
            "Created an SSP operator (subspace dimension = 1)\n",
            "1 projection items activated\n",
            "Using data from preloaded Raw for 405 events and 801 original time points ...\n",
            "0 bad epochs dropped\n"
          ]
        }
      ],
      "source": [
        "# #############################################################################\n",
        "# # Set parameters and read data\n",
        "\n",
        "# avoid classification of evoked responses by using epochs that start 1s after\n",
        "# cue onset.\n",
        "tmin, tmax = -1.0, 4.0\n",
        "subjects = range(1,10)\n",
        "runs = [6, 10, 14]  # motor imagery: hands vs feet\n",
        "\n",
        "raw_fnames = eegbci.load_data(subjects, runs)\n",
        "raw = concatenate_raws([read_raw_edf(f, preload=True) for f in raw_fnames])\n",
        "eegbci.standardize(raw)  # set channel names\n",
        "montage = make_standard_montage(\"standard_1005\")\n",
        "raw.set_montage(montage)\n",
        "raw.annotations.rename(dict(T1=\"hands\", T2=\"feet\"))  # as documented on PhysioNet\n",
        "raw.set_eeg_reference(projection=True)\n",
        "\n",
        "# Apply band-pass filter\n",
        "raw.filter(7.0, 30.0, fir_design=\"firwin\", skip_by_annotation=\"edge\")\n",
        "\n",
        "picks = pick_types(raw.info, meg=False, eeg=True, stim=False, eog=False, exclude=\"bads\")\n",
        "\n",
        "# Read epochs (train will be done only between 1 and 2s)\n",
        "# Testing will be done with a running classifier\n",
        "epochs = Epochs(\n",
        "    raw,\n",
        "    event_id=[\"hands\", \"feet\"],\n",
        "    tmin=tmin,\n",
        "    tmax=tmax,\n",
        "    proj=True,\n",
        "    picks=picks,\n",
        "    baseline=None,\n",
        "    preload=True,\n",
        ")\n",
        "epochs_train = epochs.copy().crop(tmin=1.0, tmax=2.0)\n",
        "labels = epochs.events[:, -1] - 2"
      ]
    },
    {
      "cell_type": "code",
      "execution_count": 9,
      "id": "fe95232b-a26d-4e10-9405-4dff0354c9ea",
      "metadata": {
        "id": "fe95232b-a26d-4e10-9405-4dff0354c9ea"
      },
      "outputs": [],
      "source": [
        "# extract raw data. scale by 1000 due to scaling sensitivity in deep learning\n",
        "X = epochs.get_data()*1000 # format is in (trials, channels, samples)\n",
        "y = labels\n",
        "\n",
        "kernels, chans, samples = 1, 64, 801"
      ]
    },
    {
      "cell_type": "code",
      "execution_count": 10,
      "id": "0ff3ff00-b005-4f33-8951-301e8635d9bf",
      "metadata": {
        "colab": {
          "base_uri": "https://localhost:8080/"
        },
        "id": "0ff3ff00-b005-4f33-8951-301e8635d9bf",
        "outputId": "5b533c4b-3c2f-44fe-95ee-6a050851a20e"
      },
      "outputs": [
        {
          "output_type": "stream",
          "name": "stdout",
          "text": [
            "(405, 64, 801) (405,)\n"
          ]
        }
      ],
      "source": [
        "print(X.shape, y.shape)"
      ]
    },
    {
      "cell_type": "code",
      "execution_count": 11,
      "id": "Yuy7EGmHv_NQ",
      "metadata": {
        "id": "Yuy7EGmHv_NQ"
      },
      "outputs": [],
      "source": [
        "start = time.time()"
      ]
    },
    {
      "cell_type": "code",
      "execution_count": 12,
      "id": "d58a5551-39be-42c8-a272-e704330bb6f4",
      "metadata": {
        "id": "d58a5551-39be-42c8-a272-e704330bb6f4"
      },
      "outputs": [],
      "source": [
        "X_train      = X[0:224,]\n",
        "Y_train      = y[0:224]\n",
        "X_validate   = X[224:320,]\n",
        "Y_validate   = y[224:320]\n",
        "X_test       = X[320:416]\n",
        "Y_test       = y[320:416]"
      ]
    },
    {
      "cell_type": "code",
      "execution_count": 13,
      "id": "11dc6b53-286d-4e66-b760-53ed7cdd358f",
      "metadata": {
        "colab": {
          "base_uri": "https://localhost:8080/"
        },
        "id": "11dc6b53-286d-4e66-b760-53ed7cdd358f",
        "outputId": "8075531d-6b5d-4c51-b75c-63e33d18f7ad"
      },
      "outputs": [
        {
          "output_type": "stream",
          "name": "stdout",
          "text": [
            "X_train shape: (224, 64, 801, 1)\n",
            "224 train samples\n",
            "85 test samples\n"
          ]
        }
      ],
      "source": [
        "X_train      = X_train.reshape(X_train.shape[0], chans, samples, kernels)\n",
        "X_validate   = X_validate.reshape(X_validate.shape[0], chans, samples, kernels)\n",
        "X_test       = X_test.reshape(X_test.shape[0], chans, samples, kernels)\n",
        "\n",
        "print('X_train shape:', X_train.shape)\n",
        "print(X_train.shape[0], 'train samples')\n",
        "print(X_test.shape[0], 'test samples')"
      ]
    },
    {
      "cell_type": "code",
      "execution_count": 14,
      "id": "8a168cf5-f7e1-464e-a058-1973860e585e",
      "metadata": {
        "colab": {
          "base_uri": "https://localhost:8080/"
        },
        "id": "8a168cf5-f7e1-464e-a058-1973860e585e",
        "outputId": "588acb9d-973b-43c9-bc77-336c13060a60"
      },
      "outputs": [
        {
          "output_type": "stream",
          "name": "stderr",
          "text": [
            "WARNING:tensorflow:From /usr/local/lib/python3.11/dist-packages/keras/src/layers/normalization/batch_normalization.py:883: _colocate_with (from tensorflow.python.framework.ops) is deprecated and will be removed in a future version.\n",
            "Instructions for updating:\n",
            "Colocations handled automatically by placer.\n"
          ]
        }
      ],
      "source": [
        "model = DeepConvNet(nb_classes = 2, Chans = chans, Samples = samples, dropoutRate = 0.5)"
      ]
    },
    {
      "cell_type": "code",
      "execution_count": 15,
      "id": "8f230e5d-cf35-4578-a6ab-9fea2e942511",
      "metadata": {
        "id": "8f230e5d-cf35-4578-a6ab-9fea2e942511"
      },
      "outputs": [],
      "source": [
        "l2_norm_clip = 1.5\n",
        "noise_multiplier = 0.5 # was 1.3\n",
        "batch_size = 16\n",
        "num_microbatches = 16\n",
        "learning_rate = 0.25\n",
        "batch_size = 16"
      ]
    },
    {
      "cell_type": "code",
      "execution_count": 16,
      "id": "fba3f9b1-e32b-4f5f-a9d6-692cc034c026",
      "metadata": {
        "id": "fba3f9b1-e32b-4f5f-a9d6-692cc034c026"
      },
      "outputs": [],
      "source": [
        "optimizer = DPGradientDescentGaussianOptimizer(\n",
        "    l2_norm_clip=1.0,      # Gradient clipping norm\n",
        "    noise_multiplier=0.5,  # Controls privacy strength (lower = more privacy)\n",
        "    num_microbatches=num_microbatches, # Use per-example gradients\n",
        "    learning_rate=0.001\n",
        ")\n",
        "\n",
        "loss = tf.keras.losses.SparseCategoricalCrossentropy(\n",
        "    from_logits=False, reduction=tf.losses.Reduction.NONE)"
      ]
    },
    {
      "cell_type": "code",
      "execution_count": 17,
      "id": "86f3c3d1-2246-4bec-91f8-4962f67add06",
      "metadata": {
        "id": "86f3c3d1-2246-4bec-91f8-4962f67add06"
      },
      "outputs": [],
      "source": [
        "# compile the model and set the optimizers\n",
        "model.compile(loss=loss,\n",
        "              optimizer=optimizer,\n",
        "              metrics = ['accuracy'])"
      ]
    },
    {
      "cell_type": "code",
      "execution_count": 18,
      "id": "OlDOR1x6mVI2",
      "metadata": {
        "id": "OlDOR1x6mVI2"
      },
      "outputs": [],
      "source": [
        "import os\n",
        "os.makedirs('./tmp', exist_ok=True)"
      ]
    },
    {
      "cell_type": "code",
      "execution_count": 19,
      "id": "a042f220-6e56-4c39-8bab-95f26da1237b",
      "metadata": {
        "colab": {
          "base_uri": "https://localhost:8080/"
        },
        "id": "a042f220-6e56-4c39-8bab-95f26da1237b",
        "outputId": "a73a8398-759c-42fe-ef25-a6e9d9fbd1bb"
      },
      "outputs": [
        {
          "output_type": "stream",
          "name": "stdout",
          "text": [
            "Train on 224 samples, validate on 96 samples\n",
            "Epoch 1/100\n"
          ]
        },
        {
          "output_type": "stream",
          "name": "stderr",
          "text": [
            "/usr/local/lib/python3.11/dist-packages/keras/src/engine/training_v1.py:2335: UserWarning: `Model.state_updates` will be removed in a future version. This property should not be used in TensorFlow 2.0, as `updates` are applied automatically.\n",
            "  updates = self.state_updates\n"
          ]
        },
        {
          "output_type": "stream",
          "name": "stdout",
          "text": [
            "224/224 - 77s - loss: 0.8863 - acc: 0.5179 - val_loss: 0.7124 - val_acc: 0.4896 - 77s/epoch - 344ms/sample\n",
            "Epoch 2/100\n",
            "224/224 - 76s - loss: 0.7462 - acc: 0.5491 - val_loss: 0.7176 - val_acc: 0.4896 - 76s/epoch - 341ms/sample\n",
            "Epoch 3/100\n",
            "224/224 - 71s - loss: 0.8440 - acc: 0.4464 - val_loss: 0.7193 - val_acc: 0.4896 - 71s/epoch - 318ms/sample\n",
            "Epoch 4/100\n",
            "224/224 - 79s - loss: 0.7658 - acc: 0.5491 - val_loss: 0.7194 - val_acc: 0.4896 - 79s/epoch - 355ms/sample\n",
            "Epoch 5/100\n",
            "224/224 - 100s - loss: 0.7723 - acc: 0.4911 - val_loss: 0.7175 - val_acc: 0.4896 - 100s/epoch - 445ms/sample\n",
            "Epoch 6/100\n",
            "224/224 - 83s - loss: 0.8058 - acc: 0.4911 - val_loss: 0.7162 - val_acc: 0.4896 - 83s/epoch - 372ms/sample\n",
            "Epoch 7/100\n",
            "224/224 - 77s - loss: 0.7839 - acc: 0.5357 - val_loss: 0.7112 - val_acc: 0.4896 - 77s/epoch - 344ms/sample\n",
            "Epoch 8/100\n",
            "224/224 - 90s - loss: 0.8160 - acc: 0.4866 - val_loss: 0.7086 - val_acc: 0.5104 - 90s/epoch - 403ms/sample\n",
            "Epoch 9/100\n",
            "224/224 - 76s - loss: 0.8159 - acc: 0.4777 - val_loss: 0.7070 - val_acc: 0.5104 - 76s/epoch - 340ms/sample\n",
            "Epoch 10/100\n",
            "224/224 - 78s - loss: 0.7923 - acc: 0.4777 - val_loss: 0.7057 - val_acc: 0.5000 - 78s/epoch - 347ms/sample\n",
            "Epoch 11/100\n",
            "224/224 - 76s - loss: 0.7888 - acc: 0.4688 - val_loss: 0.7024 - val_acc: 0.5208 - 76s/epoch - 338ms/sample\n",
            "Epoch 12/100\n",
            "224/224 - 83s - loss: 0.7819 - acc: 0.5223 - val_loss: 0.7012 - val_acc: 0.5417 - 83s/epoch - 372ms/sample\n",
            "Epoch 13/100\n",
            "224/224 - 79s - loss: 0.7893 - acc: 0.4955 - val_loss: 0.7021 - val_acc: 0.5104 - 79s/epoch - 353ms/sample\n",
            "Epoch 14/100\n",
            "224/224 - 78s - loss: 0.7882 - acc: 0.5312 - val_loss: 0.7022 - val_acc: 0.5104 - 78s/epoch - 348ms/sample\n",
            "Epoch 15/100\n",
            "224/224 - 76s - loss: 0.7825 - acc: 0.4732 - val_loss: 0.7027 - val_acc: 0.5104 - 76s/epoch - 340ms/sample\n",
            "Epoch 16/100\n",
            "224/224 - 76s - loss: 0.7871 - acc: 0.4643 - val_loss: 0.7024 - val_acc: 0.5104 - 76s/epoch - 340ms/sample\n",
            "Epoch 17/100\n",
            "224/224 - 76s - loss: 0.7923 - acc: 0.4866 - val_loss: 0.7030 - val_acc: 0.5104 - 76s/epoch - 340ms/sample\n",
            "Epoch 18/100\n",
            "224/224 - 77s - loss: 0.8191 - acc: 0.5045 - val_loss: 0.7036 - val_acc: 0.5104 - 77s/epoch - 345ms/sample\n",
            "Epoch 19/100\n",
            "224/224 - 74s - loss: 0.7629 - acc: 0.5312 - val_loss: 0.7018 - val_acc: 0.5208 - 74s/epoch - 331ms/sample\n",
            "Epoch 20/100\n",
            "224/224 - 83s - loss: 0.7791 - acc: 0.5000 - val_loss: 0.7015 - val_acc: 0.5312 - 83s/epoch - 369ms/sample\n",
            "Epoch 21/100\n",
            "224/224 - 78s - loss: 0.8074 - acc: 0.4554 - val_loss: 0.7019 - val_acc: 0.5104 - 78s/epoch - 350ms/sample\n",
            "Epoch 22/100\n",
            "224/224 - 78s - loss: 0.7982 - acc: 0.4911 - val_loss: 0.7005 - val_acc: 0.5208 - 78s/epoch - 348ms/sample\n",
            "Epoch 23/100\n",
            "224/224 - 76s - loss: 0.7855 - acc: 0.5223 - val_loss: 0.7016 - val_acc: 0.5104 - 76s/epoch - 339ms/sample\n",
            "Epoch 24/100\n",
            "224/224 - 78s - loss: 0.7767 - acc: 0.4866 - val_loss: 0.7019 - val_acc: 0.5104 - 78s/epoch - 346ms/sample\n",
            "Epoch 25/100\n",
            "224/224 - 77s - loss: 0.7841 - acc: 0.5000 - val_loss: 0.7010 - val_acc: 0.5312 - 77s/epoch - 345ms/sample\n",
            "Epoch 26/100\n",
            "224/224 - 79s - loss: 0.8082 - acc: 0.5268 - val_loss: 0.7025 - val_acc: 0.5104 - 79s/epoch - 353ms/sample\n",
            "Epoch 27/100\n",
            "224/224 - 82s - loss: 0.7633 - acc: 0.5491 - val_loss: 0.7004 - val_acc: 0.5104 - 82s/epoch - 367ms/sample\n",
            "Epoch 28/100\n",
            "224/224 - 76s - loss: 0.7730 - acc: 0.5402 - val_loss: 0.6988 - val_acc: 0.5208 - 76s/epoch - 340ms/sample\n",
            "Epoch 29/100\n",
            "224/224 - 77s - loss: 0.7759 - acc: 0.5089 - val_loss: 0.6999 - val_acc: 0.5000 - 77s/epoch - 345ms/sample\n",
            "Epoch 30/100\n",
            "224/224 - 78s - loss: 0.7654 - acc: 0.5134 - val_loss: 0.7012 - val_acc: 0.5000 - 78s/epoch - 347ms/sample\n",
            "Epoch 31/100\n",
            "224/224 - 77s - loss: 0.7818 - acc: 0.5179 - val_loss: 0.6999 - val_acc: 0.5000 - 77s/epoch - 344ms/sample\n",
            "Epoch 32/100\n",
            "224/224 - 76s - loss: 0.7412 - acc: 0.5402 - val_loss: 0.6997 - val_acc: 0.5104 - 76s/epoch - 339ms/sample\n",
            "Epoch 33/100\n",
            "224/224 - 80s - loss: 0.8106 - acc: 0.5000 - val_loss: 0.7009 - val_acc: 0.5000 - 80s/epoch - 357ms/sample\n",
            "Epoch 34/100\n",
            "224/224 - 77s - loss: 0.7543 - acc: 0.5402 - val_loss: 0.7017 - val_acc: 0.5208 - 77s/epoch - 345ms/sample\n",
            "Epoch 35/100\n",
            "224/224 - 78s - loss: 0.8149 - acc: 0.5089 - val_loss: 0.7014 - val_acc: 0.5000 - 78s/epoch - 347ms/sample\n",
            "Epoch 36/100\n",
            "224/224 - 73s - loss: 0.7184 - acc: 0.5714 - val_loss: 0.7012 - val_acc: 0.4896 - 73s/epoch - 327ms/sample\n",
            "Epoch 37/100\n",
            "224/224 - 78s - loss: 0.7942 - acc: 0.4911 - val_loss: 0.7027 - val_acc: 0.5000 - 78s/epoch - 349ms/sample\n",
            "Epoch 38/100\n",
            "224/224 - 79s - loss: 0.7752 - acc: 0.4911 - val_loss: 0.7015 - val_acc: 0.4896 - 79s/epoch - 354ms/sample\n",
            "Epoch 39/100\n",
            "224/224 - 79s - loss: 0.7945 - acc: 0.4688 - val_loss: 0.7019 - val_acc: 0.5000 - 79s/epoch - 352ms/sample\n",
            "Epoch 40/100\n",
            "224/224 - 79s - loss: 0.7696 - acc: 0.5179 - val_loss: 0.7019 - val_acc: 0.4896 - 79s/epoch - 352ms/sample\n",
            "Epoch 41/100\n",
            "224/224 - 78s - loss: 0.7582 - acc: 0.4955 - val_loss: 0.7010 - val_acc: 0.5000 - 78s/epoch - 349ms/sample\n",
            "Epoch 42/100\n",
            "224/224 - 79s - loss: 0.7881 - acc: 0.4955 - val_loss: 0.7007 - val_acc: 0.4896 - 79s/epoch - 354ms/sample\n",
            "Epoch 43/100\n",
            "224/224 - 79s - loss: 0.7101 - acc: 0.5893 - val_loss: 0.7019 - val_acc: 0.4896 - 79s/epoch - 352ms/sample\n",
            "Epoch 44/100\n",
            "224/224 - 79s - loss: 0.7876 - acc: 0.5045 - val_loss: 0.7009 - val_acc: 0.4896 - 79s/epoch - 355ms/sample\n",
            "Epoch 45/100\n",
            "224/224 - 80s - loss: 0.7880 - acc: 0.5134 - val_loss: 0.7009 - val_acc: 0.4896 - 80s/epoch - 357ms/sample\n",
            "Epoch 46/100\n",
            "224/224 - 79s - loss: 0.7836 - acc: 0.4866 - val_loss: 0.7002 - val_acc: 0.4896 - 79s/epoch - 354ms/sample\n",
            "Epoch 47/100\n",
            "224/224 - 80s - loss: 0.7711 - acc: 0.5446 - val_loss: 0.7001 - val_acc: 0.4896 - 80s/epoch - 355ms/sample\n",
            "Epoch 48/100\n",
            "224/224 - 79s - loss: 0.8069 - acc: 0.4688 - val_loss: 0.7010 - val_acc: 0.4896 - 79s/epoch - 354ms/sample\n",
            "Epoch 49/100\n",
            "224/224 - 79s - loss: 0.7497 - acc: 0.5223 - val_loss: 0.7011 - val_acc: 0.4792 - 79s/epoch - 354ms/sample\n",
            "Epoch 50/100\n",
            "224/224 - 80s - loss: 0.7503 - acc: 0.5670 - val_loss: 0.6997 - val_acc: 0.4792 - 80s/epoch - 356ms/sample\n",
            "Epoch 51/100\n",
            "224/224 - 78s - loss: 0.8158 - acc: 0.4643 - val_loss: 0.7017 - val_acc: 0.5000 - 78s/epoch - 350ms/sample\n",
            "Epoch 52/100\n",
            "224/224 - 80s - loss: 0.7273 - acc: 0.5179 - val_loss: 0.7013 - val_acc: 0.4792 - 80s/epoch - 356ms/sample\n",
            "Epoch 53/100\n",
            "224/224 - 78s - loss: 0.8221 - acc: 0.5045 - val_loss: 0.6992 - val_acc: 0.4688 - 78s/epoch - 348ms/sample\n",
            "Epoch 54/100\n",
            "224/224 - 78s - loss: 0.7771 - acc: 0.4777 - val_loss: 0.6989 - val_acc: 0.4583 - 78s/epoch - 347ms/sample\n",
            "Epoch 55/100\n",
            "224/224 - 79s - loss: 0.7941 - acc: 0.4821 - val_loss: 0.7006 - val_acc: 0.4792 - 79s/epoch - 354ms/sample\n",
            "Epoch 56/100\n",
            "224/224 - 79s - loss: 0.8166 - acc: 0.4821 - val_loss: 0.6983 - val_acc: 0.4583 - 79s/epoch - 355ms/sample\n",
            "Epoch 57/100\n",
            "224/224 - 79s - loss: 0.8015 - acc: 0.4866 - val_loss: 0.6999 - val_acc: 0.4583 - 79s/epoch - 353ms/sample\n",
            "Epoch 58/100\n",
            "224/224 - 77s - loss: 0.7601 - acc: 0.4821 - val_loss: 0.6990 - val_acc: 0.4896 - 77s/epoch - 344ms/sample\n",
            "Epoch 59/100\n",
            "224/224 - 75s - loss: 0.7877 - acc: 0.5045 - val_loss: 0.6995 - val_acc: 0.4688 - 75s/epoch - 336ms/sample\n",
            "Epoch 60/100\n",
            "224/224 - 79s - loss: 0.7869 - acc: 0.4777 - val_loss: 0.7008 - val_acc: 0.4583 - 79s/epoch - 351ms/sample\n",
            "Epoch 61/100\n",
            "224/224 - 80s - loss: 0.7606 - acc: 0.5268 - val_loss: 0.7014 - val_acc: 0.4688 - 80s/epoch - 356ms/sample\n",
            "Epoch 62/100\n",
            "224/224 - 80s - loss: 0.7684 - acc: 0.5179 - val_loss: 0.7006 - val_acc: 0.4688 - 80s/epoch - 358ms/sample\n",
            "Epoch 63/100\n",
            "224/224 - 77s - loss: 0.7728 - acc: 0.5134 - val_loss: 0.7000 - val_acc: 0.4688 - 77s/epoch - 343ms/sample\n",
            "Epoch 64/100\n",
            "224/224 - 80s - loss: 0.7981 - acc: 0.5000 - val_loss: 0.6999 - val_acc: 0.4583 - 80s/epoch - 357ms/sample\n",
            "Epoch 65/100\n",
            "224/224 - 80s - loss: 0.8024 - acc: 0.4955 - val_loss: 0.6988 - val_acc: 0.4688 - 80s/epoch - 355ms/sample\n",
            "Epoch 66/100\n",
            "224/224 - 80s - loss: 0.7358 - acc: 0.5759 - val_loss: 0.6991 - val_acc: 0.4688 - 80s/epoch - 357ms/sample\n",
            "Epoch 67/100\n",
            "224/224 - 79s - loss: 0.7554 - acc: 0.5223 - val_loss: 0.6986 - val_acc: 0.4583 - 79s/epoch - 354ms/sample\n",
            "Epoch 68/100\n",
            "224/224 - 81s - loss: 0.7939 - acc: 0.4732 - val_loss: 0.6986 - val_acc: 0.4583 - 81s/epoch - 360ms/sample\n",
            "Epoch 69/100\n",
            "224/224 - 79s - loss: 0.7586 - acc: 0.5268 - val_loss: 0.6991 - val_acc: 0.4583 - 79s/epoch - 354ms/sample\n",
            "Epoch 70/100\n",
            "224/224 - 80s - loss: 0.7324 - acc: 0.5893 - val_loss: 0.6985 - val_acc: 0.4688 - 80s/epoch - 359ms/sample\n",
            "Epoch 71/100\n",
            "224/224 - 81s - loss: 0.7915 - acc: 0.4866 - val_loss: 0.6983 - val_acc: 0.4792 - 81s/epoch - 360ms/sample\n",
            "Epoch 72/100\n",
            "224/224 - 81s - loss: 0.8117 - acc: 0.4777 - val_loss: 0.6977 - val_acc: 0.4896 - 81s/epoch - 362ms/sample\n",
            "Epoch 73/100\n",
            "224/224 - 80s - loss: 0.8408 - acc: 0.4330 - val_loss: 0.6979 - val_acc: 0.4792 - 80s/epoch - 356ms/sample\n",
            "Epoch 74/100\n",
            "224/224 - 80s - loss: 0.8058 - acc: 0.5000 - val_loss: 0.6993 - val_acc: 0.4688 - 80s/epoch - 359ms/sample\n",
            "Epoch 75/100\n",
            "224/224 - 75s - loss: 0.7354 - acc: 0.5759 - val_loss: 0.6984 - val_acc: 0.5000 - 75s/epoch - 336ms/sample\n",
            "Epoch 76/100\n",
            "224/224 - 76s - loss: 0.7514 - acc: 0.5089 - val_loss: 0.6985 - val_acc: 0.4896 - 76s/epoch - 339ms/sample\n",
            "Epoch 77/100\n",
            "224/224 - 78s - loss: 0.7466 - acc: 0.5268 - val_loss: 0.6989 - val_acc: 0.4583 - 78s/epoch - 349ms/sample\n",
            "Epoch 78/100\n",
            "224/224 - 77s - loss: 0.8161 - acc: 0.5089 - val_loss: 0.6993 - val_acc: 0.4688 - 77s/epoch - 342ms/sample\n",
            "Epoch 79/100\n",
            "224/224 - 79s - loss: 0.7619 - acc: 0.5536 - val_loss: 0.6978 - val_acc: 0.4896 - 79s/epoch - 353ms/sample\n",
            "Epoch 80/100\n",
            "224/224 - 78s - loss: 0.7785 - acc: 0.5134 - val_loss: 0.6974 - val_acc: 0.5000 - 78s/epoch - 349ms/sample\n",
            "Epoch 81/100\n",
            "224/224 - 78s - loss: 0.7879 - acc: 0.4821 - val_loss: 0.6981 - val_acc: 0.4896 - 78s/epoch - 346ms/sample\n",
            "Epoch 82/100\n",
            "224/224 - 79s - loss: 0.7473 - acc: 0.5089 - val_loss: 0.6979 - val_acc: 0.5104 - 79s/epoch - 353ms/sample\n",
            "Epoch 83/100\n",
            "224/224 - 77s - loss: 0.8064 - acc: 0.5045 - val_loss: 0.6974 - val_acc: 0.5104 - 77s/epoch - 343ms/sample\n",
            "Epoch 84/100\n",
            "224/224 - 79s - loss: 0.7855 - acc: 0.5089 - val_loss: 0.6974 - val_acc: 0.5104 - 79s/epoch - 354ms/sample\n",
            "Epoch 85/100\n",
            "224/224 - 80s - loss: 0.8092 - acc: 0.4911 - val_loss: 0.6972 - val_acc: 0.5104 - 80s/epoch - 356ms/sample\n",
            "Epoch 86/100\n",
            "224/224 - 79s - loss: 0.7759 - acc: 0.5312 - val_loss: 0.6974 - val_acc: 0.5104 - 79s/epoch - 354ms/sample\n",
            "Epoch 87/100\n",
            "224/224 - 79s - loss: 0.7764 - acc: 0.5268 - val_loss: 0.6974 - val_acc: 0.5104 - 79s/epoch - 354ms/sample\n",
            "Epoch 88/100\n",
            "224/224 - 79s - loss: 0.8552 - acc: 0.4598 - val_loss: 0.6969 - val_acc: 0.5104 - 79s/epoch - 352ms/sample\n",
            "Epoch 89/100\n",
            "224/224 - 80s - loss: 0.8004 - acc: 0.4554 - val_loss: 0.6969 - val_acc: 0.5000 - 80s/epoch - 355ms/sample\n",
            "Epoch 90/100\n",
            "224/224 - 81s - loss: 0.8030 - acc: 0.5268 - val_loss: 0.6972 - val_acc: 0.5000 - 81s/epoch - 361ms/sample\n",
            "Epoch 91/100\n",
            "224/224 - 77s - loss: 0.8213 - acc: 0.4777 - val_loss: 0.6975 - val_acc: 0.5000 - 77s/epoch - 342ms/sample\n",
            "Epoch 92/100\n",
            "224/224 - 80s - loss: 0.7615 - acc: 0.4955 - val_loss: 0.6974 - val_acc: 0.5000 - 80s/epoch - 358ms/sample\n",
            "Epoch 93/100\n",
            "224/224 - 80s - loss: 0.7478 - acc: 0.5089 - val_loss: 0.6967 - val_acc: 0.4896 - 80s/epoch - 357ms/sample\n",
            "Epoch 94/100\n",
            "224/224 - 82s - loss: 0.8229 - acc: 0.4955 - val_loss: 0.6973 - val_acc: 0.5104 - 82s/epoch - 364ms/sample\n",
            "Epoch 95/100\n",
            "224/224 - 81s - loss: 0.8279 - acc: 0.5045 - val_loss: 0.6974 - val_acc: 0.5208 - 81s/epoch - 360ms/sample\n",
            "Epoch 96/100\n",
            "224/224 - 80s - loss: 0.7934 - acc: 0.5134 - val_loss: 0.6971 - val_acc: 0.5208 - 80s/epoch - 357ms/sample\n",
            "Epoch 97/100\n",
            "224/224 - 80s - loss: 0.7979 - acc: 0.5357 - val_loss: 0.6974 - val_acc: 0.5000 - 80s/epoch - 356ms/sample\n",
            "Epoch 98/100\n",
            "224/224 - 80s - loss: 0.8423 - acc: 0.4330 - val_loss: 0.6973 - val_acc: 0.4688 - 80s/epoch - 355ms/sample\n",
            "Epoch 99/100\n",
            "224/224 - 80s - loss: 0.7892 - acc: 0.5446 - val_loss: 0.6972 - val_acc: 0.5208 - 80s/epoch - 356ms/sample\n",
            "Epoch 100/100\n",
            "224/224 - 79s - loss: 0.8072 - acc: 0.4911 - val_loss: 0.6983 - val_acc: 0.5104 - 79s/epoch - 354ms/sample\n"
          ]
        }
      ],
      "source": [
        "\n",
        "\n",
        "\n",
        "\n",
        "# count number of parameters in the model\n",
        "numParams    = model.count_params()\n",
        "\n",
        "# set a valid path for your system to record model checkpoints\n",
        "with h5py.File('./tmp/checkpoint.h5', 'w') as f:\n",
        "    # This creates 2 attributes of arrays of different np.float types:\n",
        "    arr_in = np.array([1.0,2.0,3.0])\n",
        "    f.attrs['as_float64'] = arr_in\n",
        "    # arr_in.dtype = np.float128\n",
        "    # f.attrs['as_float128'] = arr_in\n",
        "checkpointer = ModelCheckpoint(filepath='./tmp/checkpoint.h5', verbose=1,\n",
        "                               save_best_only=True)\n",
        "\n",
        "###############################################################################\n",
        "# if the classification task was imbalanced (significantly more trials in one\n",
        "# class versus the others) you can assign a weight to each class during\n",
        "# optimization to balance it out. This data is approximately balanced so we\n",
        "# don't need to do this, but is shown here for illustration/completeness.\n",
        "###############################################################################\n",
        "\n",
        "# the syntax is {class_1:weight_1, class_2:weight_2,...}. Here just setting\n",
        "# the weights all to be 1\n",
        "class_weights = {0:1, 1:1}\n",
        "\n",
        "################################################################################\n",
        "# fit the model. Due to very small sample sizes this can get\n",
        "# pretty noisy run-to-run, but most runs should be comparable to xDAWN +\n",
        "# Riemannian geometry classification (below)\n",
        "################################################################################\n",
        "fittedModel = model.fit(X_train, Y_train, batch_size = 16, epochs = 100,\n",
        "                        verbose = 2, validation_data=(X_validate, Y_validate),\n",
        "                        # callbacks=[checkpointer],\n",
        "                        class_weight = class_weights)\n",
        "\n"
      ]
    },
    {
      "cell_type": "code",
      "execution_count": 20,
      "id": "xPqMQvfcwB41",
      "metadata": {
        "colab": {
          "base_uri": "https://localhost:8080/"
        },
        "id": "xPqMQvfcwB41",
        "outputId": "62b8331c-01c5-40bd-cff8-a13587f68df1"
      },
      "outputs": [
        {
          "output_type": "stream",
          "name": "stdout",
          "text": [
            "Took 7888.62 seconds\n"
          ]
        }
      ],
      "source": [
        "end = time.time()\n",
        "print(f\"Took {end - start:.2f} seconds\")"
      ]
    },
    {
      "cell_type": "code",
      "execution_count": 21,
      "id": "8f1b26a9-c665-41ee-aaf0-00cb5f0c591c",
      "metadata": {
        "colab": {
          "base_uri": "https://localhost:8080/"
        },
        "id": "8f1b26a9-c665-41ee-aaf0-00cb5f0c591c",
        "outputId": "9671c4cd-b6fa-4a95-9e86-2b10751da72d"
      },
      "outputs": [
        {
          "output_type": "stream",
          "name": "stderr",
          "text": [
            "/usr/local/lib/python3.11/dist-packages/keras/src/engine/training_v1.py:2359: UserWarning: `Model.state_updates` will be removed in a future version. This property should not be used in TensorFlow 2.0, as `updates` are applied automatically.\n",
            "  updates=self.state_updates,\n"
          ]
        },
        {
          "output_type": "stream",
          "name": "stdout",
          "text": [
            "Classification accuracy: 0.729412 \n"
          ]
        }
      ],
      "source": [
        "# load optimal weights\n",
        "# model.load_weights('./tmp/checkpoint.h5')\n",
        "\n",
        "###############################################################################\n",
        "# can alternatively used the weights provided in the repo. If so it should get\n",
        "# you 93% accuracy. Change the WEIGHTS_PATH variable to wherever it is on your\n",
        "# system.\n",
        "###############################################################################\n",
        "\n",
        "# WEIGHTS_PATH = /path/to/EEGNet-8-2-weights.h5\n",
        "# model.load_weights(WEIGHTS_PATH)\n",
        "\n",
        "###############################################################################\n",
        "# make prediction on test set.\n",
        "###############################################################################\n",
        "\n",
        "probs       = model.predict(X_test)\n",
        "preds       = probs.argmax(axis = -1)\n",
        "acc         = np.mean(preds == Y_test.argmax(axis=-1))\n",
        "print(\"Classification accuracy: %f \" % (acc))\n",
        "\n",
        "\n",
        "############################# PyRiemann Portion ##############################\n",
        "\n",
        "# code is taken from PyRiemann's ERP sample script, which is decoding in\n",
        "# the tangent space with a logistic regression\n",
        "\n",
        "# n_components = 2  # pick some components\n",
        "\n",
        "# # set up sklearn pipeline\n",
        "# clf = make_pipeline(XdawnCovariances(n_components),\n",
        "#                     TangentSpace(metric='riemann'),\n",
        "#                     LogisticRegression())\n",
        "\n",
        "# preds_rg     = np.zeros(len(Y_test))\n",
        "\n",
        "# # reshape back to (trials, channels, samples)\n",
        "# X_train      = X_train.reshape(X_train.shape[0], chans, samples)\n",
        "# X_test       = X_test.reshape(X_test.shape[0], chans, samples)\n",
        "\n",
        "# # train a classifier with xDAWN spatial filtering + Riemannian Geometry (RG)\n",
        "# # labels need to be back in single-column format\n",
        "# clf.fit(X_train, Y_train.argmax(axis = -1))\n",
        "# preds_rg     = clf.predict(X_test)\n",
        "\n",
        "# # Printing the results\n",
        "# acc2         = np.mean(preds_rg == Y_test.argmax(axis = -1))\n",
        "# print(\"Classification accuracy: %f \" % (acc2))"
      ]
    },
    {
      "cell_type": "code",
      "execution_count": 22,
      "id": "d9f84458-1ba9-4108-9e02-b2ddcba3a5c2",
      "metadata": {
        "id": "d9f84458-1ba9-4108-9e02-b2ddcba3a5c2"
      },
      "outputs": [],
      "source": [
        "from sklearn.metrics import confusion_matrix, ConfusionMatrixDisplay, classification_report"
      ]
    },
    {
      "cell_type": "code",
      "execution_count": 23,
      "id": "f87940f6-4eb8-4f98-901e-804e9d037b31",
      "metadata": {
        "id": "f87940f6-4eb8-4f98-901e-804e9d037b31"
      },
      "outputs": [],
      "source": [
        "# plot the confusion matrices for both classifiers\n",
        "names        = ['hands', 'feet']\n",
        "# plt.figure(0)\n",
        "confusion_matrix_1 = confusion_matrix(preds, Y_test)\n",
        "\n",
        "# plt.figure(1)\n",
        "# confusion_matrix_2 = confusion_matrix(preds_rg, Y_test)"
      ]
    },
    {
      "cell_type": "code",
      "execution_count": 24,
      "id": "8a94fb5b-caba-4c02-868a-0a85178e8e11",
      "metadata": {
        "colab": {
          "base_uri": "https://localhost:8080/"
        },
        "id": "8a94fb5b-caba-4c02-868a-0a85178e8e11",
        "outputId": "efceb955-ea31-456e-a1b6-a151fe1c3568"
      },
      "outputs": [
        {
          "output_type": "stream",
          "name": "stdout",
          "text": [
            "              precision    recall  f1-score   support\n",
            "\n",
            "           0       0.88      0.58      0.70        62\n",
            "           1       0.41      0.78      0.54        23\n",
            "\n",
            "    accuracy                           0.64        85\n",
            "   macro avg       0.64      0.68      0.62        85\n",
            "weighted avg       0.75      0.64      0.66        85\n",
            "\n"
          ]
        }
      ],
      "source": [
        "print(classification_report(preds, Y_test))"
      ]
    },
    {
      "cell_type": "code",
      "execution_count": 25,
      "id": "fe1c8a52-8a43-4416-8956-3c3b3e8281b1",
      "metadata": {
        "colab": {
          "base_uri": "https://localhost:8080/",
          "height": 466
        },
        "id": "fe1c8a52-8a43-4416-8956-3c3b3e8281b1",
        "outputId": "79555b36-3dd4-4c25-9ad4-b9d38f7dc5eb"
      },
      "outputs": [
        {
          "output_type": "execute_result",
          "data": {
            "text/plain": [
              "<sklearn.metrics._plot.confusion_matrix.ConfusionMatrixDisplay at 0x7e0679258f10>"
            ]
          },
          "metadata": {},
          "execution_count": 25
        },
        {
          "output_type": "display_data",
          "data": {
            "text/plain": [
              "<Figure size 640x480 with 2 Axes>"
            ],
            "image/png": "[encoded data removed]"
          },
          "metadata": {}
        }
      ],
      "source": [
        "disp1 = ConfusionMatrixDisplay(confusion_matrix_1, display_labels = names)\n",
        "disp1.plot()\n",
        "\n",
        "# disp2 = ConfusionMatrixDisplay(confusion_matrix_2, display_labels = names)\n",
        "# disp2.plot()"
      ]
    },
    {
      "cell_type": "code",
      "execution_count": 26,
      "id": "7ed85196-1a62-4b52-94f8-c4dd2f6505f5",
      "metadata": {
        "colab": {
          "base_uri": "https://localhost:8080/"
        },
        "id": "7ed85196-1a62-4b52-94f8-c4dd2f6505f5",
        "outputId": "d18dbb76-c5d7-431f-898a-ede3c169f262"
      },
      "outputs": [
        {
          "output_type": "stream",
          "name": "stdout",
          "text": [
            "Took 7890.31 seconds\n"
          ]
        }
      ],
      "source": [
        "end = time.time()\n",
        "print(f\"Took {end - start:.2f} seconds\")"
      ]
    },
    {
      "cell_type": "code",
      "execution_count": 28,
      "id": "3346d30c-0520-4557-beca-0c2f0e167467",
      "metadata": {
        "colab": {
          "base_uri": "https://localhost:8080/"
        },
        "id": "3346d30c-0520-4557-beca-0c2f0e167467",
        "outputId": "7c4b111a-9e4f-4955-cc2f-5c9899390b17"
      },
      "outputs": [
        {
          "output_type": "stream",
          "name": "stderr",
          "text": [
            "WARNING:absl:`compute_dp_sgd_privacy` is deprecated. It does not account for doubling of sensitivity with microbatching, and assumes Poisson subsampling, which is rarely used in practice. Please use `compute_dp_sgd_privacy_statement`, which provides appropriate context for the guarantee. To compute epsilon under different assumptions than those in `compute_dp_sgd_privacy_statement`, call the `dp_accounting` libraries directly.\n"
          ]
        },
        {
          "output_type": "stream",
          "name": "stdout",
          "text": [
            "117.9137633661276\n"
          ]
        }
      ],
      "source": [
        "eps, _ = compute_dp_sgd_privacy_lib.compute_dp_sgd_privacy(n=X_train.shape[0],\n",
        "                      batch_size=batch_size,\n",
        "                      noise_multiplier=noise_multiplier,\n",
        "                      epochs=100,\n",
        "                      delta=1e-5)\n",
        "\n",
        "print(eps)"
      ]
    }
  ],
  "metadata": {
    "colab": {
      "provenance": []
    },
    "kernelspec": {
      "display_name": "zazu2",
      "language": "python",
      "name": "zazu2"
    },
    "language_info": {
      "codemirror_mode": {
        "name": "ipython",
        "version": 3
      },
      "file_extension": ".py",
      "mimetype": "text/x-python",
      "name": "python",
      "nbconvert_exporter": "python",
      "pygments_lexer": "ipython3",
      "version": "3.11.0"
    }
  },
  "nbformat": 4,
  "nbformat_minor": 5
}