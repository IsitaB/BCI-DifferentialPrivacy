{
  "cells": [
    {
      "cell_type": "code",
      "source": [
        "from google.colab import files\n",
        "files.upload()"
      ],
      "metadata": {
        "colab": {
          "base_uri": "https://localhost:8080/",
          "height": 1000
        },
        "id": "W-OLnbaFhxwB",
        "outputId": "0148bd2a-e04d-4ce2-d6b2-e9237a55fcbf"
      },
      "id": "W-OLnbaFhxwB",
      "execution_count": null,
      "outputs": [
        {
          "output_type": "display_data",
          "data": {
            "text/plain": [
              "<IPython.core.display.HTML object>"
            ],
            "text/html": [
              "\n",
              "     <input type=\"file\" id=\"files-26e595e7-9b62-4e5e-a755-2bdb04c66a41\" name=\"files[]\" multiple disabled\n",
              "        style=\"border:none\" />\n",
              "     <output id=\"result-26e595e7-9b62-4e5e-a755-2bdb04c66a41\">\n",
              "      Upload widget is only available when the cell has been executed in the\n",
              "      current browser session. Please rerun this cell to enable.\n",
              "      </output>\n",
              "      <script>// Copyright 2017 Google LLC\n",
              "//\n",
              "// Licensed under the Apache License, Version 2.0 (the \"License\");\n",
              "// you may not use this file except in compliance with the License.\n",
              "// You may obtain a copy of the License at\n",
              "//\n",
              "//      http://www.apache.org/licenses/LICENSE-2.0\n",
              "//\n",
              "// Unless required by applicable law or agreed to in writing, software\n",
              "// distributed under the License is distributed on an \"AS IS\" BASIS,\n",
              "// WITHOUT WARRANTIES OR CONDITIONS OF ANY KIND, either express or implied.\n",
              "// See the License for the specific language governing permissions and\n",
              "// limitations under the License.\n",
              "\n",
              "/**\n",
              " * @fileoverview Helpers for google.colab Python module.\n",
              " */\n",
              "(function(scope) {\n",
              "function span(text, styleAttributes = {}) {\n",
              "  const element = document.createElement('span');\n",
              "  element.textContent = text;\n",
              "  for (const key of Object.keys(styleAttributes)) {\n",
              "    element.style[key] = styleAttributes[key];\n",
              "  }\n",
              "  return element;\n",
              "}\n",
              "\n",
              "// Max number of bytes which will be uploaded at a time.\n",
              "const MAX_PAYLOAD_SIZE = 100 * 1024;\n",
              "\n",
              "function _uploadFiles(inputId, outputId) {\n",
              "  const steps = uploadFilesStep(inputId, outputId);\n",
              "  const outputElement = document.getElementById(outputId);\n",
              "  // Cache steps on the outputElement to make it available for the next call\n",
              "  // to uploadFilesContinue from Python.\n",
              "  outputElement.steps = steps;\n",
              "\n",
              "  return _uploadFilesContinue(outputId);\n",
              "}\n",
              "\n",
              "// This is roughly an async generator (not supported in the browser yet),\n",
              "// where there are multiple asynchronous steps and the Python side is going\n",
              "// to poll for completion of each step.\n",
              "// This uses a Promise to block the python side on completion of each step,\n",
              "// then passes the result of the previous step as the input to the next step.\n",
              "function _uploadFilesContinue(outputId) {\n",
              "  const outputElement = document.getElementById(outputId);\n",
              "  const steps = outputElement.steps;\n",
              "\n",
              "  const next = steps.next(outputElement.lastPromiseValue);\n",
              "  return Promise.resolve(next.value.promise).then((value) => {\n",
              "    // Cache the last promise value to make it available to the next\n",
              "    // step of the generator.\n",
              "    outputElement.lastPromiseValue = value;\n",
              "    return next.value.response;\n",
              "  });\n",
              "}\n",
              "\n",
              "/**\n",
              " * Generator function which is called between each async step of the upload\n",
              " * process.\n",
              " * @param {string} inputId Element ID of the input file picker element.\n",
              " * @param {string} outputId Element ID of the output display.\n",
              " * @return {!Iterable<!Object>} Iterable of next steps.\n",
              " */\n",
              "function* uploadFilesStep(inputId, outputId) {\n",
              "  const inputElement = document.getElementById(inputId);\n",
              "  inputElement.disabled = false;\n",
              "\n",
              "  const outputElement = document.getElementById(outputId);\n",
              "  outputElement.innerHTML = '';\n",
              "\n",
              "  const pickedPromise = new Promise((resolve) => {\n",
              "    inputElement.addEventListener('change', (e) => {\n",
              "      resolve(e.target.files);\n",
              "    });\n",
              "  });\n",
              "\n",
              "  const cancel = document.createElement('button');\n",
              "  inputElement.parentElement.appendChild(cancel);\n",
              "  cancel.textContent = 'Cancel upload';\n",
              "  const cancelPromise = new Promise((resolve) => {\n",
              "    cancel.onclick = () => {\n",
              "      resolve(null);\n",
              "    };\n",
              "  });\n",
              "\n",
              "  // Wait for the user to pick the files.\n",
              "  const files = yield {\n",
              "    promise: Promise.race([pickedPromise, cancelPromise]),\n",
              "    response: {\n",
              "      action: 'starting',\n",
              "    }\n",
              "  };\n",
              "\n",
              "  cancel.remove();\n",
              "\n",
              "  // Disable the input element since further picks are not allowed.\n",
              "  inputElement.disabled = true;\n",
              "\n",
              "  if (!files) {\n",
              "    return {\n",
              "      response: {\n",
              "        action: 'complete',\n",
              "      }\n",
              "    };\n",
              "  }\n",
              "\n",
              "  for (const file of files) {\n",
              "    const li = document.createElement('li');\n",
              "    li.append(span(file.name, {fontWeight: 'bold'}));\n",
              "    li.append(span(\n",
              "        `(${file.type || 'n/a'}) - ${file.size} bytes, ` +\n",
              "        `last modified: ${\n",
              "            file.lastModifiedDate ? file.lastModifiedDate.toLocaleDateString() :\n",
              "                                    'n/a'} - `));\n",
              "    const percent = span('0% done');\n",
              "    li.appendChild(percent);\n",
              "\n",
              "    outputElement.appendChild(li);\n",
              "\n",
              "    const fileDataPromise = new Promise((resolve) => {\n",
              "      const reader = new FileReader();\n",
              "      reader.onload = (e) => {\n",
              "        resolve(e.target.result);\n",
              "      };\n",
              "      reader.readAsArrayBuffer(file);\n",
              "    });\n",
              "    // Wait for the data to be ready.\n",
              "    let fileData = yield {\n",
              "      promise: fileDataPromise,\n",
              "      response: {\n",
              "        action: 'continue',\n",
              "      }\n",
              "    };\n",
              "\n",
              "    // Use a chunked sending to avoid message size limits. See b/62115660.\n",
              "    let position = 0;\n",
              "    do {\n",
              "      const length = Math.min(fileData.byteLength - position, MAX_PAYLOAD_SIZE);\n",
              "      const chunk = new Uint8Array(fileData, position, length);\n",
              "      position += length;\n",
              "\n",
              "      const base64 = btoa(String.fromCharCode.apply(null, chunk));\n",
              "      yield {\n",
              "        response: {\n",
              "          action: 'append',\n",
              "          file: file.name,\n",
              "          data: base64,\n",
              "        },\n",
              "      };\n",
              "\n",
              "      let percentDone = fileData.byteLength === 0 ?\n",
              "          100 :\n",
              "          Math.round((position / fileData.byteLength) * 100);\n",
              "      percent.textContent = `${percentDone}% done`;\n",
              "\n",
              "    } while (position < fileData.byteLength);\n",
              "  }\n",
              "\n",
              "  // All done.\n",
              "  yield {\n",
              "    response: {\n",
              "      action: 'complete',\n",
              "    }\n",
              "  };\n",
              "}\n",
              "\n",
              "scope.google = scope.google || {};\n",
              "scope.google.colab = scope.google.colab || {};\n",
              "scope.google.colab._files = {\n",
              "  _uploadFiles,\n",
              "  _uploadFilesContinue,\n",
              "};\n",
              "})(self);\n",
              "</script> "
            ]
          },
          "metadata": {}
        },
        {
          "output_type": "stream",
          "name": "stdout",
          "text": [
            "Saving EEGModels.py to EEGModels (1).py\n"
          ]
        },
        {
          "output_type": "execute_result",
          "data": {
            "text/plain": [
              "{'EEGModels (1).py': b'\"\"\"\\r\\n ARL_EEGModels - A collection of Convolutional Neural Network models for EEG\\r\\n Signal Processing and Classification, using Keras and Tensorflow\\r\\n\\r\\n Requirements:\\r\\n    (1) tensorflow == 2.X (as of this writing, 2.0 - 2.3 have been verified\\r\\n        as working)\\r\\n \\r\\n To run the EEG/MEG ERP classification sample script, you will also need\\r\\n\\r\\n    (4) mne >= 0.17.1\\r\\n    (5) PyRiemann >= 0.2.5\\r\\n    (6) scikit-learn >= 0.20.1\\r\\n    (7) matplotlib >= 2.2.3\\r\\n    \\r\\n To use:\\r\\n    \\r\\n    (1) Place this file in the PYTHONPATH variable in your IDE (i.e.: Spyder)\\r\\n    (2) Import the model as\\r\\n        \\r\\n        from EEGModels import EEGNet    \\r\\n        \\r\\n        model = EEGNet(nb_classes = ..., Chans = ..., Samples = ...)\\r\\n        \\r\\n    (3) Then compile and fit the model\\r\\n    \\r\\n        model.compile(loss = ..., optimizer = ..., metrics = ...)\\r\\n        fitted    = model.fit(...)\\r\\n        predicted = model.predict(...)\\r\\n\\r\\n Portions of this project are works of the United States Government and are not\\r\\n subject to domestic copyright protection under 17 USC Sec. 105.  Those \\r\\n portions are released world-wide under the terms of the Creative Commons Zero \\r\\n 1.0 (CC0) license.  \\r\\n \\r\\n Other portions of this project are subject to domestic copyright protection \\r\\n under 17 USC Sec. 105.  Those portions are licensed under the Apache 2.0 \\r\\n license.  The complete text of the license governing this material is in \\r\\n the file labeled LICENSE.TXT that is a part of this project\\'s official \\r\\n distribution. \\r\\n\"\"\"\\r\\n\\r\\nfrom tensorflow.keras.models import Model\\r\\nfrom tensorflow.keras.layers import Dense, Activation, Permute, Dropout\\r\\nfrom tensorflow.keras.layers import Conv2D, MaxPooling2D, AveragePooling2D\\r\\nfrom tensorflow.keras.layers import SeparableConv2D, DepthwiseConv2D\\r\\nfrom tensorflow.keras.layers import BatchNormalization\\r\\nfrom tensorflow.keras.layers import SpatialDropout2D\\r\\nfrom tensorflow.keras.regularizers import l1_l2\\r\\nfrom tensorflow.keras.layers import Input, Flatten\\r\\nfrom tensorflow.keras.constraints import max_norm\\r\\nfrom tensorflow.keras import backend as K\\r\\n\\r\\n\\r\\ndef EEGNet(nb_classes, Chans = 64, Samples = 128, \\r\\n             dropoutRate = 0.5, kernLength = 64, F1 = 8, \\r\\n             D = 2, F2 = 16, norm_rate = 0.25, dropoutType = \\'Dropout\\'):\\r\\n    \"\"\" Keras Implementation of EEGNet\\r\\n    http://iopscience.iop.org/article/10.1088/1741-2552/aace8c/meta\\r\\n\\r\\n    Note that this implements the newest version of EEGNet and NOT the earlier\\r\\n    version (version v1 and v2 on arxiv). We strongly recommend using this\\r\\n    architecture as it performs much better and has nicer properties than\\r\\n    our earlier version. For example:\\r\\n        \\r\\n        1. Depthwise Convolutions to learn spatial filters within a \\r\\n        temporal convolution. The use of the depth_multiplier option maps \\r\\n        exactly to the number of spatial filters learned within a temporal\\r\\n        filter. This matches the setup of algorithms like FBCSP which learn \\r\\n        spatial filters within each filter in a filter-bank. This also limits \\r\\n        the number of free parameters to fit when compared to a fully-connected\\r\\n        convolution. \\r\\n        \\r\\n        2. Separable Convolutions to learn how to optimally combine spatial\\r\\n        filters across temporal bands. Separable Convolutions are Depthwise\\r\\n        Convolutions followed by (1x1) Pointwise Convolutions. \\r\\n        \\r\\n    \\r\\n    While the original paper used Dropout, we found that SpatialDropout2D \\r\\n    sometimes produced slightly better results for classification of ERP \\r\\n    signals. However, SpatialDropout2D significantly reduced performance \\r\\n    on the Oscillatory dataset (SMR, BCI-IV Dataset 2A). We recommend using\\r\\n    the default Dropout in most cases.\\r\\n        \\r\\n    Assumes the input signal is sampled at 128Hz. If you want to use this model\\r\\n    for any other sampling rate you will need to modify the lengths of temporal\\r\\n    kernels and average pooling size in blocks 1 and 2 as needed (double the \\r\\n    kernel lengths for double the sampling rate, etc). Note that we haven\\'t \\r\\n    tested the model performance with this rule so this may not work well. \\r\\n    \\r\\n    The model with default parameters gives the EEGNet-8,2 model as discussed\\r\\n    in the paper. This model should do pretty well in general, although it is\\r\\n\\tadvised to do some model searching to get optimal performance on your\\r\\n\\tparticular dataset.\\r\\n\\r\\n    We set F2 = F1 * D (number of input filters = number of output filters) for\\r\\n    the SeparableConv2D layer. We haven\\'t extensively tested other values of this\\r\\n    parameter (say, F2 < F1 * D for compressed learning, and F2 > F1 * D for\\r\\n    overcomplete). We believe the main parameters to focus on are F1 and D. \\r\\n\\r\\n    Inputs:\\r\\n        \\r\\n      nb_classes      : int, number of classes to classify\\r\\n      Chans, Samples  : number of channels and time points in the EEG data\\r\\n      dropoutRate     : dropout fraction\\r\\n      kernLength      : length of temporal convolution in first layer. We found\\r\\n                        that setting this to be half the sampling rate worked\\r\\n                        well in practice. For the SMR dataset in particular\\r\\n                        since the data was high-passed at 4Hz we used a kernel\\r\\n                        length of 32.     \\r\\n      F1, F2          : number of temporal filters (F1) and number of pointwise\\r\\n                        filters (F2) to learn. Default: F1 = 8, F2 = F1 * D. \\r\\n      D               : number of spatial filters to learn within each temporal\\r\\n                        convolution. Default: D = 2\\r\\n      dropoutType     : Either SpatialDropout2D or Dropout, passed as a string.\\r\\n\\r\\n    \"\"\"\\r\\n    \\r\\n    if dropoutType == \\'SpatialDropout2D\\':\\r\\n        dropoutType = SpatialDropout2D\\r\\n    elif dropoutType == \\'Dropout\\':\\r\\n        dropoutType = Dropout\\r\\n    else:\\r\\n        raise ValueError(\\'dropoutType must be one of SpatialDropout2D \\'\\r\\n                         \\'or Dropout, passed as a string.\\')\\r\\n    \\r\\n    input1   = Input(shape = (Chans, Samples, 1))\\r\\n\\r\\n    ##################################################################\\r\\n    block1       = Conv2D(F1, (1, kernLength), padding = \\'same\\',\\r\\n                                   input_shape = (Chans, Samples, 1),\\r\\n                                   use_bias = False)(input1)\\r\\n    block1       = BatchNormalization()(block1)\\r\\n    block1       = DepthwiseConv2D((Chans, 1), use_bias = False, \\r\\n                                   depth_multiplier = D,\\r\\n                                   depthwise_constraint = max_norm(1.))(block1)\\r\\n    block1       = BatchNormalization()(block1)\\r\\n    block1       = Activation(\\'elu\\')(block1)\\r\\n    block1       = AveragePooling2D((1, 4))(block1)\\r\\n    block1       = dropoutType(dropoutRate)(block1)\\r\\n    \\r\\n    block2       = SeparableConv2D(F2, (1, 16),\\r\\n                                   use_bias = False, padding = \\'same\\')(block1)\\r\\n    block2       = BatchNormalization()(block2)\\r\\n    block2       = Activation(\\'elu\\')(block2)\\r\\n    block2       = AveragePooling2D((1, 8))(block2)\\r\\n    block2       = dropoutType(dropoutRate)(block2)\\r\\n        \\r\\n    flatten      = Flatten(name = \\'flatten\\')(block2)\\r\\n    \\r\\n    dense        = Dense(nb_classes, name = \\'dense\\', \\r\\n                         kernel_constraint = max_norm(norm_rate))(flatten)\\r\\n    softmax      = Activation(\\'softmax\\', name = \\'softmax\\')(dense)\\r\\n    \\r\\n    return Model(inputs=input1, outputs=softmax)\\r\\n\\r\\n\\r\\n\\r\\n\\r\\ndef EEGNet_SSVEP(nb_classes = 12, Chans = 8, Samples = 256, \\r\\n             dropoutRate = 0.5, kernLength = 256, F1 = 96, \\r\\n             D = 1, F2 = 96, dropoutType = \\'Dropout\\'):\\r\\n    \"\"\" SSVEP Variant of EEGNet, as used in [1]. \\r\\n\\r\\n    Inputs:\\r\\n        \\r\\n      nb_classes      : int, number of classes to classify\\r\\n      Chans, Samples  : number of channels and time points in the EEG data\\r\\n      dropoutRate     : dropout fraction\\r\\n      kernLength      : length of temporal convolution in first layer\\r\\n      F1, F2          : number of temporal filters (F1) and number of pointwise\\r\\n                        filters (F2) to learn. \\r\\n      D               : number of spatial filters to learn within each temporal\\r\\n                        convolution.\\r\\n      dropoutType     : Either SpatialDropout2D or Dropout, passed as a string.\\r\\n      \\r\\n      \\r\\n    [1]. Waytowich, N. et. al. (2018). Compact Convolutional Neural Networks\\r\\n    for Classification of Asynchronous Steady-State Visual Evoked Potentials.\\r\\n    Journal of Neural Engineering vol. 15(6). \\r\\n    http://iopscience.iop.org/article/10.1088/1741-2552/aae5d8\\r\\n\\r\\n    \"\"\"\\r\\n    \\r\\n    if dropoutType == \\'SpatialDropout2D\\':\\r\\n        dropoutType = SpatialDropout2D\\r\\n    elif dropoutType == \\'Dropout\\':\\r\\n        dropoutType = Dropout\\r\\n    else:\\r\\n        raise ValueError(\\'dropoutType must be one of SpatialDropout2D \\'\\r\\n                         \\'or Dropout, passed as a string.\\')\\r\\n    \\r\\n    input1   = Input(shape = (Chans, Samples, 1))\\r\\n\\r\\n    ##################################################################\\r\\n    block1       = Conv2D(F1, (1, kernLength), padding = \\'same\\',\\r\\n                                   input_shape = (Chans, Samples, 1),\\r\\n                                   use_bias = False)(input1)\\r\\n    block1       = BatchNormalization()(block1)\\r\\n    block1       = DepthwiseConv2D((Chans, 1), use_bias = False, \\r\\n                                   depth_multiplier = D,\\r\\n                                   depthwise_constraint = max_norm(1.))(block1)\\r\\n    block1       = BatchNormalization()(block1)\\r\\n    block1       = Activation(\\'elu\\')(block1)\\r\\n    block1       = AveragePooling2D((1, 4))(block1)\\r\\n    block1       = dropoutType(dropoutRate)(block1)\\r\\n    \\r\\n    block2       = SeparableConv2D(F2, (1, 16),\\r\\n                                   use_bias = False, padding = \\'same\\')(block1)\\r\\n    block2       = BatchNormalization()(block2)\\r\\n    block2       = Activation(\\'elu\\')(block2)\\r\\n    block2       = AveragePooling2D((1, 8))(block2)\\r\\n    block2       = dropoutType(dropoutRate)(block2)\\r\\n        \\r\\n    flatten      = Flatten(name = \\'flatten\\')(block2)\\r\\n    \\r\\n    dense        = Dense(nb_classes, name = \\'dense\\')(flatten)\\r\\n    softmax      = Activation(\\'softmax\\', name = \\'softmax\\')(dense)\\r\\n    \\r\\n    return Model(inputs=input1, outputs=softmax)\\r\\n\\r\\n\\r\\n\\r\\ndef EEGNet_old(nb_classes, Chans = 64, Samples = 128, regRate = 0.0001,\\r\\n           dropoutRate = 0.25, kernels = [(2, 32), (8, 4)], strides = (2, 4)):\\r\\n    \"\"\" Keras Implementation of EEGNet_v1 (https://arxiv.org/abs/1611.08024v2)\\r\\n\\r\\n    This model is the original EEGNet model proposed on arxiv\\r\\n            https://arxiv.org/abs/1611.08024v2\\r\\n    \\r\\n    with a few modifications: we use striding instead of max-pooling as this \\r\\n    helped slightly in classification performance while also providing a \\r\\n    computational speed-up. \\r\\n    \\r\\n    Note that we no longer recommend the use of this architecture, as the new\\r\\n    version of EEGNet performs much better overall and has nicer properties.\\r\\n    \\r\\n    Inputs:\\r\\n        \\r\\n        nb_classes     : total number of final categories\\r\\n        Chans, Samples : number of EEG channels and samples, respectively\\r\\n        regRate        : regularization rate for L1 and L2 regularizations\\r\\n        dropoutRate    : dropout fraction\\r\\n        kernels        : the 2nd and 3rd layer kernel dimensions (default is \\r\\n                         the [2, 32] x [8, 4] configuration)\\r\\n        strides        : the stride size (note that this replaces the max-pool\\r\\n                         used in the original paper)\\r\\n    \\r\\n    \"\"\"\\r\\n\\r\\n    # start the model\\r\\n    input_main   = Input((Chans, Samples))\\r\\n    layer1       = Conv2D(16, (Chans, 1), input_shape=(Chans, Samples, 1),\\r\\n                                 kernel_regularizer = l1_l2(l1=regRate, l2=regRate))(input_main)\\r\\n    layer1       = BatchNormalization()(layer1)\\r\\n    layer1       = Activation(\\'elu\\')(layer1)\\r\\n    layer1       = Dropout(dropoutRate)(layer1)\\r\\n    \\r\\n    permute_dims = 2, 1, 3\\r\\n    permute1     = Permute(permute_dims)(layer1)\\r\\n    \\r\\n    layer2       = Conv2D(4, kernels[0], padding = \\'same\\', \\r\\n                            kernel_regularizer=l1_l2(l1=0.0, l2=regRate),\\r\\n                            strides = strides)(permute1)\\r\\n    layer2       = BatchNormalization()(layer2)\\r\\n    layer2       = Activation(\\'elu\\')(layer2)\\r\\n    layer2       = Dropout(dropoutRate)(layer2)\\r\\n    \\r\\n    layer3       = Conv2D(4, kernels[1], padding = \\'same\\',\\r\\n                            kernel_regularizer=l1_l2(l1=0.0, l2=regRate),\\r\\n                            strides = strides)(layer2)\\r\\n    layer3       = BatchNormalization()(layer3)\\r\\n    layer3       = Activation(\\'elu\\')(layer3)\\r\\n    layer3       = Dropout(dropoutRate)(layer3)\\r\\n    \\r\\n    flatten      = Flatten(name = \\'flatten\\')(layer3)\\r\\n    \\r\\n    dense        = Dense(nb_classes, name = \\'dense\\')(flatten)\\r\\n    softmax      = Activation(\\'softmax\\', name = \\'softmax\\')(dense)\\r\\n    \\r\\n    return Model(inputs=input_main, outputs=softmax)\\r\\n\\r\\n\\r\\n\\r\\ndef DeepConvNet(nb_classes, Chans = 64, Samples = 256,\\r\\n                dropoutRate = 0.5):\\r\\n    \"\"\" Keras implementation of the Deep Convolutional Network as described in\\r\\n    Schirrmeister et. al. (2017), Human Brain Mapping.\\r\\n    \\r\\n    This implementation assumes the input is a 2-second EEG signal sampled at \\r\\n    128Hz, as opposed to signals sampled at 250Hz as described in the original\\r\\n    paper. We also perform temporal convolutions of length (1, 5) as opposed\\r\\n    to (1, 10) due to this sampling rate difference. \\r\\n    \\r\\n    Note that we use the max_norm constraint on all convolutional layers, as \\r\\n    well as the classification layer. We also change the defaults for the\\r\\n    BatchNormalization layer. We used this based on a personal communication \\r\\n    with the original authors.\\r\\n    \\r\\n                      ours        original paper\\r\\n    pool_size        1, 2        1, 3\\r\\n    strides          1, 2        1, 3\\r\\n    conv filters     1, 5        1, 10\\r\\n    \\r\\n    Note that this implementation has not been verified by the original \\r\\n    authors. \\r\\n    \\r\\n    \"\"\"\\r\\n\\r\\n    # start the model\\r\\n    input_main   = Input((Chans, Samples, 1))\\r\\n    block1       = Conv2D(25, (1, 5), \\r\\n                                 input_shape=(Chans, Samples, 1),\\r\\n                                 kernel_constraint = max_norm(2., axis=(0,1,2)))(input_main)\\r\\n    block1       = Conv2D(25, (Chans, 1),\\r\\n                                 kernel_constraint = max_norm(2., axis=(0,1,2)))(block1)\\r\\n    block1       = BatchNormalization(epsilon=1e-05, momentum=0.9)(block1)\\r\\n    block1       = Activation(\\'elu\\')(block1)\\r\\n    block1       = MaxPooling2D(pool_size=(1, 2), strides=(1, 2))(block1)\\r\\n    block1       = Dropout(dropoutRate)(block1)\\r\\n  \\r\\n    block2       = Conv2D(50, (1, 5),\\r\\n                                 kernel_constraint = max_norm(2., axis=(0,1,2)))(block1)\\r\\n    block2       = BatchNormalization(epsilon=1e-05, momentum=0.9)(block2)\\r\\n    block2       = Activation(\\'elu\\')(block2)\\r\\n    block2       = MaxPooling2D(pool_size=(1, 2), strides=(1, 2))(block2)\\r\\n    block2       = Dropout(dropoutRate)(block2)\\r\\n    \\r\\n    block3       = Conv2D(100, (1, 5),\\r\\n                                 kernel_constraint = max_norm(2., axis=(0,1,2)))(block2)\\r\\n    block3       = BatchNormalization(epsilon=1e-05, momentum=0.9)(block3)\\r\\n    block3       = Activation(\\'elu\\')(block3)\\r\\n    block3       = MaxPooling2D(pool_size=(1, 2), strides=(1, 2))(block3)\\r\\n    block3       = Dropout(dropoutRate)(block3)\\r\\n    \\r\\n    block4       = Conv2D(200, (1, 5),\\r\\n                                 kernel_constraint = max_norm(2., axis=(0,1,2)))(block3)\\r\\n    block4       = BatchNormalization(epsilon=1e-05, momentum=0.9)(block4)\\r\\n    block4       = Activation(\\'elu\\')(block4)\\r\\n    block4       = MaxPooling2D(pool_size=(1, 2), strides=(1, 2))(block4)\\r\\n    block4       = Dropout(dropoutRate)(block4)\\r\\n    \\r\\n    flatten      = Flatten()(block4)\\r\\n    \\r\\n    dense        = Dense(nb_classes, kernel_constraint = max_norm(0.5))(flatten)\\r\\n    softmax      = Activation(\\'softmax\\')(dense)\\r\\n    \\r\\n    return Model(inputs=input_main, outputs=softmax)\\r\\n\\r\\n\\r\\n# need these for ShallowConvNet\\r\\ndef square(x):\\r\\n    return K.square(x)\\r\\n\\r\\ndef log(x):\\r\\n    return K.log(K.clip(x, min_value = 1e-7, max_value = 10000))   \\r\\n\\r\\n\\r\\ndef ShallowConvNet(nb_classes, Chans = 64, Samples = 128, dropoutRate = 0.5):\\r\\n    \"\"\" Keras implementation of the Shallow Convolutional Network as described\\r\\n    in Schirrmeister et. al. (2017), Human Brain Mapping.\\r\\n    \\r\\n    Assumes the input is a 2-second EEG signal sampled at 128Hz. Note that in \\r\\n    the original paper, they do temporal convolutions of length 25 for EEG\\r\\n    data sampled at 250Hz. We instead use length 13 since the sampling rate is \\r\\n    roughly half of the 250Hz which the paper used. The pool_size and stride\\r\\n    in later layers is also approximately half of what is used in the paper.\\r\\n    \\r\\n    Note that we use the max_norm constraint on all convolutional layers, as \\r\\n    well as the classification layer. We also change the defaults for the\\r\\n    BatchNormalization layer. We used this based on a personal communication \\r\\n    with the original authors.\\r\\n    \\r\\n                     ours        original paper\\r\\n    pool_size        1, 35       1, 75\\r\\n    strides          1, 7        1, 15\\r\\n    conv filters     1, 13       1, 25    \\r\\n    \\r\\n    Note that this implementation has not been verified by the original \\r\\n    authors. We do note that this implementation reproduces the results in the\\r\\n    original paper with minor deviations. \\r\\n    \"\"\"\\r\\n\\r\\n    # start the model\\r\\n    input_main   = Input((Chans, Samples, 1))\\r\\n    block1       = Conv2D(40, (1, 13), \\r\\n                                 input_shape=(Chans, Samples, 1),\\r\\n                                 kernel_constraint = max_norm(2., axis=(0,1,2)))(input_main)\\r\\n    block1       = Conv2D(40, (Chans, 1), use_bias=False, \\r\\n                          kernel_constraint = max_norm(2., axis=(0,1,2)))(block1)\\r\\n    block1       = BatchNormalization(epsilon=1e-05, momentum=0.9)(block1)\\r\\n    block1       = Activation(square)(block1)\\r\\n    block1       = AveragePooling2D(pool_size=(1, 35), strides=(1, 7))(block1)\\r\\n    block1       = Activation(log)(block1)\\r\\n    block1       = Dropout(dropoutRate)(block1)\\r\\n    flatten      = Flatten()(block1)\\r\\n    dense        = Dense(nb_classes, kernel_constraint = max_norm(0.5))(flatten)\\r\\n    softmax      = Activation(\\'softmax\\')(dense)\\r\\n    \\r\\n    return Model(inputs=input_main, outputs=softmax)'}"
            ]
          },
          "metadata": {},
          "execution_count": 1
        }
      ]
    },
    {
      "cell_type": "code",
      "source": [
        "!pip install mne==1.9.0\n",
        "!pip install tensorflow==2.18.0\n",
        "!pip install tensorflow_privacy==0.9.0\n",
        "!pip install scikit-learn==1.6.1"
      ],
      "metadata": {
        "colab": {
          "base_uri": "https://localhost:8080/"
        },
        "id": "Xau-ko4Bh0UY",
        "outputId": "1dc0e6c2-fe93-48cf-ce17-db3312a59d1f"
      },
      "id": "Xau-ko4Bh0UY",
      "execution_count": null,
      "outputs": [
        {
          "output_type": "stream",
          "name": "stdout",
          "text": [
            "Requirement already satisfied: mne==1.9.0 in /usr/local/lib/python3.11/dist-packages (1.9.0)\n",
            "Requirement already satisfied: decorator in /usr/local/lib/python3.11/dist-packages (from mne==1.9.0) (4.4.2)\n",
            "Requirement already satisfied: jinja2 in /usr/local/lib/python3.11/dist-packages (from mne==1.9.0) (3.1.6)\n",
            "Requirement already satisfied: lazy-loader>=0.3 in /usr/local/lib/python3.11/dist-packages (from mne==1.9.0) (0.4)\n",
            "Requirement already satisfied: matplotlib>=3.6 in /usr/local/lib/python3.11/dist-packages (from mne==1.9.0) (3.10.0)\n",
            "Requirement already satisfied: numpy<3,>=1.23 in /usr/local/lib/python3.11/dist-packages (from mne==1.9.0) (1.26.4)\n",
            "Requirement already satisfied: packaging in /usr/local/lib/python3.11/dist-packages (from mne==1.9.0) (22.0)\n",
            "Requirement already satisfied: pooch>=1.5 in /usr/local/lib/python3.11/dist-packages (from mne==1.9.0) (1.8.2)\n",
            "Requirement already satisfied: scipy>=1.9 in /usr/local/lib/python3.11/dist-packages (from mne==1.9.0) (1.15.3)\n",
            "Requirement already satisfied: tqdm in /usr/local/lib/python3.11/dist-packages (from mne==1.9.0) (4.67.1)\n",
            "Requirement already satisfied: contourpy>=1.0.1 in /usr/local/lib/python3.11/dist-packages (from matplotlib>=3.6->mne==1.9.0) (1.3.2)\n",
            "Requirement already satisfied: cycler>=0.10 in /usr/local/lib/python3.11/dist-packages (from matplotlib>=3.6->mne==1.9.0) (0.12.1)\n",
            "Requirement already satisfied: fonttools>=4.22.0 in /usr/local/lib/python3.11/dist-packages (from matplotlib>=3.6->mne==1.9.0) (4.58.1)\n",
            "Requirement already satisfied: kiwisolver>=1.3.1 in /usr/local/lib/python3.11/dist-packages (from matplotlib>=3.6->mne==1.9.0) (1.4.8)\n",
            "Requirement already satisfied: pillow>=8 in /usr/local/lib/python3.11/dist-packages (from matplotlib>=3.6->mne==1.9.0) (11.2.1)\n",
            "Requirement already satisfied: pyparsing>=2.3.1 in /usr/local/lib/python3.11/dist-packages (from matplotlib>=3.6->mne==1.9.0) (3.2.3)\n",
            "Requirement already satisfied: python-dateutil>=2.7 in /usr/local/lib/python3.11/dist-packages (from matplotlib>=3.6->mne==1.9.0) (2.9.0.post0)\n",
            "Requirement already satisfied: platformdirs>=2.5.0 in /usr/local/lib/python3.11/dist-packages (from pooch>=1.5->mne==1.9.0) (4.3.8)\n",
            "Requirement already satisfied: requests>=2.19.0 in /usr/local/lib/python3.11/dist-packages (from pooch>=1.5->mne==1.9.0) (2.32.3)\n",
            "Requirement already satisfied: MarkupSafe>=2.0 in /usr/local/lib/python3.11/dist-packages (from jinja2->mne==1.9.0) (3.0.2)\n",
            "Requirement already satisfied: six>=1.5 in /usr/local/lib/python3.11/dist-packages (from python-dateutil>=2.7->matplotlib>=3.6->mne==1.9.0) (1.17.0)\n",
            "Requirement already satisfied: charset-normalizer<4,>=2 in /usr/local/lib/python3.11/dist-packages (from requests>=2.19.0->pooch>=1.5->mne==1.9.0) (3.4.2)\n",
            "Requirement already satisfied: idna<4,>=2.5 in /usr/local/lib/python3.11/dist-packages (from requests>=2.19.0->pooch>=1.5->mne==1.9.0) (3.10)\n",
            "Requirement already satisfied: urllib3<3,>=1.21.1 in /usr/local/lib/python3.11/dist-packages (from requests>=2.19.0->pooch>=1.5->mne==1.9.0) (2.4.0)\n",
            "Requirement already satisfied: certifi>=2017.4.17 in /usr/local/lib/python3.11/dist-packages (from requests>=2.19.0->pooch>=1.5->mne==1.9.0) (2025.4.26)\n",
            "Requirement already satisfied: tensorflow==2.18.0 in /usr/local/lib/python3.11/dist-packages (2.18.0)\n",
            "Requirement already satisfied: absl-py>=1.0.0 in /usr/local/lib/python3.11/dist-packages (from tensorflow==2.18.0) (1.4.0)\n",
            "Requirement already satisfied: astunparse>=1.6.0 in /usr/local/lib/python3.11/dist-packages (from tensorflow==2.18.0) (1.6.3)\n",
            "Requirement already satisfied: flatbuffers>=24.3.25 in /usr/local/lib/python3.11/dist-packages (from tensorflow==2.18.0) (25.2.10)\n",
            "Requirement already satisfied: gast!=0.5.0,!=0.5.1,!=0.5.2,>=0.2.1 in /usr/local/lib/python3.11/dist-packages (from tensorflow==2.18.0) (0.6.0)\n",
            "Requirement already satisfied: google-pasta>=0.1.1 in /usr/local/lib/python3.11/dist-packages (from tensorflow==2.18.0) (0.2.0)\n",
            "Requirement already satisfied: libclang>=13.0.0 in /usr/local/lib/python3.11/dist-packages (from tensorflow==2.18.0) (18.1.1)\n",
            "Requirement already satisfied: opt-einsum>=2.3.2 in /usr/local/lib/python3.11/dist-packages (from tensorflow==2.18.0) (3.4.0)\n",
            "Requirement already satisfied: packaging in /usr/local/lib/python3.11/dist-packages (from tensorflow==2.18.0) (22.0)\n",
            "Requirement already satisfied: protobuf!=4.21.0,!=4.21.1,!=4.21.2,!=4.21.3,!=4.21.4,!=4.21.5,<6.0.0dev,>=3.20.3 in /usr/local/lib/python3.11/dist-packages (from tensorflow==2.18.0) (5.29.5)\n",
            "Requirement already satisfied: requests<3,>=2.21.0 in /usr/local/lib/python3.11/dist-packages (from tensorflow==2.18.0) (2.32.3)\n",
            "Requirement already satisfied: setuptools in /usr/local/lib/python3.11/dist-packages (from tensorflow==2.18.0) (75.2.0)\n",
            "Requirement already satisfied: six>=1.12.0 in /usr/local/lib/python3.11/dist-packages (from tensorflow==2.18.0) (1.17.0)\n",
            "Requirement already satisfied: termcolor>=1.1.0 in /usr/local/lib/python3.11/dist-packages (from tensorflow==2.18.0) (3.1.0)\n",
            "Requirement already satisfied: typing-extensions>=3.6.6 in /usr/local/lib/python3.11/dist-packages (from tensorflow==2.18.0) (4.14.0)\n",
            "Requirement already satisfied: wrapt>=1.11.0 in /usr/local/lib/python3.11/dist-packages (from tensorflow==2.18.0) (1.17.2)\n",
            "Requirement already satisfied: grpcio<2.0,>=1.24.3 in /usr/local/lib/python3.11/dist-packages (from tensorflow==2.18.0) (1.72.1)\n",
            "Requirement already satisfied: tensorboard<2.19,>=2.18 in /usr/local/lib/python3.11/dist-packages (from tensorflow==2.18.0) (2.18.0)\n",
            "Requirement already satisfied: keras>=3.5.0 in /usr/local/lib/python3.11/dist-packages (from tensorflow==2.18.0) (3.8.0)\n",
            "Requirement already satisfied: numpy<2.1.0,>=1.26.0 in /usr/local/lib/python3.11/dist-packages (from tensorflow==2.18.0) (1.26.4)\n",
            "Requirement already satisfied: h5py>=3.11.0 in /usr/local/lib/python3.11/dist-packages (from tensorflow==2.18.0) (3.13.0)\n",
            "Requirement already satisfied: ml-dtypes<0.5.0,>=0.4.0 in /usr/local/lib/python3.11/dist-packages (from tensorflow==2.18.0) (0.4.1)\n",
            "Requirement already satisfied: tensorflow-io-gcs-filesystem>=0.23.1 in /usr/local/lib/python3.11/dist-packages (from tensorflow==2.18.0) (0.37.1)\n",
            "Requirement already satisfied: wheel<1.0,>=0.23.0 in /usr/local/lib/python3.11/dist-packages (from astunparse>=1.6.0->tensorflow==2.18.0) (0.45.1)\n",
            "Requirement already satisfied: rich in /usr/local/lib/python3.11/dist-packages (from keras>=3.5.0->tensorflow==2.18.0) (13.9.4)\n",
            "Requirement already satisfied: namex in /usr/local/lib/python3.11/dist-packages (from keras>=3.5.0->tensorflow==2.18.0) (0.1.0)\n",
            "Requirement already satisfied: optree in /usr/local/lib/python3.11/dist-packages (from keras>=3.5.0->tensorflow==2.18.0) (0.16.0)\n",
            "Requirement already satisfied: charset-normalizer<4,>=2 in /usr/local/lib/python3.11/dist-packages (from requests<3,>=2.21.0->tensorflow==2.18.0) (3.4.2)\n",
            "Requirement already satisfied: idna<4,>=2.5 in /usr/local/lib/python3.11/dist-packages (from requests<3,>=2.21.0->tensorflow==2.18.0) (3.10)\n",
            "Requirement already satisfied: urllib3<3,>=1.21.1 in /usr/local/lib/python3.11/dist-packages (from requests<3,>=2.21.0->tensorflow==2.18.0) (2.4.0)\n",
            "Requirement already satisfied: certifi>=2017.4.17 in /usr/local/lib/python3.11/dist-packages (from requests<3,>=2.21.0->tensorflow==2.18.0) (2025.4.26)\n",
            "Requirement already satisfied: markdown>=2.6.8 in /usr/local/lib/python3.11/dist-packages (from tensorboard<2.19,>=2.18->tensorflow==2.18.0) (3.8)\n",
            "Requirement already satisfied: tensorboard-data-server<0.8.0,>=0.7.0 in /usr/local/lib/python3.11/dist-packages (from tensorboard<2.19,>=2.18->tensorflow==2.18.0) (0.7.2)\n",
            "Requirement already satisfied: werkzeug>=1.0.1 in /usr/local/lib/python3.11/dist-packages (from tensorboard<2.19,>=2.18->tensorflow==2.18.0) (3.1.3)\n",
            "Requirement already satisfied: MarkupSafe>=2.1.1 in /usr/local/lib/python3.11/dist-packages (from werkzeug>=1.0.1->tensorboard<2.19,>=2.18->tensorflow==2.18.0) (3.0.2)\n",
            "Requirement already satisfied: markdown-it-py>=2.2.0 in /usr/local/lib/python3.11/dist-packages (from rich->keras>=3.5.0->tensorflow==2.18.0) (3.0.0)\n",
            "Requirement already satisfied: pygments<3.0.0,>=2.13.0 in /usr/local/lib/python3.11/dist-packages (from rich->keras>=3.5.0->tensorflow==2.18.0) (2.19.1)\n",
            "Requirement already satisfied: mdurl~=0.1 in /usr/local/lib/python3.11/dist-packages (from markdown-it-py>=2.2.0->rich->keras>=3.5.0->tensorflow==2.18.0) (0.1.2)\n",
            "Requirement already satisfied: tensorflow_privacy==0.9.0 in /usr/local/lib/python3.11/dist-packages (0.9.0)\n",
            "Requirement already satisfied: absl-py==1.*,>=1.0 in /usr/local/lib/python3.11/dist-packages (from tensorflow_privacy==0.9.0) (1.4.0)\n",
            "Requirement already satisfied: dm-tree==0.1.8 in /usr/local/lib/python3.11/dist-packages (from tensorflow_privacy==0.9.0) (0.1.8)\n",
            "Requirement already satisfied: dp-accounting==0.4.3 in /usr/local/lib/python3.11/dist-packages (from tensorflow_privacy==0.9.0) (0.4.3)\n",
            "Requirement already satisfied: numpy~=1.21 in /usr/local/lib/python3.11/dist-packages (from tensorflow_privacy==0.9.0) (1.26.4)\n",
            "Requirement already satisfied: packaging~=22.0 in /usr/local/lib/python3.11/dist-packages (from tensorflow_privacy==0.9.0) (22.0)\n",
            "Requirement already satisfied: scikit-learn==1.*,>=1.0 in /usr/local/lib/python3.11/dist-packages (from tensorflow_privacy==0.9.0) (1.6.1)\n",
            "Requirement already satisfied: scipy~=1.9 in /usr/local/lib/python3.11/dist-packages (from tensorflow_privacy==0.9.0) (1.15.3)\n",
            "Requirement already satisfied: tensorflow-estimator~=2.4 in /usr/local/lib/python3.11/dist-packages (from tensorflow_privacy==0.9.0) (2.15.0)\n",
            "Requirement already satisfied: tensorflow-probability~=0.22.0 in /usr/local/lib/python3.11/dist-packages (from tensorflow_privacy==0.9.0) (0.22.1)\n",
            "Requirement already satisfied: tensorflow~=2.4 in /usr/local/lib/python3.11/dist-packages (from tensorflow_privacy==0.9.0) (2.18.0)\n",
            "Requirement already satisfied: attrs>=22 in /usr/local/lib/python3.11/dist-packages (from dp-accounting==0.4.3->tensorflow_privacy==0.9.0) (25.3.0)\n",
            "Requirement already satisfied: mpmath~=1.2 in /usr/local/lib/python3.11/dist-packages (from dp-accounting==0.4.3->tensorflow_privacy==0.9.0) (1.3.0)\n",
            "Requirement already satisfied: joblib>=1.2.0 in /usr/local/lib/python3.11/dist-packages (from scikit-learn==1.*,>=1.0->tensorflow_privacy==0.9.0) (1.5.1)\n",
            "Requirement already satisfied: threadpoolctl>=3.1.0 in /usr/local/lib/python3.11/dist-packages (from scikit-learn==1.*,>=1.0->tensorflow_privacy==0.9.0) (3.6.0)\n",
            "Requirement already satisfied: astunparse>=1.6.0 in /usr/local/lib/python3.11/dist-packages (from tensorflow~=2.4->tensorflow_privacy==0.9.0) (1.6.3)\n",
            "Requirement already satisfied: flatbuffers>=24.3.25 in /usr/local/lib/python3.11/dist-packages (from tensorflow~=2.4->tensorflow_privacy==0.9.0) (25.2.10)\n",
            "Requirement already satisfied: gast!=0.5.0,!=0.5.1,!=0.5.2,>=0.2.1 in /usr/local/lib/python3.11/dist-packages (from tensorflow~=2.4->tensorflow_privacy==0.9.0) (0.6.0)\n",
            "Requirement already satisfied: google-pasta>=0.1.1 in /usr/local/lib/python3.11/dist-packages (from tensorflow~=2.4->tensorflow_privacy==0.9.0) (0.2.0)\n",
            "Requirement already satisfied: libclang>=13.0.0 in /usr/local/lib/python3.11/dist-packages (from tensorflow~=2.4->tensorflow_privacy==0.9.0) (18.1.1)\n",
            "Requirement already satisfied: opt-einsum>=2.3.2 in /usr/local/lib/python3.11/dist-packages (from tensorflow~=2.4->tensorflow_privacy==0.9.0) (3.4.0)\n",
            "Requirement already satisfied: protobuf!=4.21.0,!=4.21.1,!=4.21.2,!=4.21.3,!=4.21.4,!=4.21.5,<6.0.0dev,>=3.20.3 in /usr/local/lib/python3.11/dist-packages (from tensorflow~=2.4->tensorflow_privacy==0.9.0) (5.29.5)\n",
            "Requirement already satisfied: requests<3,>=2.21.0 in /usr/local/lib/python3.11/dist-packages (from tensorflow~=2.4->tensorflow_privacy==0.9.0) (2.32.3)\n",
            "Requirement already satisfied: setuptools in /usr/local/lib/python3.11/dist-packages (from tensorflow~=2.4->tensorflow_privacy==0.9.0) (75.2.0)\n",
            "Requirement already satisfied: six>=1.12.0 in /usr/local/lib/python3.11/dist-packages (from tensorflow~=2.4->tensorflow_privacy==0.9.0) (1.17.0)\n",
            "Requirement already satisfied: termcolor>=1.1.0 in /usr/local/lib/python3.11/dist-packages (from tensorflow~=2.4->tensorflow_privacy==0.9.0) (3.1.0)\n",
            "Requirement already satisfied: typing-extensions>=3.6.6 in /usr/local/lib/python3.11/dist-packages (from tensorflow~=2.4->tensorflow_privacy==0.9.0) (4.14.0)\n",
            "Requirement already satisfied: wrapt>=1.11.0 in /usr/local/lib/python3.11/dist-packages (from tensorflow~=2.4->tensorflow_privacy==0.9.0) (1.17.2)\n",
            "Requirement already satisfied: grpcio<2.0,>=1.24.3 in /usr/local/lib/python3.11/dist-packages (from tensorflow~=2.4->tensorflow_privacy==0.9.0) (1.72.1)\n",
            "Requirement already satisfied: tensorboard<2.19,>=2.18 in /usr/local/lib/python3.11/dist-packages (from tensorflow~=2.4->tensorflow_privacy==0.9.0) (2.18.0)\n",
            "Requirement already satisfied: keras>=3.5.0 in /usr/local/lib/python3.11/dist-packages (from tensorflow~=2.4->tensorflow_privacy==0.9.0) (3.8.0)\n",
            "Requirement already satisfied: h5py>=3.11.0 in /usr/local/lib/python3.11/dist-packages (from tensorflow~=2.4->tensorflow_privacy==0.9.0) (3.13.0)\n",
            "Requirement already satisfied: ml-dtypes<0.5.0,>=0.4.0 in /usr/local/lib/python3.11/dist-packages (from tensorflow~=2.4->tensorflow_privacy==0.9.0) (0.4.1)\n",
            "Requirement already satisfied: tensorflow-io-gcs-filesystem>=0.23.1 in /usr/local/lib/python3.11/dist-packages (from tensorflow~=2.4->tensorflow_privacy==0.9.0) (0.37.1)\n",
            "Requirement already satisfied: decorator in /usr/local/lib/python3.11/dist-packages (from tensorflow-probability~=0.22.0->tensorflow_privacy==0.9.0) (4.4.2)\n",
            "Requirement already satisfied: cloudpickle>=1.3 in /usr/local/lib/python3.11/dist-packages (from tensorflow-probability~=0.22.0->tensorflow_privacy==0.9.0) (3.1.1)\n",
            "Requirement already satisfied: wheel<1.0,>=0.23.0 in /usr/local/lib/python3.11/dist-packages (from astunparse>=1.6.0->tensorflow~=2.4->tensorflow_privacy==0.9.0) (0.45.1)\n",
            "Requirement already satisfied: rich in /usr/local/lib/python3.11/dist-packages (from keras>=3.5.0->tensorflow~=2.4->tensorflow_privacy==0.9.0) (13.9.4)\n",
            "Requirement already satisfied: namex in /usr/local/lib/python3.11/dist-packages (from keras>=3.5.0->tensorflow~=2.4->tensorflow_privacy==0.9.0) (0.1.0)\n",
            "Requirement already satisfied: optree in /usr/local/lib/python3.11/dist-packages (from keras>=3.5.0->tensorflow~=2.4->tensorflow_privacy==0.9.0) (0.16.0)\n",
            "Requirement already satisfied: charset-normalizer<4,>=2 in /usr/local/lib/python3.11/dist-packages (from requests<3,>=2.21.0->tensorflow~=2.4->tensorflow_privacy==0.9.0) (3.4.2)\n",
            "Requirement already satisfied: idna<4,>=2.5 in /usr/local/lib/python3.11/dist-packages (from requests<3,>=2.21.0->tensorflow~=2.4->tensorflow_privacy==0.9.0) (3.10)\n",
            "Requirement already satisfied: urllib3<3,>=1.21.1 in /usr/local/lib/python3.11/dist-packages (from requests<3,>=2.21.0->tensorflow~=2.4->tensorflow_privacy==0.9.0) (2.4.0)\n",
            "Requirement already satisfied: certifi>=2017.4.17 in /usr/local/lib/python3.11/dist-packages (from requests<3,>=2.21.0->tensorflow~=2.4->tensorflow_privacy==0.9.0) (2025.4.26)\n",
            "Requirement already satisfied: markdown>=2.6.8 in /usr/local/lib/python3.11/dist-packages (from tensorboard<2.19,>=2.18->tensorflow~=2.4->tensorflow_privacy==0.9.0) (3.8)\n",
            "Requirement already satisfied: tensorboard-data-server<0.8.0,>=0.7.0 in /usr/local/lib/python3.11/dist-packages (from tensorboard<2.19,>=2.18->tensorflow~=2.4->tensorflow_privacy==0.9.0) (0.7.2)\n",
            "Requirement already satisfied: werkzeug>=1.0.1 in /usr/local/lib/python3.11/dist-packages (from tensorboard<2.19,>=2.18->tensorflow~=2.4->tensorflow_privacy==0.9.0) (3.1.3)\n",
            "Requirement already satisfied: MarkupSafe>=2.1.1 in /usr/local/lib/python3.11/dist-packages (from werkzeug>=1.0.1->tensorboard<2.19,>=2.18->tensorflow~=2.4->tensorflow_privacy==0.9.0) (3.0.2)\n",
            "Requirement already satisfied: markdown-it-py>=2.2.0 in /usr/local/lib/python3.11/dist-packages (from rich->keras>=3.5.0->tensorflow~=2.4->tensorflow_privacy==0.9.0) (3.0.0)\n",
            "Requirement already satisfied: pygments<3.0.0,>=2.13.0 in /usr/local/lib/python3.11/dist-packages (from rich->keras>=3.5.0->tensorflow~=2.4->tensorflow_privacy==0.9.0) (2.19.1)\n",
            "Requirement already satisfied: mdurl~=0.1 in /usr/local/lib/python3.11/dist-packages (from markdown-it-py>=2.2.0->rich->keras>=3.5.0->tensorflow~=2.4->tensorflow_privacy==0.9.0) (0.1.2)\n",
            "Requirement already satisfied: scikit-learn==1.6.1 in /usr/local/lib/python3.11/dist-packages (1.6.1)\n",
            "Requirement already satisfied: numpy>=1.19.5 in /usr/local/lib/python3.11/dist-packages (from scikit-learn==1.6.1) (1.26.4)\n",
            "Requirement already satisfied: scipy>=1.6.0 in /usr/local/lib/python3.11/dist-packages (from scikit-learn==1.6.1) (1.15.3)\n",
            "Requirement already satisfied: joblib>=1.2.0 in /usr/local/lib/python3.11/dist-packages (from scikit-learn==1.6.1) (1.5.1)\n",
            "Requirement already satisfied: threadpoolctl>=3.1.0 in /usr/local/lib/python3.11/dist-packages (from scikit-learn==1.6.1) (3.6.0)\n"
          ]
        }
      ]
    },
    {
      "cell_type": "code",
      "source": [
        "!pip install --force-reinstall --no-cache-dir numpy==1.26.4"
      ],
      "metadata": {
        "colab": {
          "base_uri": "https://localhost:8080/",
          "height": 394
        },
        "id": "x8oN6muph1LA",
        "outputId": "e2b6ddd3-03ca-47eb-d667-2bfc59c28435"
      },
      "id": "x8oN6muph1LA",
      "execution_count": null,
      "outputs": [
        {
          "output_type": "stream",
          "name": "stdout",
          "text": [
            "Collecting numpy==1.26.4\n",
            "  Downloading numpy-1.26.4-cp311-cp311-manylinux_2_17_x86_64.manylinux2014_x86_64.whl.metadata (61 kB)\n",
            "\u001b[?25l     \u001b[90m━━━━━━━━━━━━━━━━━━━━━━━━━━━━━━━━━━━━━━━━\u001b[0m \u001b[32m0.0/61.0 kB\u001b[0m \u001b[31m?\u001b[0m eta \u001b[36m-:--:--\u001b[0m\r\u001b[2K     \u001b[90m━━━━━━━━━━━━━━━━━━━━━━━━━━━━━━━━━━━━━━━━\u001b[0m \u001b[32m61.0/61.0 kB\u001b[0m \u001b[31m79.0 MB/s\u001b[0m eta \u001b[36m0:00:00\u001b[0m\n",
            "\u001b[?25hDownloading numpy-1.26.4-cp311-cp311-manylinux_2_17_x86_64.manylinux2014_x86_64.whl (18.3 MB)\n",
            "\u001b[?25l   \u001b[90m━━━━━━━━━━━━━━━━━━━━━━━━━━━━━━━━━━━━━━━━\u001b[0m \u001b[32m0.0/18.3 MB\u001b[0m \u001b[31m?\u001b[0m eta \u001b[36m-:--:--\u001b[0m\r\u001b[2K   \u001b[91m━━━━━━━━━━━━━━━━\u001b[0m\u001b[90m╺\u001b[0m\u001b[90m━━━━━━━━━━━━━━━━━━━━━━━\u001b[0m \u001b[32m7.4/18.3 MB\u001b[0m \u001b[31m184.3 MB/s\u001b[0m eta \u001b[36m0:00:01\u001b[0m\r\u001b[2K   \u001b[91m━━━━━━━━━━━━━━━━━━━━━━━━━━━━\u001b[0m\u001b[91m╸\u001b[0m\u001b[90m━━━━━━━━━━━\u001b[0m \u001b[32m13.0/18.3 MB\u001b[0m \u001b[31m172.1 MB/s\u001b[0m eta \u001b[36m0:00:01\u001b[0m\r\u001b[2K   \u001b[91m━━━━━━━━━━━━━━━━━━━━━━━━━━━━━━━━━━━━\u001b[0m\u001b[90m╺\u001b[0m\u001b[90m━━━\u001b[0m \u001b[32m16.6/18.3 MB\u001b[0m \u001b[31m131.9 MB/s\u001b[0m eta \u001b[36m0:00:01\u001b[0m\r\u001b[2K   \u001b[90m━━━━━━━━━━━━━━━━━━━━━━━━━━━━━━━━━━━━━━━━\u001b[0m \u001b[32m18.3/18.3 MB\u001b[0m \u001b[31m119.2 MB/s\u001b[0m eta \u001b[36m0:00:00\u001b[0m\n",
            "\u001b[?25hInstalling collected packages: numpy\n",
            "  Attempting uninstall: numpy\n",
            "    Found existing installation: numpy 1.26.4\n",
            "    Uninstalling numpy-1.26.4:\n",
            "      Successfully uninstalled numpy-1.26.4\n",
            "\u001b[31mERROR: pip's dependency resolver does not currently take into account all the packages that are installed. This behaviour is the source of the following dependency conflicts.\n",
            "db-dtypes 1.4.3 requires packaging>=24.2.0, but you have packaging 22.0 which is incompatible.\n",
            "xarray 2025.3.1 requires packaging>=23.2, but you have packaging 22.0 which is incompatible.\n",
            "thinc 8.3.6 requires numpy<3.0.0,>=2.0.0, but you have numpy 1.26.4 which is incompatible.\u001b[0m\u001b[31m\n",
            "\u001b[0mSuccessfully installed numpy-1.26.4\n"
          ]
        },
        {
          "output_type": "display_data",
          "data": {
            "application/vnd.colab-display-data+json": {
              "pip_warning": {
                "packages": [
                  "numpy"
                ]
              },
              "id": "926cb6ac3b554fbba69c19d16e66986c"
            }
          },
          "metadata": {}
        }
      ]
    },
    {
      "cell_type": "code",
      "execution_count": null,
      "id": "fe8d6f4a-2859-4289-8344-c4ba3743360a",
      "metadata": {
        "colab": {
          "base_uri": "https://localhost:8080/"
        },
        "id": "fe8d6f4a-2859-4289-8344-c4ba3743360a",
        "outputId": "06f6351e-ae86-42f7-a24b-a528ac2ecad9"
      },
      "outputs": [
        {
          "output_type": "stream",
          "name": "stdout",
          "text": [
            "Automatically created module for IPython interactive environment\n"
          ]
        }
      ],
      "source": [
        "import matplotlib.pyplot as plt\n",
        "import numpy as np\n",
        "from sklearn.discriminant_analysis import LinearDiscriminantAnalysis\n",
        "from sklearn.model_selection import ShuffleSplit, cross_val_score\n",
        "from sklearn.pipeline import Pipeline\n",
        "\n",
        "from EEGModels import EEGNet\n",
        "from EEGModels import DeepConvNet\n",
        "from EEGModels import ShallowConvNet\n",
        "from mne import Epochs, pick_types\n",
        "from mne.channels import make_standard_montage\n",
        "from mne.datasets import eegbci\n",
        "from mne.decoding import CSP\n",
        "from mne.io import concatenate_raws, read_raw_edf\n",
        "\n",
        "print(__doc__)"
      ]
    },
    {
      "cell_type": "code",
      "execution_count": null,
      "id": "b3b412f3-7760-4e20-9e7f-da14dc33312c",
      "metadata": {
        "id": "b3b412f3-7760-4e20-9e7f-da14dc33312c"
      },
      "outputs": [],
      "source": [
        "import h5py\n",
        "import time"
      ]
    },
    {
      "cell_type": "code",
      "execution_count": null,
      "id": "0ac5eb4a-f70e-408a-bf92-a89c1325ac25",
      "metadata": {
        "id": "0ac5eb4a-f70e-408a-bf92-a89c1325ac25"
      },
      "outputs": [],
      "source": [
        "from tensorflow.keras import utils as np_utils\n",
        "from tensorflow.keras.callbacks import ModelCheckpoint\n",
        "from tensorflow.keras import backend as K"
      ]
    },
    {
      "cell_type": "code",
      "execution_count": null,
      "id": "bcf5dade-e238-405f-91cd-692cb6961d34",
      "metadata": {
        "colab": {
          "base_uri": "https://localhost:8080/"
        },
        "id": "bcf5dade-e238-405f-91cd-692cb6961d34",
        "outputId": "37b4c318-3ddf-486b-b89a-ce676fd8d601"
      },
      "outputs": [
        {
          "output_type": "stream",
          "name": "stdout",
          "text": [
            "Using default location ~/mne_data for EEGBCI...\n",
            "Creating /root/mne_data\n",
            "Downloading EEGBCI data\n"
          ]
        },
        {
          "output_type": "stream",
          "name": "stderr",
          "text": [
            "Downloading file 'S001/S001R06.edf' from 'https://physionet.org/files/eegmmidb/1.0.0/S001/S001R06.edf' to '/root/mne_data/MNE-eegbci-data/files/eegmmidb/1.0.0'.\n",
            "Downloading file 'S001/S001R10.edf' from 'https://physionet.org/files/eegmmidb/1.0.0/S001/S001R10.edf' to '/root/mne_data/MNE-eegbci-data/files/eegmmidb/1.0.0'.\n",
            "Downloading file 'S001/S001R14.edf' from 'https://physionet.org/files/eegmmidb/1.0.0/S001/S001R14.edf' to '/root/mne_data/MNE-eegbci-data/files/eegmmidb/1.0.0'.\n",
            "Downloading file 'S002/S002R06.edf' from 'https://physionet.org/files/eegmmidb/1.0.0/S002/S002R06.edf' to '/root/mne_data/MNE-eegbci-data/files/eegmmidb/1.0.0'.\n",
            "Downloading file 'S002/S002R10.edf' from 'https://physionet.org/files/eegmmidb/1.0.0/S002/S002R10.edf' to '/root/mne_data/MNE-eegbci-data/files/eegmmidb/1.0.0'.\n",
            "Downloading file 'S002/S002R14.edf' from 'https://physionet.org/files/eegmmidb/1.0.0/S002/S002R14.edf' to '/root/mne_data/MNE-eegbci-data/files/eegmmidb/1.0.0'.\n",
            "Downloading file 'S003/S003R06.edf' from 'https://physionet.org/files/eegmmidb/1.0.0/S003/S003R06.edf' to '/root/mne_data/MNE-eegbci-data/files/eegmmidb/1.0.0'.\n",
            "Downloading file 'S003/S003R10.edf' from 'https://physionet.org/files/eegmmidb/1.0.0/S003/S003R10.edf' to '/root/mne_data/MNE-eegbci-data/files/eegmmidb/1.0.0'.\n",
            "Downloading file 'S003/S003R14.edf' from 'https://physionet.org/files/eegmmidb/1.0.0/S003/S003R14.edf' to '/root/mne_data/MNE-eegbci-data/files/eegmmidb/1.0.0'.\n",
            "Downloading file 'S004/S004R06.edf' from 'https://physionet.org/files/eegmmidb/1.0.0/S004/S004R06.edf' to '/root/mne_data/MNE-eegbci-data/files/eegmmidb/1.0.0'.\n",
            "Downloading file 'S004/S004R10.edf' from 'https://physionet.org/files/eegmmidb/1.0.0/S004/S004R10.edf' to '/root/mne_data/MNE-eegbci-data/files/eegmmidb/1.0.0'.\n",
            "Downloading file 'S004/S004R14.edf' from 'https://physionet.org/files/eegmmidb/1.0.0/S004/S004R14.edf' to '/root/mne_data/MNE-eegbci-data/files/eegmmidb/1.0.0'.\n",
            "Downloading file 'S005/S005R06.edf' from 'https://physionet.org/files/eegmmidb/1.0.0/S005/S005R06.edf' to '/root/mne_data/MNE-eegbci-data/files/eegmmidb/1.0.0'.\n",
            "Downloading file 'S005/S005R10.edf' from 'https://physionet.org/files/eegmmidb/1.0.0/S005/S005R10.edf' to '/root/mne_data/MNE-eegbci-data/files/eegmmidb/1.0.0'.\n",
            "Downloading file 'S005/S005R14.edf' from 'https://physionet.org/files/eegmmidb/1.0.0/S005/S005R14.edf' to '/root/mne_data/MNE-eegbci-data/files/eegmmidb/1.0.0'.\n",
            "Downloading file 'S006/S006R06.edf' from 'https://physionet.org/files/eegmmidb/1.0.0/S006/S006R06.edf' to '/root/mne_data/MNE-eegbci-data/files/eegmmidb/1.0.0'.\n",
            "Downloading file 'S006/S006R10.edf' from 'https://physionet.org/files/eegmmidb/1.0.0/S006/S006R10.edf' to '/root/mne_data/MNE-eegbci-data/files/eegmmidb/1.0.0'.\n",
            "Downloading file 'S006/S006R14.edf' from 'https://physionet.org/files/eegmmidb/1.0.0/S006/S006R14.edf' to '/root/mne_data/MNE-eegbci-data/files/eegmmidb/1.0.0'.\n",
            "Downloading file 'S007/S007R06.edf' from 'https://physionet.org/files/eegmmidb/1.0.0/S007/S007R06.edf' to '/root/mne_data/MNE-eegbci-data/files/eegmmidb/1.0.0'.\n",
            "Downloading file 'S007/S007R10.edf' from 'https://physionet.org/files/eegmmidb/1.0.0/S007/S007R10.edf' to '/root/mne_data/MNE-eegbci-data/files/eegmmidb/1.0.0'.\n",
            "Downloading file 'S007/S007R14.edf' from 'https://physionet.org/files/eegmmidb/1.0.0/S007/S007R14.edf' to '/root/mne_data/MNE-eegbci-data/files/eegmmidb/1.0.0'.\n",
            "Downloading file 'S008/S008R06.edf' from 'https://physionet.org/files/eegmmidb/1.0.0/S008/S008R06.edf' to '/root/mne_data/MNE-eegbci-data/files/eegmmidb/1.0.0'.\n",
            "Downloading file 'S008/S008R10.edf' from 'https://physionet.org/files/eegmmidb/1.0.0/S008/S008R10.edf' to '/root/mne_data/MNE-eegbci-data/files/eegmmidb/1.0.0'.\n",
            "Downloading file 'S008/S008R14.edf' from 'https://physionet.org/files/eegmmidb/1.0.0/S008/S008R14.edf' to '/root/mne_data/MNE-eegbci-data/files/eegmmidb/1.0.0'.\n",
            "Downloading file 'S009/S009R06.edf' from 'https://physionet.org/files/eegmmidb/1.0.0/S009/S009R06.edf' to '/root/mne_data/MNE-eegbci-data/files/eegmmidb/1.0.0'.\n",
            "Downloading file 'S009/S009R10.edf' from 'https://physionet.org/files/eegmmidb/1.0.0/S009/S009R10.edf' to '/root/mne_data/MNE-eegbci-data/files/eegmmidb/1.0.0'.\n",
            "Downloading file 'S009/S009R14.edf' from 'https://physionet.org/files/eegmmidb/1.0.0/S009/S009R14.edf' to '/root/mne_data/MNE-eegbci-data/files/eegmmidb/1.0.0'.\n"
          ]
        },
        {
          "output_type": "stream",
          "name": "stdout",
          "text": [
            "Do you want to set the path:\n",
            "    /root/mne_data\n",
            "as the default EEGBCI dataset path in the mne-python config [y]/n? y\n",
            "Attempting to create new mne-python configuration file:\n",
            "/root/.mne/mne-python.json\n",
            "Download complete in 17m34s (66.2 MB)\n",
            "Extracting EDF parameters from /root/mne_data/MNE-eegbci-data/files/eegmmidb/1.0.0/S001/S001R06.edf...\n",
            "EDF file detected\n",
            "Setting channel info structure...\n",
            "Creating raw.info structure...\n",
            "Reading 0 ... 19999  =      0.000 ...   124.994 secs...\n",
            "Extracting EDF parameters from /root/mne_data/MNE-eegbci-data/files/eegmmidb/1.0.0/S001/S001R10.edf...\n",
            "EDF file detected\n",
            "Setting channel info structure...\n",
            "Creating raw.info structure...\n",
            "Reading 0 ... 19999  =      0.000 ...   124.994 secs...\n",
            "Extracting EDF parameters from /root/mne_data/MNE-eegbci-data/files/eegmmidb/1.0.0/S001/S001R14.edf...\n",
            "EDF file detected\n",
            "Setting channel info structure...\n",
            "Creating raw.info structure...\n",
            "Reading 0 ... 19999  =      0.000 ...   124.994 secs...\n",
            "Extracting EDF parameters from /root/mne_data/MNE-eegbci-data/files/eegmmidb/1.0.0/S002/S002R06.edf...\n",
            "EDF file detected\n",
            "Setting channel info structure...\n",
            "Creating raw.info structure...\n",
            "Reading 0 ... 19679  =      0.000 ...   122.994 secs...\n",
            "Extracting EDF parameters from /root/mne_data/MNE-eegbci-data/files/eegmmidb/1.0.0/S002/S002R10.edf...\n",
            "EDF file detected\n",
            "Setting channel info structure...\n",
            "Creating raw.info structure...\n",
            "Reading 0 ... 19679  =      0.000 ...   122.994 secs...\n",
            "Extracting EDF parameters from /root/mne_data/MNE-eegbci-data/files/eegmmidb/1.0.0/S002/S002R14.edf...\n",
            "EDF file detected\n",
            "Setting channel info structure...\n",
            "Creating raw.info structure...\n",
            "Reading 0 ... 19679  =      0.000 ...   122.994 secs...\n",
            "Extracting EDF parameters from /root/mne_data/MNE-eegbci-data/files/eegmmidb/1.0.0/S003/S003R06.edf...\n",
            "EDF file detected\n",
            "Setting channel info structure...\n",
            "Creating raw.info structure...\n",
            "Reading 0 ... 19999  =      0.000 ...   124.994 secs...\n",
            "Extracting EDF parameters from /root/mne_data/MNE-eegbci-data/files/eegmmidb/1.0.0/S003/S003R10.edf...\n",
            "EDF file detected\n",
            "Setting channel info structure...\n",
            "Creating raw.info structure...\n",
            "Reading 0 ... 19999  =      0.000 ...   124.994 secs...\n",
            "Extracting EDF parameters from /root/mne_data/MNE-eegbci-data/files/eegmmidb/1.0.0/S003/S003R14.edf...\n",
            "EDF file detected\n",
            "Setting channel info structure...\n",
            "Creating raw.info structure...\n",
            "Reading 0 ... 19999  =      0.000 ...   124.994 secs...\n",
            "Extracting EDF parameters from /root/mne_data/MNE-eegbci-data/files/eegmmidb/1.0.0/S004/S004R06.edf...\n",
            "EDF file detected\n",
            "Setting channel info structure...\n",
            "Creating raw.info structure...\n",
            "Reading 0 ... 19679  =      0.000 ...   122.994 secs...\n",
            "Extracting EDF parameters from /root/mne_data/MNE-eegbci-data/files/eegmmidb/1.0.0/S004/S004R10.edf...\n",
            "EDF file detected\n",
            "Setting channel info structure...\n",
            "Creating raw.info structure...\n",
            "Reading 0 ... 19679  =      0.000 ...   122.994 secs...\n",
            "Extracting EDF parameters from /root/mne_data/MNE-eegbci-data/files/eegmmidb/1.0.0/S004/S004R14.edf...\n",
            "EDF file detected\n",
            "Setting channel info structure...\n",
            "Creating raw.info structure...\n",
            "Reading 0 ... 19679  =      0.000 ...   122.994 secs...\n",
            "Extracting EDF parameters from /root/mne_data/MNE-eegbci-data/files/eegmmidb/1.0.0/S005/S005R06.edf...\n",
            "EDF file detected\n",
            "Setting channel info structure...\n",
            "Creating raw.info structure...\n",
            "Reading 0 ... 19679  =      0.000 ...   122.994 secs...\n",
            "Extracting EDF parameters from /root/mne_data/MNE-eegbci-data/files/eegmmidb/1.0.0/S005/S005R10.edf...\n",
            "EDF file detected\n",
            "Setting channel info structure...\n",
            "Creating raw.info structure...\n",
            "Reading 0 ... 19679  =      0.000 ...   122.994 secs...\n",
            "Extracting EDF parameters from /root/mne_data/MNE-eegbci-data/files/eegmmidb/1.0.0/S005/S005R14.edf...\n",
            "EDF file detected\n",
            "Setting channel info structure...\n",
            "Creating raw.info structure...\n",
            "Reading 0 ... 19679  =      0.000 ...   122.994 secs...\n",
            "Extracting EDF parameters from /root/mne_data/MNE-eegbci-data/files/eegmmidb/1.0.0/S006/S006R06.edf...\n",
            "EDF file detected\n",
            "Setting channel info structure...\n",
            "Creating raw.info structure...\n",
            "Reading 0 ... 19679  =      0.000 ...   122.994 secs...\n",
            "Extracting EDF parameters from /root/mne_data/MNE-eegbci-data/files/eegmmidb/1.0.0/S006/S006R10.edf...\n",
            "EDF file detected\n",
            "Setting channel info structure...\n",
            "Creating raw.info structure...\n",
            "Reading 0 ... 19679  =      0.000 ...   122.994 secs...\n",
            "Extracting EDF parameters from /root/mne_data/MNE-eegbci-data/files/eegmmidb/1.0.0/S006/S006R14.edf...\n",
            "EDF file detected\n",
            "Setting channel info structure...\n",
            "Creating raw.info structure...\n",
            "Reading 0 ... 19679  =      0.000 ...   122.994 secs...\n",
            "Extracting EDF parameters from /root/mne_data/MNE-eegbci-data/files/eegmmidb/1.0.0/S007/S007R06.edf...\n",
            "EDF file detected\n",
            "Setting channel info structure...\n",
            "Creating raw.info structure...\n",
            "Reading 0 ... 19999  =      0.000 ...   124.994 secs...\n",
            "Extracting EDF parameters from /root/mne_data/MNE-eegbci-data/files/eegmmidb/1.0.0/S007/S007R10.edf...\n",
            "EDF file detected\n",
            "Setting channel info structure...\n",
            "Creating raw.info structure...\n",
            "Reading 0 ... 19999  =      0.000 ...   124.994 secs...\n",
            "Extracting EDF parameters from /root/mne_data/MNE-eegbci-data/files/eegmmidb/1.0.0/S007/S007R14.edf...\n",
            "EDF file detected\n",
            "Setting channel info structure...\n",
            "Creating raw.info structure...\n",
            "Reading 0 ... 19999  =      0.000 ...   124.994 secs...\n",
            "Extracting EDF parameters from /root/mne_data/MNE-eegbci-data/files/eegmmidb/1.0.0/S008/S008R06.edf...\n",
            "EDF file detected\n",
            "Setting channel info structure...\n",
            "Creating raw.info structure...\n",
            "Reading 0 ... 19679  =      0.000 ...   122.994 secs...\n",
            "Extracting EDF parameters from /root/mne_data/MNE-eegbci-data/files/eegmmidb/1.0.0/S008/S008R10.edf...\n",
            "EDF file detected\n",
            "Setting channel info structure...\n",
            "Creating raw.info structure...\n",
            "Reading 0 ... 19679  =      0.000 ...   122.994 secs...\n",
            "Extracting EDF parameters from /root/mne_data/MNE-eegbci-data/files/eegmmidb/1.0.0/S008/S008R14.edf...\n",
            "EDF file detected\n",
            "Setting channel info structure...\n",
            "Creating raw.info structure...\n",
            "Reading 0 ... 19679  =      0.000 ...   122.994 secs...\n",
            "Extracting EDF parameters from /root/mne_data/MNE-eegbci-data/files/eegmmidb/1.0.0/S009/S009R06.edf...\n",
            "EDF file detected\n",
            "Setting channel info structure...\n",
            "Creating raw.info structure...\n",
            "Reading 0 ... 19679  =      0.000 ...   122.994 secs...\n",
            "Extracting EDF parameters from /root/mne_data/MNE-eegbci-data/files/eegmmidb/1.0.0/S009/S009R10.edf...\n",
            "EDF file detected\n",
            "Setting channel info structure...\n",
            "Creating raw.info structure...\n",
            "Reading 0 ... 19679  =      0.000 ...   122.994 secs...\n",
            "Extracting EDF parameters from /root/mne_data/MNE-eegbci-data/files/eegmmidb/1.0.0/S009/S009R14.edf...\n",
            "EDF file detected\n",
            "Setting channel info structure...\n",
            "Creating raw.info structure...\n",
            "Reading 0 ... 19679  =      0.000 ...   122.994 secs...\n",
            "EEG channel type selected for re-referencing\n",
            "Adding average EEG reference projection.\n",
            "1 projection items deactivated\n",
            "Average reference projection was added, but has not been applied yet. Use the apply_proj method to apply it.\n",
            "Filtering raw data in 27 contiguous segments\n",
            "Setting up band-pass filter from 7 - 30 Hz\n",
            "\n",
            "FIR filter parameters\n",
            "---------------------\n",
            "Designing a one-pass, zero-phase, non-causal bandpass filter:\n",
            "- Windowed time-domain design (firwin) method\n",
            "- Hamming window with 0.0194 passband ripple and 53 dB stopband attenuation\n",
            "- Lower passband edge: 7.00\n",
            "- Lower transition bandwidth: 2.00 Hz (-6 dB cutoff frequency: 6.00 Hz)\n",
            "- Upper passband edge: 30.00 Hz\n",
            "- Upper transition bandwidth: 7.50 Hz (-6 dB cutoff frequency: 33.75 Hz)\n",
            "- Filter length: 265 samples (1.656 s)\n",
            "\n"
          ]
        },
        {
          "output_type": "stream",
          "name": "stderr",
          "text": [
            "[Parallel(n_jobs=1)]: Done  17 tasks      | elapsed:    0.0s\n",
            "[Parallel(n_jobs=1)]: Done  64 out of  64 | elapsed:    0.1s finished\n"
          ]
        },
        {
          "output_type": "stream",
          "name": "stdout",
          "text": [
            "Used Annotations descriptions: ['T0', 'feet', 'hands']\n",
            "Ignoring annotation durations and creating fixed-duration epochs around annotation onsets.\n",
            "Not setting metadata\n",
            "405 matching events found\n",
            "No baseline correction applied\n",
            "Created an SSP operator (subspace dimension = 1)\n",
            "1 projection items activated\n",
            "Using data from preloaded Raw for 405 events and 801 original time points ...\n",
            "0 bad epochs dropped\n"
          ]
        }
      ],
      "source": [
        "# #############################################################################\n",
        "# # Set parameters and read data\n",
        "\n",
        "# avoid classification of evoked responses by using epochs that start 1s after\n",
        "# cue onset.\n",
        "tmin, tmax = -1.0, 4.0\n",
        "subjects = range(1,10)\n",
        "runs = [6, 10, 14]  # motor imagery: hands vs feet\n",
        "\n",
        "raw_fnames = eegbci.load_data(subjects, runs)\n",
        "raw = concatenate_raws([read_raw_edf(f, preload=True) for f in raw_fnames])\n",
        "eegbci.standardize(raw)  # set channel names\n",
        "montage = make_standard_montage(\"standard_1005\")\n",
        "raw.set_montage(montage)\n",
        "raw.annotations.rename(dict(T1=\"hands\", T2=\"feet\"))  # as documented on PhysioNet\n",
        "raw.set_eeg_reference(projection=True)\n",
        "\n",
        "# Apply band-pass filter\n",
        "raw.filter(7.0, 30.0, fir_design=\"firwin\", skip_by_annotation=\"edge\")\n",
        "\n",
        "picks = pick_types(raw.info, meg=False, eeg=True, stim=False, eog=False, exclude=\"bads\")\n",
        "\n",
        "# Read epochs (train will be done only between 1 and 2s)\n",
        "# Testing will be done with a running classifier\n",
        "epochs = Epochs(\n",
        "    raw,\n",
        "    event_id=[\"hands\", \"feet\"],\n",
        "    tmin=tmin,\n",
        "    tmax=tmax,\n",
        "    proj=True,\n",
        "    picks=picks,\n",
        "    baseline=None,\n",
        "    preload=True,\n",
        ")\n",
        "epochs_train = epochs.copy().crop(tmin=1.0, tmax=2.0)\n",
        "labels = epochs.events[:, -1] - 2"
      ]
    },
    {
      "cell_type": "code",
      "execution_count": null,
      "id": "fe95232b-a26d-4e10-9405-4dff0354c9ea",
      "metadata": {
        "id": "fe95232b-a26d-4e10-9405-4dff0354c9ea"
      },
      "outputs": [],
      "source": [
        "# extract raw data. scale by 1000 due to scaling sensitivity in deep learning\n",
        "X = epochs.get_data()*1000 # format is in (trials, channels, samples)\n",
        "y = labels\n",
        "\n",
        "kernels, chans, samples = 1, 64, 801"
      ]
    },
    {
      "cell_type": "code",
      "execution_count": null,
      "id": "0ff3ff00-b005-4f33-8951-301e8635d9bf",
      "metadata": {
        "colab": {
          "base_uri": "https://localhost:8080/"
        },
        "id": "0ff3ff00-b005-4f33-8951-301e8635d9bf",
        "outputId": "2704b9c7-177d-492c-eee6-86ed3b37cb7f"
      },
      "outputs": [
        {
          "output_type": "stream",
          "name": "stdout",
          "text": [
            "(405, 64, 801) (405,)\n"
          ]
        }
      ],
      "source": [
        "print(X.shape, y.shape)"
      ]
    },
    {
      "cell_type": "code",
      "source": [
        "start = time.time()"
      ],
      "metadata": {
        "id": "PkNB88A3Zpod"
      },
      "id": "PkNB88A3Zpod",
      "execution_count": null,
      "outputs": []
    },
    {
      "cell_type": "code",
      "execution_count": null,
      "id": "d58a5551-39be-42c8-a272-e704330bb6f4",
      "metadata": {
        "id": "d58a5551-39be-42c8-a272-e704330bb6f4"
      },
      "outputs": [],
      "source": [
        "X_train      = X[0:224,]\n",
        "Y_train      = y[0:224]\n",
        "X_validate   = X[224:320,]\n",
        "Y_validate   = y[224:320]\n",
        "X_test       = X[320:416]\n",
        "Y_test       = y[320:416]\n"
      ]
    },
    {
      "cell_type": "code",
      "execution_count": null,
      "id": "11dc6b53-286d-4e66-b760-53ed7cdd358f",
      "metadata": {
        "colab": {
          "base_uri": "https://localhost:8080/"
        },
        "id": "11dc6b53-286d-4e66-b760-53ed7cdd358f",
        "outputId": "fae911b2-86dd-4fff-afea-f503fbc7c8c1"
      },
      "outputs": [
        {
          "output_type": "stream",
          "name": "stdout",
          "text": [
            "X_train shape: (224, 64, 801, 1)\n",
            "224 train samples\n",
            "85 test samples\n"
          ]
        }
      ],
      "source": [
        "X_train      = X_train.reshape(X_train.shape[0], chans, samples, kernels)\n",
        "X_validate   = X_validate.reshape(X_validate.shape[0], chans, samples, kernels)\n",
        "X_test       = X_test.reshape(X_test.shape[0], chans, samples, kernels)\n",
        "\n",
        "print('X_train shape:', X_train.shape)\n",
        "print(X_train.shape[0], 'train samples')\n",
        "print(X_test.shape[0], 'test samples')"
      ]
    },
    {
      "cell_type": "code",
      "source": [
        "import os\n",
        "os.makedirs('./tmp', exist_ok=True)"
      ],
      "metadata": {
        "id": "q_tgDZner2RY"
      },
      "id": "q_tgDZner2RY",
      "execution_count": null,
      "outputs": []
    },
    {
      "cell_type": "code",
      "execution_count": null,
      "id": "91553f57-244b-4977-8993-32f2832d9403",
      "metadata": {
        "colab": {
          "base_uri": "https://localhost:8080/"
        },
        "id": "91553f57-244b-4977-8993-32f2832d9403",
        "outputId": "1098fcba-994c-4344-ea35-8d0546c18d46"
      },
      "outputs": [
        {
          "output_type": "stream",
          "name": "stdout",
          "text": [
            "Epoch 1/100\n",
            "14/14 - 15s - 1s/step - accuracy: 0.4866 - loss: 1.1569 - val_accuracy: 0.4896 - val_loss: 8.9666\n",
            "Epoch 2/100\n",
            "14/14 - 19s - 1s/step - accuracy: 0.5982 - loss: 0.8205 - val_accuracy: 0.5104 - val_loss: 8.0604\n",
            "Epoch 3/100\n",
            "14/14 - 20s - 1s/step - accuracy: 0.7411 - loss: 0.5979 - val_accuracy: 0.5104 - val_loss: 1.7850\n",
            "Epoch 4/100\n",
            "14/14 - 20s - 1s/step - accuracy: 0.8571 - loss: 0.3992 - val_accuracy: 0.4896 - val_loss: 1.9263\n",
            "Epoch 5/100\n",
            "14/14 - 10s - 742ms/step - accuracy: 0.8795 - loss: 0.3408 - val_accuracy: 0.5208 - val_loss: 1.5609\n",
            "Epoch 6/100\n",
            "14/14 - 21s - 2s/step - accuracy: 0.9241 - loss: 0.2585 - val_accuracy: 0.5729 - val_loss: 0.7831\n",
            "Epoch 7/100\n",
            "14/14 - 20s - 1s/step - accuracy: 0.9598 - loss: 0.2231 - val_accuracy: 0.5833 - val_loss: 0.7877\n",
            "Epoch 8/100\n",
            "14/14 - 10s - 740ms/step - accuracy: 0.9643 - loss: 0.1638 - val_accuracy: 0.6458 - val_loss: 0.7390\n",
            "Epoch 9/100\n",
            "14/14 - 10s - 747ms/step - accuracy: 0.9688 - loss: 0.1492 - val_accuracy: 0.6146 - val_loss: 0.6852\n",
            "Epoch 10/100\n",
            "14/14 - 29s - 2s/step - accuracy: 0.9509 - loss: 0.1537 - val_accuracy: 0.6667 - val_loss: 0.7713\n",
            "Epoch 11/100\n",
            "14/14 - 17s - 1s/step - accuracy: 0.9911 - loss: 0.0832 - val_accuracy: 0.5938 - val_loss: 0.7813\n",
            "Epoch 12/100\n",
            "14/14 - 14s - 981ms/step - accuracy: 0.9955 - loss: 0.0707 - val_accuracy: 0.6042 - val_loss: 0.8258\n",
            "Epoch 13/100\n",
            "14/14 - 10s - 720ms/step - accuracy: 0.9955 - loss: 0.0713 - val_accuracy: 0.5625 - val_loss: 0.9022\n",
            "Epoch 14/100\n",
            "14/14 - 11s - 806ms/step - accuracy: 0.9732 - loss: 0.0803 - val_accuracy: 0.5729 - val_loss: 0.8439\n",
            "Epoch 15/100\n",
            "14/14 - 21s - 1s/step - accuracy: 0.9911 - loss: 0.0598 - val_accuracy: 0.5521 - val_loss: 0.8098\n",
            "Epoch 16/100\n",
            "14/14 - 19s - 1s/step - accuracy: 0.9911 - loss: 0.0634 - val_accuracy: 0.6667 - val_loss: 0.9617\n",
            "Epoch 17/100\n",
            "14/14 - 12s - 827ms/step - accuracy: 0.9866 - loss: 0.0630 - val_accuracy: 0.5729 - val_loss: 0.9417\n",
            "Epoch 18/100\n",
            "14/14 - 19s - 1s/step - accuracy: 0.9866 - loss: 0.0449 - val_accuracy: 0.5417 - val_loss: 1.0209\n",
            "Epoch 19/100\n",
            "14/14 - 19s - 1s/step - accuracy: 0.9866 - loss: 0.0548 - val_accuracy: 0.6250 - val_loss: 0.8729\n",
            "Epoch 20/100\n",
            "14/14 - 11s - 763ms/step - accuracy: 1.0000 - loss: 0.0342 - val_accuracy: 0.5938 - val_loss: 0.9381\n",
            "Epoch 21/100\n",
            "14/14 - 11s - 790ms/step - accuracy: 1.0000 - loss: 0.0249 - val_accuracy: 0.5938 - val_loss: 0.8758\n",
            "Epoch 22/100\n",
            "14/14 - 20s - 1s/step - accuracy: 1.0000 - loss: 0.0187 - val_accuracy: 0.5938 - val_loss: 0.9012\n",
            "Epoch 23/100\n",
            "14/14 - 19s - 1s/step - accuracy: 0.9955 - loss: 0.0260 - val_accuracy: 0.6250 - val_loss: 0.9235\n",
            "Epoch 24/100\n",
            "14/14 - 10s - 744ms/step - accuracy: 1.0000 - loss: 0.0200 - val_accuracy: 0.6250 - val_loss: 0.8021\n",
            "Epoch 25/100\n",
            "14/14 - 20s - 1s/step - accuracy: 1.0000 - loss: 0.0168 - val_accuracy: 0.5833 - val_loss: 0.8932\n",
            "Epoch 26/100\n",
            "14/14 - 19s - 1s/step - accuracy: 1.0000 - loss: 0.0167 - val_accuracy: 0.6042 - val_loss: 0.8476\n",
            "Epoch 27/100\n",
            "14/14 - 11s - 802ms/step - accuracy: 1.0000 - loss: 0.0133 - val_accuracy: 0.5729 - val_loss: 0.8575\n",
            "Epoch 28/100\n",
            "14/14 - 11s - 757ms/step - accuracy: 1.0000 - loss: 0.0120 - val_accuracy: 0.6250 - val_loss: 0.9604\n",
            "Epoch 29/100\n",
            "14/14 - 20s - 1s/step - accuracy: 1.0000 - loss: 0.0113 - val_accuracy: 0.5938 - val_loss: 0.8429\n",
            "Epoch 30/100\n",
            "14/14 - 9s - 663ms/step - accuracy: 1.0000 - loss: 0.0102 - val_accuracy: 0.5938 - val_loss: 0.8972\n",
            "Epoch 31/100\n",
            "14/14 - 11s - 788ms/step - accuracy: 1.0000 - loss: 0.0093 - val_accuracy: 0.5729 - val_loss: 0.9104\n",
            "Epoch 32/100\n",
            "14/14 - 10s - 749ms/step - accuracy: 1.0000 - loss: 0.0084 - val_accuracy: 0.5938 - val_loss: 0.9290\n",
            "Epoch 33/100\n",
            "14/14 - 21s - 2s/step - accuracy: 1.0000 - loss: 0.0089 - val_accuracy: 0.5938 - val_loss: 0.8842\n",
            "Epoch 34/100\n",
            "14/14 - 20s - 1s/step - accuracy: 1.0000 - loss: 0.0096 - val_accuracy: 0.6042 - val_loss: 0.8926\n",
            "Epoch 35/100\n",
            "14/14 - 10s - 745ms/step - accuracy: 1.0000 - loss: 0.0071 - val_accuracy: 0.5833 - val_loss: 0.9771\n",
            "Epoch 36/100\n",
            "14/14 - 20s - 1s/step - accuracy: 1.0000 - loss: 0.0075 - val_accuracy: 0.6042 - val_loss: 0.8951\n",
            "Epoch 37/100\n",
            "14/14 - 20s - 1s/step - accuracy: 1.0000 - loss: 0.0067 - val_accuracy: 0.6042 - val_loss: 0.8857\n",
            "Epoch 38/100\n",
            "14/14 - 11s - 750ms/step - accuracy: 0.9955 - loss: 0.0110 - val_accuracy: 0.6042 - val_loss: 0.8620\n",
            "Epoch 39/100\n",
            "14/14 - 20s - 1s/step - accuracy: 1.0000 - loss: 0.0132 - val_accuracy: 0.6250 - val_loss: 0.9680\n",
            "Epoch 40/100\n",
            "14/14 - 20s - 1s/step - accuracy: 1.0000 - loss: 0.0093 - val_accuracy: 0.5938 - val_loss: 0.9169\n",
            "Epoch 41/100\n",
            "14/14 - 21s - 1s/step - accuracy: 1.0000 - loss: 0.0071 - val_accuracy: 0.6042 - val_loss: 1.0043\n",
            "Epoch 42/100\n",
            "14/14 - 20s - 1s/step - accuracy: 1.0000 - loss: 0.0063 - val_accuracy: 0.6146 - val_loss: 0.9711\n",
            "Epoch 43/100\n",
            "14/14 - 20s - 1s/step - accuracy: 1.0000 - loss: 0.0064 - val_accuracy: 0.6042 - val_loss: 0.9101\n",
            "Epoch 44/100\n",
            "14/14 - 20s - 1s/step - accuracy: 1.0000 - loss: 0.0059 - val_accuracy: 0.5729 - val_loss: 0.9295\n",
            "Epoch 45/100\n",
            "14/14 - 19s - 1s/step - accuracy: 1.0000 - loss: 0.0044 - val_accuracy: 0.6146 - val_loss: 0.9867\n",
            "Epoch 46/100\n",
            "14/14 - 11s - 756ms/step - accuracy: 1.0000 - loss: 0.0056 - val_accuracy: 0.6042 - val_loss: 0.9120\n",
            "Epoch 47/100\n",
            "14/14 - 11s - 795ms/step - accuracy: 1.0000 - loss: 0.0047 - val_accuracy: 0.5938 - val_loss: 0.9364\n",
            "Epoch 48/100\n",
            "14/14 - 20s - 1s/step - accuracy: 1.0000 - loss: 0.0045 - val_accuracy: 0.5938 - val_loss: 0.9188\n",
            "Epoch 49/100\n",
            "14/14 - 19s - 1s/step - accuracy: 1.0000 - loss: 0.0045 - val_accuracy: 0.5938 - val_loss: 0.9532\n",
            "Epoch 50/100\n",
            "14/14 - 10s - 741ms/step - accuracy: 1.0000 - loss: 0.0044 - val_accuracy: 0.5833 - val_loss: 0.9366\n",
            "Epoch 51/100\n",
            "14/14 - 20s - 1s/step - accuracy: 1.0000 - loss: 0.0046 - val_accuracy: 0.5625 - val_loss: 0.9638\n",
            "Epoch 52/100\n",
            "14/14 - 19s - 1s/step - accuracy: 1.0000 - loss: 0.0040 - val_accuracy: 0.5833 - val_loss: 0.9381\n",
            "Epoch 53/100\n",
            "14/14 - 11s - 795ms/step - accuracy: 1.0000 - loss: 0.0037 - val_accuracy: 0.6042 - val_loss: 0.9033\n",
            "Epoch 54/100\n",
            "14/14 - 11s - 761ms/step - accuracy: 1.0000 - loss: 0.0038 - val_accuracy: 0.5833 - val_loss: 0.8929\n",
            "Epoch 55/100\n",
            "14/14 - 20s - 1s/step - accuracy: 1.0000 - loss: 0.0039 - val_accuracy: 0.5625 - val_loss: 0.9927\n",
            "Epoch 56/100\n",
            "14/14 - 9s - 654ms/step - accuracy: 1.0000 - loss: 0.0041 - val_accuracy: 0.5938 - val_loss: 0.9105\n",
            "Epoch 57/100\n",
            "14/14 - 11s - 765ms/step - accuracy: 1.0000 - loss: 0.0032 - val_accuracy: 0.5938 - val_loss: 0.9235\n",
            "Epoch 58/100\n",
            "14/14 - 11s - 781ms/step - accuracy: 1.0000 - loss: 0.0034 - val_accuracy: 0.5729 - val_loss: 0.9676\n",
            "Epoch 59/100\n",
            "14/14 - 21s - 1s/step - accuracy: 1.0000 - loss: 0.0039 - val_accuracy: 0.5625 - val_loss: 0.9298\n",
            "Epoch 60/100\n",
            "14/14 - 19s - 1s/step - accuracy: 1.0000 - loss: 0.0027 - val_accuracy: 0.5833 - val_loss: 0.9518\n",
            "Epoch 61/100\n",
            "14/14 - 11s - 809ms/step - accuracy: 1.0000 - loss: 0.0029 - val_accuracy: 0.5833 - val_loss: 0.9078\n",
            "Epoch 62/100\n",
            "14/14 - 20s - 1s/step - accuracy: 1.0000 - loss: 0.0036 - val_accuracy: 0.5833 - val_loss: 0.8996\n",
            "Epoch 63/100\n",
            "14/14 - 19s - 1s/step - accuracy: 1.0000 - loss: 0.0034 - val_accuracy: 0.5833 - val_loss: 0.9701\n",
            "Epoch 64/100\n",
            "14/14 - 11s - 755ms/step - accuracy: 1.0000 - loss: 0.0030 - val_accuracy: 0.5938 - val_loss: 0.8964\n",
            "Epoch 65/100\n",
            "14/14 - 11s - 795ms/step - accuracy: 1.0000 - loss: 0.0027 - val_accuracy: 0.6042 - val_loss: 0.8645\n",
            "Epoch 66/100\n",
            "14/14 - 20s - 1s/step - accuracy: 1.0000 - loss: 0.0024 - val_accuracy: 0.6042 - val_loss: 0.8803\n",
            "Epoch 67/100\n",
            "14/14 - 19s - 1s/step - accuracy: 1.0000 - loss: 0.0035 - val_accuracy: 0.5729 - val_loss: 1.0276\n",
            "Epoch 68/100\n",
            "14/14 - 11s - 789ms/step - accuracy: 1.0000 - loss: 0.0030 - val_accuracy: 0.5938 - val_loss: 0.9003\n",
            "Epoch 69/100\n",
            "14/14 - 11s - 762ms/step - accuracy: 1.0000 - loss: 0.0026 - val_accuracy: 0.5938 - val_loss: 0.9377\n",
            "Epoch 70/100\n",
            "14/14 - 21s - 2s/step - accuracy: 1.0000 - loss: 0.0021 - val_accuracy: 0.6042 - val_loss: 0.9563\n",
            "Epoch 71/100\n",
            "14/14 - 19s - 1s/step - accuracy: 1.0000 - loss: 0.0022 - val_accuracy: 0.5938 - val_loss: 0.9046\n",
            "Epoch 72/100\n",
            "14/14 - 11s - 773ms/step - accuracy: 1.0000 - loss: 0.0026 - val_accuracy: 0.5938 - val_loss: 0.8948\n",
            "Epoch 73/100\n",
            "14/14 - 20s - 1s/step - accuracy: 1.0000 - loss: 0.0026 - val_accuracy: 0.5938 - val_loss: 0.8845\n",
            "Epoch 74/100\n",
            "14/14 - 9s - 648ms/step - accuracy: 1.0000 - loss: 0.0025 - val_accuracy: 0.5729 - val_loss: 0.9390\n",
            "Epoch 75/100\n",
            "14/14 - 11s - 751ms/step - accuracy: 1.0000 - loss: 0.0020 - val_accuracy: 0.6042 - val_loss: 0.8526\n",
            "Epoch 76/100\n",
            "14/14 - 11s - 803ms/step - accuracy: 1.0000 - loss: 0.0019 - val_accuracy: 0.5938 - val_loss: 0.9142\n",
            "Epoch 77/100\n",
            "14/14 - 20s - 1s/step - accuracy: 1.0000 - loss: 0.0027 - val_accuracy: 0.5729 - val_loss: 1.0182\n",
            "Epoch 78/100\n",
            "14/14 - 19s - 1s/step - accuracy: 1.0000 - loss: 0.0022 - val_accuracy: 0.6146 - val_loss: 0.9295\n",
            "Epoch 79/100\n",
            "14/14 - 11s - 772ms/step - accuracy: 1.0000 - loss: 0.0021 - val_accuracy: 0.5833 - val_loss: 1.0198\n",
            "Epoch 80/100\n",
            "14/14 - 11s - 781ms/step - accuracy: 1.0000 - loss: 0.0021 - val_accuracy: 0.5938 - val_loss: 0.9261\n",
            "Epoch 81/100\n",
            "14/14 - 20s - 1s/step - accuracy: 1.0000 - loss: 0.0025 - val_accuracy: 0.5938 - val_loss: 0.8581\n",
            "Epoch 82/100\n",
            "14/14 - 19s - 1s/step - accuracy: 1.0000 - loss: 0.0020 - val_accuracy: 0.6146 - val_loss: 0.8833\n",
            "Epoch 83/100\n",
            "14/14 - 11s - 811ms/step - accuracy: 1.0000 - loss: 0.0027 - val_accuracy: 0.5938 - val_loss: 1.0613\n",
            "Epoch 84/100\n",
            "14/14 - 20s - 1s/step - accuracy: 1.0000 - loss: 0.0023 - val_accuracy: 0.5938 - val_loss: 0.8320\n",
            "Epoch 85/100\n",
            "14/14 - 19s - 1s/step - accuracy: 1.0000 - loss: 0.0029 - val_accuracy: 0.5833 - val_loss: 1.0696\n",
            "Epoch 86/100\n",
            "14/14 - 11s - 756ms/step - accuracy: 1.0000 - loss: 0.0036 - val_accuracy: 0.6354 - val_loss: 0.9583\n",
            "Epoch 87/100\n",
            "14/14 - 11s - 789ms/step - accuracy: 1.0000 - loss: 0.0026 - val_accuracy: 0.5833 - val_loss: 0.9529\n",
            "Epoch 88/100\n",
            "14/14 - 20s - 1s/step - accuracy: 1.0000 - loss: 0.0023 - val_accuracy: 0.6146 - val_loss: 0.8987\n",
            "Epoch 89/100\n",
            "14/14 - 19s - 1s/step - accuracy: 1.0000 - loss: 0.0017 - val_accuracy: 0.6146 - val_loss: 0.9103\n",
            "Epoch 90/100\n",
            "14/14 - 10s - 742ms/step - accuracy: 1.0000 - loss: 0.0017 - val_accuracy: 0.6042 - val_loss: 0.8853\n",
            "Epoch 91/100\n",
            "14/14 - 20s - 1s/step - accuracy: 1.0000 - loss: 0.0016 - val_accuracy: 0.6042 - val_loss: 0.8952\n",
            "Epoch 92/100\n",
            "14/14 - 19s - 1s/step - accuracy: 1.0000 - loss: 0.0017 - val_accuracy: 0.6042 - val_loss: 0.8458\n",
            "Epoch 93/100\n",
            "14/14 - 11s - 769ms/step - accuracy: 1.0000 - loss: 0.0017 - val_accuracy: 0.5833 - val_loss: 0.9548\n",
            "Epoch 94/100\n",
            "14/14 - 11s - 787ms/step - accuracy: 1.0000 - loss: 0.0018 - val_accuracy: 0.5938 - val_loss: 0.8874\n",
            "Epoch 95/100\n",
            "14/14 - 21s - 1s/step - accuracy: 1.0000 - loss: 0.0014 - val_accuracy: 0.5938 - val_loss: 0.9010\n",
            "Epoch 96/100\n",
            "14/14 - 19s - 1s/step - accuracy: 1.0000 - loss: 0.0015 - val_accuracy: 0.5833 - val_loss: 0.9627\n",
            "Epoch 97/100\n",
            "14/14 - 11s - 807ms/step - accuracy: 1.0000 - loss: 0.0017 - val_accuracy: 0.6146 - val_loss: 0.8757\n",
            "Epoch 98/100\n",
            "14/14 - 10s - 743ms/step - accuracy: 1.0000 - loss: 0.0014 - val_accuracy: 0.5938 - val_loss: 0.8253\n",
            "Epoch 99/100\n",
            "14/14 - 10s - 743ms/step - accuracy: 1.0000 - loss: 0.0015 - val_accuracy: 0.5833 - val_loss: 0.9406\n",
            "Epoch 100/100\n",
            "14/14 - 10s - 737ms/step - accuracy: 1.0000 - loss: 0.0016 - val_accuracy: 0.5833 - val_loss: 0.9892\n"
          ]
        }
      ],
      "source": [
        "model = ShallowConvNet(nb_classes = 2, Chans = chans, Samples = samples, dropoutRate = 0.5)\n",
        "\n",
        "# compile the model and set the optimizers\n",
        "model.compile(loss='sparse_categorical_crossentropy', optimizer='adam',\n",
        "              metrics = ['accuracy'])\n",
        "\n",
        "# count number of parameters in the model\n",
        "numParams    = model.count_params()\n",
        "\n",
        "# set a valid path for your system to record model checkpoints\n",
        "with h5py.File('./tmp/mi_checkpoint.h5', 'w') as f:\n",
        "    # This creates 2 attributes of arrays of different np.float types:\n",
        "    arr_in = np.array([1.0,2.0,3.0])\n",
        "    f.attrs['as_float64'] = arr_in\n",
        "    # arr_in.dtype = np.float128\n",
        "    # f.attrs['as_float128'] = arr_in\n",
        "checkpointer = ModelCheckpoint(filepath='./tmp/mi_checkpoint.h5', verbose=1,\n",
        "                               save_best_only=True)\n",
        "\n",
        "###############################################################################\n",
        "# if the classification task was imbalanced (significantly more trials in one\n",
        "# class versus the others) you can assign a weight to each class during\n",
        "# optimization to balance it out. This data is approximately balanced so we\n",
        "# don't need to do this, but is shown here for illustration/completeness.\n",
        "###############################################################################\n",
        "\n",
        "# the syntax is {class_1:weight_1, class_2:weight_2,...}. Here just setting\n",
        "# the weights all to be 1\n",
        "class_weights = {0:1, 1:1}\n",
        "\n",
        "################################################################################\n",
        "# fit the model. Due to very small sample sizes this can get\n",
        "# pretty noisy run-to-run, but most runs should be comparable to xDAWN +\n",
        "# Riemannian geometry classification (below)\n",
        "################################################################################\n",
        "fittedModel = model.fit(X_train, Y_train, batch_size = 16, epochs = 100,\n",
        "                        verbose = 2, validation_data=(X_validate, Y_validate),\n",
        "                        # callbacks=[checkpointer],\n",
        "                        class_weight = class_weights)"
      ]
    },
    {
      "cell_type": "code",
      "execution_count": null,
      "id": "8a8ed197-d171-4b05-9357-01474f307dc0",
      "metadata": {
        "colab": {
          "base_uri": "https://localhost:8080/"
        },
        "id": "8a8ed197-d171-4b05-9357-01474f307dc0",
        "outputId": "33fd95df-4503-4948-b8b8-61c001c3b0d9"
      },
      "outputs": [
        {
          "output_type": "stream",
          "name": "stdout",
          "text": [
            "\u001b[1m3/3\u001b[0m \u001b[32m━━━━━━━━━━━━━━━━━━━━\u001b[0m\u001b[37m\u001b[0m \u001b[1m1s\u001b[0m 360ms/step\n",
            "Classification accuracy: 0.294118 \n"
          ]
        }
      ],
      "source": [
        "# load optimal weights\n",
        "# model.load_weights('./tmp/mi_checkpoint.h5')\n",
        "\n",
        "###############################################################################\n",
        "# can alternatively used the weights provided in the repo. If so it should get\n",
        "# you 93% accuracy. Change the WEIGHTS_PATH variable to wherever it is on your\n",
        "# system.\n",
        "###############################################################################\n",
        "\n",
        "# WEIGHTS_PATH = /path/to/EEGNet-8-2-weights.h5\n",
        "# model.load_weights(WEIGHTS_PATH)\n",
        "\n",
        "###############################################################################\n",
        "# make prediction on test set.\n",
        "###############################################################################\n",
        "\n",
        "probs       = model.predict(X_test)\n",
        "preds       = probs.argmax(axis = -1)\n",
        "acc         = np.mean(preds == Y_test.argmax(axis=-1))\n",
        "print(\"Classification accuracy: %f \" % (acc))"
      ]
    },
    {
      "cell_type": "code",
      "execution_count": null,
      "id": "8f1b26a9-c665-41ee-aaf0-00cb5f0c591c",
      "metadata": {
        "id": "8f1b26a9-c665-41ee-aaf0-00cb5f0c591c"
      },
      "outputs": [],
      "source": [
        "\n",
        "\n",
        "\n",
        "############################# PyRiemann Portion ##############################\n",
        "\n",
        "# code is taken from PyRiemann's ERP sample script, which is decoding in\n",
        "# the tangent space with a logistic regression\n",
        "\n",
        "# n_components = 2  # pick some components\n",
        "\n",
        "# # set up sklearn pipeline\n",
        "# clf = make_pipeline(XdawnCovariances(n_components),\n",
        "#                     TangentSpace(metric='riemann'),\n",
        "#                     LogisticRegression())\n",
        "\n",
        "# preds_rg     = np.zeros(len(Y_test))\n",
        "\n",
        "# # reshape back to (trials, channels, samples)\n",
        "# X_train      = X_train.reshape(X_train.shape[0], chans, samples)\n",
        "# X_test       = X_test.reshape(X_test.shape[0], chans, samples)\n",
        "\n",
        "# # train a classifier with xDAWN spatial filtering + Riemannian Geometry (RG)\n",
        "# # labels need to be back in single-column format\n",
        "# clf.fit(X_train, Y_train.argmax(axis = -1))\n",
        "# preds_rg     = clf.predict(X_test)\n",
        "\n",
        "# # Printing the results\n",
        "# acc2         = np.mean(preds_rg == Y_test.argmax(axis = -1))\n",
        "# print(\"Classification accuracy: %f \" % (acc2))"
      ]
    },
    {
      "cell_type": "code",
      "execution_count": null,
      "id": "8c56e01b-4c3f-48bc-8e33-9390b1268770",
      "metadata": {
        "id": "8c56e01b-4c3f-48bc-8e33-9390b1268770"
      },
      "outputs": [],
      "source": [
        "from sklearn.metrics import confusion_matrix, ConfusionMatrixDisplay, classification_report"
      ]
    },
    {
      "cell_type": "code",
      "execution_count": null,
      "id": "df8f5271-e6c4-4d37-b5d6-735dfa952af9",
      "metadata": {
        "colab": {
          "base_uri": "https://localhost:8080/",
          "height": 466
        },
        "id": "df8f5271-e6c4-4d37-b5d6-735dfa952af9",
        "outputId": "322ec228-bc21-47b9-deff-2d8abb8f048f"
      },
      "outputs": [
        {
          "output_type": "execute_result",
          "data": {
            "text/plain": [
              "<sklearn.metrics._plot.confusion_matrix.ConfusionMatrixDisplay at 0x7a083df42010>"
            ]
          },
          "metadata": {},
          "execution_count": 23
        },
        {
          "output_type": "display_data",
          "data": {
            "text/plain": [
              "<Figure size 640x480 with 2 Axes>"
            ],
            "image/png": "[encoded data removed]"
          },
          "metadata": {}
        }
      ],
      "source": [
        "# plot the confusion matrices for both classifiers\n",
        "names        = ['hands', 'feet']\n",
        "# plt.figure(0)\n",
        "confusion_matrix_1 = confusion_matrix(preds, Y_test)\n",
        "\n",
        "# plt.figure(1)\n",
        "# confusion_matrix_2 = confusion_matrix(preds_rg, Y_test)\n",
        "\n",
        "disp1 = ConfusionMatrixDisplay(confusion_matrix_1, display_labels = names)\n",
        "disp1.plot()\n",
        "\n",
        "# disp2 = ConfusionMatrixDisplay(confusion_matrix_2, display_labels = names)\n",
        "# disp2.plot()"
      ]
    },
    {
      "cell_type": "code",
      "execution_count": null,
      "id": "650b4b19-612d-4c26-b71d-4706f8407299",
      "metadata": {
        "colab": {
          "base_uri": "https://localhost:8080/"
        },
        "id": "650b4b19-612d-4c26-b71d-4706f8407299",
        "outputId": "cce23d92-439c-41ae-b66b-88b72db8e9c1"
      },
      "outputs": [
        {
          "output_type": "stream",
          "name": "stdout",
          "text": [
            "              precision    recall  f1-score   support\n",
            "\n",
            "           0       0.32      0.52      0.39        25\n",
            "           1       0.73      0.53      0.62        60\n",
            "\n",
            "    accuracy                           0.53        85\n",
            "   macro avg       0.52      0.53      0.50        85\n",
            "weighted avg       0.61      0.53      0.55        85\n",
            "\n"
          ]
        }
      ],
      "source": [
        "print(classification_report(preds, Y_test))"
      ]
    },
    {
      "cell_type": "code",
      "execution_count": null,
      "id": "ee9da8f6-6413-4a35-aa97-8615ca41d776",
      "metadata": {
        "colab": {
          "base_uri": "https://localhost:8080/"
        },
        "id": "ee9da8f6-6413-4a35-aa97-8615ca41d776",
        "outputId": "bb70af44-b523-4bb8-eb07-97f358341ba6"
      },
      "outputs": [
        {
          "output_type": "stream",
          "name": "stdout",
          "text": [
            "Took 1578.90 seconds\n"
          ]
        }
      ],
      "source": [
        "end = time.time()\n",
        "print(f\"Took {end - start:.2f} seconds\")"
      ]
    }
  ],
  "metadata": {
    "kernelspec": {
      "display_name": "zazu2",
      "language": "python",
      "name": "zazu2"
    },
    "language_info": {
      "codemirror_mode": {
        "name": "ipython",
        "version": 3
      },
      "file_extension": ".py",
      "mimetype": "text/x-python",
      "name": "python",
      "nbconvert_exporter": "python",
      "pygments_lexer": "ipython3",
      "version": "3.11.0"
    },
    "colab": {
      "provenance": []
    }
  },
  "nbformat": 4,
  "nbformat_minor": 5
}