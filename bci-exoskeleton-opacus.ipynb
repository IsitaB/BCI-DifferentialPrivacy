{
 "cells": [
  {
   "cell_type": "code",
   "execution_count": null,
   "metadata": {},
   "outputs": [],
   "source": [
    "\n"
   ]
  },
  {
   "cell_type": "code",
   "execution_count": 13,
   "metadata": {},
   "outputs": [],
   "source": [
    "import torch\n",
    "import torch.nn as nn\n",
    "import torch.nn.functional as F\n",
    "from torch.utils.data import DataLoader, TensorDataset\n",
    "from sklearn.model_selection import train_test_split\n",
    "from sklearn.preprocessing import StandardScaler\n",
    "from opacus import PrivacyEngine\n",
    "from sklearn.preprocessing import LabelEncoder\n"
   ]
  },
  {
   "cell_type": "code",
   "execution_count": 14,
   "metadata": {},
   "outputs": [],
   "source": [
    "import pandas as pd\n",
    "import numpy as np\n",
    "\n",
    "# Load and preprocess the dataset\n",
    "df = pd.read_csv(\"./eeg-motor-imagery-bciciv-2a/BCICIV_2a_all_patients.csv\")"
   ]
  },
  {
   "cell_type": "code",
   "execution_count": 15,
   "metadata": {},
   "outputs": [],
   "source": [
    "X = df.drop(columns=['label', 'patient']).values\n",
    "label_encoder = LabelEncoder()\n",
    "y = label_encoder.fit_transform(df['label'])"
   ]
  },
  {
   "cell_type": "code",
   "execution_count": 16,
   "metadata": {},
   "outputs": [],
   "source": [
    "X_train, X_test, y_train, y_test = train_test_split(X, y, test_size=0.2, random_state=42)"
   ]
  },
  {
   "cell_type": "code",
   "execution_count": 17,
   "metadata": {},
   "outputs": [],
   "source": [
    "scaler = StandardScaler()\n",
    "X_train = scaler.fit_transform(X_train)\n",
    "X_test = scaler.transform(X_test)\n"
   ]
  },
  {
   "cell_type": "code",
   "execution_count": 18,
   "metadata": {},
   "outputs": [],
   "source": [
    "# Convert to PyTorch tensors\n",
    "X_train_tensor = torch.tensor(X_train, dtype=torch.float32)\n",
    "y_train_tensor = torch.tensor(y_train, dtype=torch.long)"
   ]
  },
  {
   "cell_type": "code",
   "execution_count": 19,
   "metadata": {},
   "outputs": [],
   "source": [
    "train_dataset = TensorDataset(X_train_tensor, y_train_tensor)\n",
    "train_loader = DataLoader(train_dataset, batch_size=32, shuffle=True)"
   ]
  },
  {
   "cell_type": "code",
   "execution_count": 20,
   "metadata": {},
   "outputs": [],
   "source": [
    "# Define the PyTorch model\n",
    "class EEGNet(nn.Module):\n",
    "    def __init__(self, input_dim):\n",
    "        super(EEGNet, self).__init__()\n",
    "        self.fc1 = nn.Linear(input_dim, 128)\n",
    "        self.dropout1 = nn.Dropout(0.5)\n",
    "        self.fc2 = nn.Linear(128, 64)\n",
    "        self.dropout2 = nn.Dropout(0.5)\n",
    "        self.fc3 = nn.Linear(64, 4)\n",
    "\n",
    "    def forward(self, x):\n",
    "        x = F.relu(self.fc1(x))\n",
    "        x = self.dropout1(x)\n",
    "        x = F.relu(self.fc2(x))\n",
    "        x = self.dropout2(x)\n",
    "        return self.fc3(x)\n",
    "\n",
    "model = EEGNet(input_dim=X_train.shape[1])"
   ]
  },
  {
   "cell_type": "code",
   "execution_count": 21,
   "metadata": {},
   "outputs": [],
   "source": [
    "# Optimizer and loss\n",
    "optimizer = torch.optim.Adam(model.parameters(), lr=1e-3)\n",
    "criterion = nn.CrossEntropyLoss()\n"
   ]
  },
  {
   "cell_type": "code",
   "execution_count": 22,
   "metadata": {},
   "outputs": [
    {
     "name": "stderr",
     "output_type": "stream",
     "text": [
      "C:\\Users\\indir\\anaconda3\\lib\\site-packages\\opacus\\privacy_engine.py:96: UserWarning: Secure RNG turned off. This is perfectly fine for experimentation as it allows for much faster training performance, but remember to turn it on and retrain one last time before production with ``secure_mode`` turned on.\n",
      "  warnings.warn(\n",
      "C:\\Users\\indir\\anaconda3\\lib\\site-packages\\opacus\\accountants\\analysis\\rdp.py:332: UserWarning: Optimal order is the largest alpha. Please consider expanding the range of alphas to get a tighter privacy bound.\n",
      "  warnings.warn(\n"
     ]
    }
   ],
   "source": [
    "# Differential Privacy using Opacus\n",
    "privacy_engine = PrivacyEngine()\n",
    "model, optimizer, train_loader = privacy_engine.make_private_with_epsilon(\n",
    "    module=model,\n",
    "    optimizer=optimizer,\n",
    "    data_loader=train_loader,\n",
    "    epochs=50,\n",
    "    target_epsilon=5.0,\n",
    "    target_delta=1e-5,\n",
    "    max_grad_norm=1.0,\n",
    ")\n"
   ]
  },
  {
   "cell_type": "code",
   "execution_count": 23,
   "metadata": {},
   "outputs": [
    {
     "name": "stderr",
     "output_type": "stream",
     "text": [
      "C:\\Users\\indir\\anaconda3\\lib\\site-packages\\torch\\nn\\modules\\module.py:1842: FutureWarning: Using a non-full backward hook when the forward contains multiple autograd Nodes is deprecated and will be removed in future versions. This hook will be missing some grad_input. Please use register_full_backward_hook to get the documented behavior.\n",
      "  self._maybe_warn_non_full_backward_hook(args, result, grad_fn)\n"
     ]
    },
    {
     "name": "stdout",
     "output_type": "stream",
     "text": [
      "Epoch 1, Loss: 17223.3673\n",
      "Epoch 2, Loss: 17212.3630\n",
      "Epoch 3, Loss: 17184.0258\n",
      "Epoch 4, Loss: 17212.8751\n",
      "Epoch 5, Loss: 17254.8167\n",
      "Epoch 6, Loss: 17301.3131\n",
      "Epoch 7, Loss: 17349.5916\n",
      "Epoch 8, Loss: 17411.8639\n",
      "Epoch 9, Loss: 17428.1034\n",
      "Epoch 10, Loss: 17470.7603\n",
      "Epoch 11, Loss: 17496.1095\n",
      "Epoch 12, Loss: 17525.6380\n",
      "Epoch 13, Loss: 17552.6349\n",
      "Epoch 14, Loss: 17601.1049\n",
      "Epoch 15, Loss: 17657.5166\n",
      "Epoch 16, Loss: 17686.7560\n",
      "Epoch 17, Loss: 17700.8866\n",
      "Epoch 18, Loss: 17712.8735\n",
      "Epoch 19, Loss: 17701.8069\n",
      "Epoch 20, Loss: 17742.5327\n",
      "Epoch 21, Loss: 17776.3819\n",
      "Epoch 22, Loss: 17830.4139\n",
      "Epoch 23, Loss: 17889.6230\n",
      "Epoch 24, Loss: 17944.3503\n",
      "Epoch 25, Loss: 17979.6292\n",
      "Epoch 26, Loss: 18043.9986\n",
      "Epoch 27, Loss: 18072.7634\n",
      "Epoch 28, Loss: 18141.6366\n",
      "Epoch 29, Loss: 18164.6077\n",
      "Epoch 30, Loss: 18205.3014\n",
      "Epoch 31, Loss: 18285.8989\n",
      "Epoch 32, Loss: 18330.5547\n",
      "Epoch 33, Loss: 18380.2579\n",
      "Epoch 34, Loss: 18403.0388\n",
      "Epoch 35, Loss: 18508.6077\n",
      "Epoch 36, Loss: 18506.8337\n",
      "Epoch 37, Loss: 18607.0222\n",
      "Epoch 38, Loss: 18628.5123\n",
      "Epoch 39, Loss: 18643.5140\n",
      "Epoch 40, Loss: 18662.7452\n",
      "Epoch 41, Loss: 18722.9718\n",
      "Epoch 42, Loss: 18662.9321\n",
      "Epoch 43, Loss: 18696.6230\n",
      "Epoch 44, Loss: 18672.7818\n",
      "Epoch 45, Loss: 18679.4353\n",
      "Epoch 46, Loss: 18708.7105\n",
      "Epoch 47, Loss: 18706.5096\n",
      "Epoch 48, Loss: 18779.8720\n",
      "Epoch 49, Loss: 18739.6067\n",
      "Epoch 50, Loss: 18858.2633\n"
     ]
    }
   ],
   "source": [
    "# Train the model\n",
    "model.train()\n",
    "for epoch in range(50):\n",
    "    total_loss = 0\n",
    "    for X_batch, y_batch in train_loader:\n",
    "        optimizer.zero_grad()\n",
    "        outputs = model(X_batch)\n",
    "        loss = criterion(outputs, y_batch)\n",
    "        loss.backward()\n",
    "        optimizer.step()\n",
    "        total_loss += loss.item()\n",
    "    print(f\"Epoch {epoch+1}, Loss: {total_loss:.4f}\")"
   ]
  },
  {
   "cell_type": "code",
   "execution_count": 24,
   "metadata": {},
   "outputs": [],
   "source": [
    "# Save model\n",
    "torch.save(model.state_dict(), \"./models/hand_model_opacus.pth\")"
   ]
  },
  {
   "cell_type": "code",
   "execution_count": null,
   "metadata": {},
   "outputs": [],
   "source": []
  }
 ],
 "metadata": {
  "kaggle": {
   "accelerator": "none",
   "dataSources": [
    {
     "datasetId": 3234543,
     "sourceId": 5625790,
     "sourceType": "datasetVersion"
    }
   ],
   "dockerImageVersionId": 30732,
   "isGpuEnabled": false,
   "isInternetEnabled": false,
   "language": "python",
   "sourceType": "notebook"
  },
  "kernelspec": {
   "display_name": "Python 3 (ipykernel)",
   "language": "python",
   "name": "python3"
  },
  "language_info": {
   "codemirror_mode": {
    "name": "ipython",
    "version": 3
   },
   "file_extension": ".py",
   "mimetype": "text/x-python",
   "name": "python",
   "nbconvert_exporter": "python",
   "pygments_lexer": "ipython3",
   "version": "3.9.16"
  }
 },
 "nbformat": 4,
 "nbformat_minor": 4
}
